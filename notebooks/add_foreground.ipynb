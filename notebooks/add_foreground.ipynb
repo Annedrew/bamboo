{
 "cells": [
  {
   "cell_type": "code",
   "execution_count": 1,
   "metadata": {},
   "outputs": [],
   "source": [
    "from scipy import sparse\n",
    "import pandas as pd\n",
    "import numpy as np"
   ]
  },
  {
   "cell_type": "markdown",
   "metadata": {},
   "source": [
    "## 1. Add foreground system"
   ]
  },
  {
   "cell_type": "markdown",
   "metadata": {},
   "source": [
    "### 1. Create technosphere columns"
   ]
  },
  {
   "cell_type": "markdown",
   "metadata": {},
   "source": [
    "1. Read the file from user input"
   ]
  },
  {
   "cell_type": "code",
   "execution_count": 2,
   "metadata": {},
   "outputs": [],
   "source": [
    "input_tech_df = pd.read_csv(\"user_input.csv\", delimiter=\",\")"
   ]
  },
  {
   "cell_type": "markdown",
   "metadata": {},
   "source": [
    "2. Find all exiobase activties from `A.txt`"
   ]
  },
  {
   "cell_type": "code",
   "execution_count": 3,
   "metadata": {},
   "outputs": [
    {
     "data": {
      "text/plain": [
       "['EU28-Agriculture-Forestry-Fishing',\n",
       " 'EU28-Energy',\n",
       " 'EU28-Natural gas and services related to natural gas extraction, excluding surveying',\n",
       " 'EU28-Industry',\n",
       " 'EU28-Motor Gasoline',\n",
       " 'EU28-Gas/Diesel Oil',\n",
       " 'EU28-Refinery Feedstocks',\n",
       " 'EU28-Lubricants',\n",
       " 'EU28-P- and other fertiliser',\n",
       " 'EU28-Chemicals nec',\n",
       " 'EU28-Biogasoline',\n",
       " 'EU28-Biodiesels',\n",
       " 'EU28-Cement, lime and plaster',\n",
       " 'EU28-Basic iron and steel and of ferro-alloys and first products thereof',\n",
       " 'EU28-Aluminium and aluminium products',\n",
       " 'EU28-Copper products',\n",
       " 'EU28-Electricity by coal',\n",
       " 'EU28-Electricity by gas',\n",
       " 'EU28-Electricity by nuclear',\n",
       " 'EU28-Electricity by hydro',\n",
       " 'EU28-Electricity by wind',\n",
       " 'EU28-Electricity by petroleum and other oil derivatives',\n",
       " 'EU28-Electricity by biomass and waste',\n",
       " 'EU28-Electricity by solar photovoltaic',\n",
       " 'EU28-Electricity by solar thermal',\n",
       " 'EU28-Electricity by tide, wave, ocean',\n",
       " 'EU28-Electricity by Geothermal',\n",
       " 'EU28-Electricity nec',\n",
       " 'EU28-Steam and hot water supply services',\n",
       " 'EU28-Collected and purified water, distribution services of water (41)',\n",
       " 'EU28-Services',\n",
       " 'EU28-Railway transportation services',\n",
       " 'EU28-Other land transportation services',\n",
       " 'EU28-Waste management',\n",
       " 'EU28-Intert/metal waste for treatment: incineration',\n",
       " 'EU28-Sewage sludge for treatment: biogasification and land application',\n",
       " 'EU28-Other waste for treatment: waste water treatment',\n",
       " 'EU28-Inert/metal/hazardous waste for treatment: landfill',\n",
       " 'RoW-Agriculture-Forestry-Fishing',\n",
       " 'RoW-Energy',\n",
       " 'RoW-Natural gas and services related to natural gas extraction, excluding surveying',\n",
       " 'RoW-Industry',\n",
       " 'RoW-Motor Gasoline',\n",
       " 'RoW-Gas/Diesel Oil',\n",
       " 'RoW-Refinery Feedstocks',\n",
       " 'RoW-Lubricants',\n",
       " 'RoW-P- and other fertiliser',\n",
       " 'RoW-Chemicals nec',\n",
       " 'RoW-Biogasoline',\n",
       " 'RoW-Biodiesels',\n",
       " 'RoW-Cement, lime and plaster',\n",
       " 'RoW-Basic iron and steel and of ferro-alloys and first products thereof',\n",
       " 'RoW-Aluminium and aluminium products',\n",
       " 'RoW-Copper products',\n",
       " 'RoW-Electricity by coal',\n",
       " 'RoW-Electricity by gas',\n",
       " 'RoW-Electricity by nuclear',\n",
       " 'RoW-Electricity by hydro',\n",
       " 'RoW-Electricity by wind',\n",
       " 'RoW-Electricity by petroleum and other oil derivatives',\n",
       " 'RoW-Electricity by biomass and waste',\n",
       " 'RoW-Electricity by solar photovoltaic',\n",
       " 'RoW-Electricity by solar thermal',\n",
       " 'RoW-Electricity by tide, wave, ocean',\n",
       " 'RoW-Electricity by Geothermal',\n",
       " 'RoW-Electricity nec',\n",
       " 'RoW-Steam and hot water supply services',\n",
       " 'RoW-Collected and purified water, distribution services of water (41)',\n",
       " 'RoW-Services',\n",
       " 'RoW-Railway transportation services',\n",
       " 'RoW-Other land transportation services',\n",
       " 'RoW-Waste management',\n",
       " 'RoW-Intert/metal waste for treatment: incineration',\n",
       " 'RoW-Sewage sludge for treatment: biogasification and land application',\n",
       " 'RoW-Other waste for treatment: waste water treatment',\n",
       " 'RoW-Inert/metal/hazardous waste for treatment: landfill']"
      ]
     },
     "execution_count": 3,
     "metadata": {},
     "output_type": "execute_result"
    }
   ],
   "source": [
    "df = pd.read_csv(\"A.txt\", delimiter=\"\\t\")\n",
    "activities = df.iloc[2:, 0] + \"-\" + df.iloc[2:, 1]\n",
    "activities = activities.to_list()\n",
    "activities"
   ]
  },
  {
   "cell_type": "markdown",
   "metadata": {},
   "source": [
    "3. Get all exchanges from user's input"
   ]
  },
  {
   "cell_type": "code",
   "execution_count": 4,
   "metadata": {},
   "outputs": [
    {
     "data": {
      "text/plain": [
       "['Use stage',\n",
       " 'Production stage',\n",
       " 'Enf of life stage',\n",
       " 'RoW-Agriculture-Forestry-Fishing',\n",
       " 'EU28-Energy',\n",
       " 'EU28-Basic iron and steel and of ferro-alloys and first products thereof',\n",
       " 'RoW-Energy',\n",
       " 'CO2 - waste - fossil - air',\n",
       " 'CO2 - waste - biogenic - air',\n",
       " 'CO2 - agriculture - peat decay - air']"
      ]
     },
     "execution_count": 4,
     "metadata": {},
     "output_type": "execute_result"
    }
   ],
   "source": [
    "exchanges = input_tech_df.iloc[:, 0].to_list()\n",
    "exchanges"
   ]
  },
  {
   "cell_type": "markdown",
   "metadata": {},
   "source": [
    "4. Get the activities that need to be changed."
   ]
  },
  {
   "cell_type": "code",
   "execution_count": 5,
   "metadata": {},
   "outputs": [
    {
     "data": {
      "text/plain": [
       "['RoW-Agriculture-Forestry-Fishing',\n",
       " 'EU28-Energy',\n",
       " 'EU28-Basic iron and steel and of ferro-alloys and first products thereof',\n",
       " 'RoW-Energy']"
      ]
     },
     "execution_count": 5,
     "metadata": {},
     "output_type": "execute_result"
    }
   ],
   "source": [
    "activity_change = list(set(activities) & set(exchanges))  # this use the property of set: a set cannot conclude duplicate elements.\n",
    "activity_change"
   ]
  },
  {
   "cell_type": "markdown",
   "metadata": {},
   "source": [
    "5. Select to get the data of each `activity_change`"
   ]
  },
  {
   "cell_type": "code",
   "execution_count": 6,
   "metadata": {},
   "outputs": [
    {
     "data": {
      "text/html": [
       "<div>\n",
       "<style scoped>\n",
       "    .dataframe tbody tr th:only-of-type {\n",
       "        vertical-align: middle;\n",
       "    }\n",
       "\n",
       "    .dataframe tbody tr th {\n",
       "        vertical-align: top;\n",
       "    }\n",
       "\n",
       "    .dataframe thead th {\n",
       "        text-align: right;\n",
       "    }\n",
       "</style>\n",
       "<table border=\"1\" class=\"dataframe\">\n",
       "  <thead>\n",
       "    <tr style=\"text-align: right;\">\n",
       "      <th></th>\n",
       "      <th>Process</th>\n",
       "      <th>Use stage</th>\n",
       "      <th>Production stage</th>\n",
       "      <th>Enf of life stage</th>\n",
       "    </tr>\n",
       "  </thead>\n",
       "  <tbody>\n",
       "    <tr>\n",
       "      <th>3</th>\n",
       "      <td>RoW-Agriculture-Forestry-Fishing</td>\n",
       "      <td>0.0</td>\n",
       "      <td>0.0</td>\n",
       "      <td>0</td>\n",
       "    </tr>\n",
       "    <tr>\n",
       "      <th>4</th>\n",
       "      <td>EU28-Energy</td>\n",
       "      <td>4.0</td>\n",
       "      <td>0.0</td>\n",
       "      <td>0</td>\n",
       "    </tr>\n",
       "    <tr>\n",
       "      <th>5</th>\n",
       "      <td>EU28-Basic iron and steel and of ferro-alloys ...</td>\n",
       "      <td>0.0</td>\n",
       "      <td>2.4</td>\n",
       "      <td>0</td>\n",
       "    </tr>\n",
       "    <tr>\n",
       "      <th>6</th>\n",
       "      <td>RoW-Energy</td>\n",
       "      <td>3.5</td>\n",
       "      <td>0.0</td>\n",
       "      <td>0</td>\n",
       "    </tr>\n",
       "  </tbody>\n",
       "</table>\n",
       "</div>"
      ],
      "text/plain": [
       "                                             Process  Use stage  \\\n",
       "3                   RoW-Agriculture-Forestry-Fishing        0.0   \n",
       "4                                        EU28-Energy        4.0   \n",
       "5  EU28-Basic iron and steel and of ferro-alloys ...        0.0   \n",
       "6                                         RoW-Energy        3.5   \n",
       "\n",
       "   Production stage  Enf of life stage  \n",
       "3               0.0                  0  \n",
       "4               0.0                  0  \n",
       "5               2.4                  0  \n",
       "6               0.0                  0  "
      ]
     },
     "execution_count": 6,
     "metadata": {},
     "output_type": "execute_result"
    }
   ],
   "source": [
    "activity_change_df = input_tech_df[input_tech_df[\"Process\"].isin(activity_change)]\n",
    "activity_change_df"
   ]
  },
  {
   "cell_type": "markdown",
   "metadata": {},
   "source": [
    "6. Get the indices of activity_change"
   ]
  },
  {
   "cell_type": "code",
   "execution_count": 7,
   "metadata": {},
   "outputs": [
    {
     "name": "stdout",
     "output_type": "stream",
     "text": [
      "[38, 1, 13, 39]\n"
     ]
    }
   ],
   "source": [
    "tech_row_index = [] # here tech_index means row index of technosphere\n",
    "for act in activity_change:\n",
    "    tech_row_index.append(activities.index(act))\n",
    "print(tech_row_index)"
   ]
  },
  {
   "cell_type": "markdown",
   "metadata": {},
   "source": [
    "7. Build original matrix"
   ]
  },
  {
   "cell_type": "code",
   "execution_count": 8,
   "metadata": {},
   "outputs": [],
   "source": [
    "raw_tech = df.iloc[2:, 2:].astype('float').to_numpy()\n",
    "identity_matrix = np.identity(len(raw_tech))\n",
    "tech_matrix = - (identity_matrix - raw_tech)\n",
    "np.fill_diagonal(tech_matrix, -tech_matrix.diagonal())"
   ]
  },
  {
   "cell_type": "markdown",
   "metadata": {},
   "source": [
    "8. Define a function to add columns (call to add one column at a time)"
   ]
  },
  {
   "cell_type": "code",
   "execution_count": 9,
   "metadata": {},
   "outputs": [],
   "source": [
    "def add_column(input_column, new_column, indices):\n",
    "    k = 0  # we use k to count activity_change equals to zero\n",
    "    for index, data in zip(indices, input_column):\n",
    "        if data == 0:\n",
    "            k += 1\n",
    "        new_column[index] = data\n",
    "    print(f\"{k} of the activity_change gives zero.\")\n",
    "\n",
    "    return new_column"
   ]
  },
  {
   "cell_type": "markdown",
   "metadata": {},
   "source": [
    "9. Add each column iteratively"
   ]
  },
  {
   "cell_type": "code",
   "execution_count": null,
   "metadata": {},
   "outputs": [
    {
     "data": {
      "text/html": [
       "<div>\n",
       "<style scoped>\n",
       "    .dataframe tbody tr th:only-of-type {\n",
       "        vertical-align: middle;\n",
       "    }\n",
       "\n",
       "    .dataframe tbody tr th {\n",
       "        vertical-align: top;\n",
       "    }\n",
       "\n",
       "    .dataframe thead th {\n",
       "        text-align: right;\n",
       "    }\n",
       "</style>\n",
       "<table border=\"1\" class=\"dataframe\">\n",
       "  <thead>\n",
       "    <tr style=\"text-align: right;\">\n",
       "      <th></th>\n",
       "      <th>Use stage</th>\n",
       "      <th>Production stage</th>\n",
       "      <th>Enf of life stage</th>\n",
       "    </tr>\n",
       "  </thead>\n",
       "  <tbody>\n",
       "    <tr>\n",
       "      <th>3</th>\n",
       "      <td>0.0</td>\n",
       "      <td>0.0</td>\n",
       "      <td>0</td>\n",
       "    </tr>\n",
       "    <tr>\n",
       "      <th>4</th>\n",
       "      <td>4.0</td>\n",
       "      <td>0.0</td>\n",
       "      <td>0</td>\n",
       "    </tr>\n",
       "    <tr>\n",
       "      <th>5</th>\n",
       "      <td>0.0</td>\n",
       "      <td>2.4</td>\n",
       "      <td>0</td>\n",
       "    </tr>\n",
       "    <tr>\n",
       "      <th>6</th>\n",
       "      <td>3.5</td>\n",
       "      <td>0.0</td>\n",
       "      <td>0</td>\n",
       "    </tr>\n",
       "  </tbody>\n",
       "</table>\n",
       "</div>"
      ],
      "text/plain": [
       "   Use stage  Production stage  Enf of life stage\n",
       "3        0.0               0.0                  0\n",
       "4        4.0               0.0                  0\n",
       "5        0.0               2.4                  0\n",
       "6        3.5               0.0                  0"
      ]
     },
     "execution_count": 10,
     "metadata": {},
     "output_type": "execute_result"
    }
   ],
   "source": [
    "# those are the data need to be added\n",
    "activity_change_df.iloc[:, 1:]"
   ]
  },
  {
   "cell_type": "code",
   "execution_count": null,
   "metadata": {},
   "outputs": [
    {
     "data": {
      "text/plain": [
       "3"
      ]
     },
     "execution_count": 11,
     "metadata": {},
     "output_type": "execute_result"
    }
   ],
   "source": [
    "# get the number of the column that need to be added.\n",
    "number_of_column = activity_change_df.iloc[:, 1:].shape[1]\n",
    "number_of_column"
   ]
  },
  {
   "cell_type": "code",
   "execution_count": 12,
   "metadata": {},
   "outputs": [
    {
     "name": "stdout",
     "output_type": "stream",
     "text": [
      "2 of the activity_change gives zero.\n",
      "3 of the activity_change gives zero.\n",
      "4 of the activity_change gives zero.\n",
      "(76, 3)\n"
     ]
    }
   ],
   "source": [
    "columns = []\n",
    "for i in range(number_of_column):  \n",
    "    column = np.zeros(len(tech_matrix))  # Create a all zero list\n",
    "    columns.append(add_column(activity_change_df.iloc[:, i+1],  # By default, additional columns start from column number 1\n",
    "                              column, \n",
    "                              tech_row_index))  # here again it's the row index of technosphere, not datapackage indices.\n",
    "\n",
    "tech_columns = np.vstack(columns).T\n",
    "print(tech_columns.shape)\n"
   ]
  },
  {
   "cell_type": "markdown",
   "metadata": {},
   "source": [
    "### 2. Create biosphere columns"
   ]
  },
  {
   "cell_type": "markdown",
   "metadata": {},
   "source": [
    "1. Read user's input"
   ]
  },
  {
   "cell_type": "code",
   "execution_count": 13,
   "metadata": {},
   "outputs": [],
   "source": [
    "input_bio_df = pd.read_csv(\"user_input.csv\", delimiter=\",\")  # this is actually reading the same file as the add technosphere columns step."
   ]
  },
  {
   "cell_type": "markdown",
   "metadata": {},
   "source": [
    "2. Get all emissions for biosphere"
   ]
  },
  {
   "cell_type": "code",
   "execution_count": 14,
   "metadata": {},
   "outputs": [],
   "source": [
    "# I copy this from our project code\n",
    "GHG = [\"CO2 - combustion - air\",\n",
    "        \"CO2 - non combustion - Cement production - air\",\n",
    "        \"CO2 - non combustion - Lime production - air\",\n",
    "        \"CO2 - waste - biogenic - air\", \n",
    "        \"CO2 - waste - fossil - air\",\n",
    "        \"CO2 - agriculture - peat decay - air\", \n",
    "        \"CH4 - agriculture - air\",\n",
    "        \"CH4 - waste - air\",\n",
    "        \"CH4 - combustion - air\",\n",
    "        \"CH4 - non combustion - Extraction/production of (natural) gas - air\",\n",
    "        \"CH4 - non combustion - Extraction/production of crude oil - air\",\n",
    "        \"CH4 - non combustion - Mining of antracite - air\",\n",
    "        \"CH4 - non combustion - Mining of bituminous coal - air\",\n",
    "        \"CH4 - non combustion - Mining of coking coal - air\",\n",
    "        \"CH4 - non combustion - Mining of lignite (brown coal) - air\",\n",
    "        \"CH4 - non combustion - Mining of sub-bituminous coal - air\",\n",
    "        \"CH4 - non combustion - Oil refinery - air\",\n",
    "        \"N2O - combustion - air\",\n",
    "        \"N2O - agriculture - air\",\n",
    "        \"SF6 - air\"]"
   ]
  },
  {
   "cell_type": "markdown",
   "metadata": {},
   "source": [
    "3. Find all emissions from user's input"
   ]
  },
  {
   "cell_type": "code",
   "execution_count": 15,
   "metadata": {},
   "outputs": [
    {
     "data": {
      "text/plain": [
       "['CO2 - waste - fossil - air',\n",
       " 'CO2 - waste - biogenic - air',\n",
       " 'CO2 - agriculture - peat decay - air']"
      ]
     },
     "execution_count": 15,
     "metadata": {},
     "output_type": "execute_result"
    }
   ],
   "source": [
    "bio_change_df = input_bio_df[input_bio_df[\"Process\"].isin(GHG)].copy()\n",
    "bio_change = bio_change_df.iloc[:, 0].to_list()\n",
    "bio_change"
   ]
  },
  {
   "cell_type": "markdown",
   "metadata": {},
   "source": [
    "4. Find the indices"
   ]
  },
  {
   "cell_type": "code",
   "execution_count": 16,
   "metadata": {},
   "outputs": [
    {
     "data": {
      "text/plain": [
       "[4, 3, 5]"
      ]
     },
     "execution_count": 16,
     "metadata": {},
     "output_type": "execute_result"
    }
   ],
   "source": [
    "bio_row_index = []\n",
    "for bio in bio_change:\n",
    "    bio_row_index.append(GHG.index(bio))\n",
    "\n",
    "bio_row_index"
   ]
  },
  {
   "cell_type": "markdown",
   "metadata": {},
   "source": [
    "5. Build original biosphere matrix"
   ]
  },
  {
   "cell_type": "code",
   "execution_count": 17,
   "metadata": {},
   "outputs": [
    {
     "data": {
      "text/html": [
       "<div>\n",
       "<style scoped>\n",
       "    .dataframe tbody tr th:only-of-type {\n",
       "        vertical-align: middle;\n",
       "    }\n",
       "\n",
       "    .dataframe tbody tr th {\n",
       "        vertical-align: top;\n",
       "    }\n",
       "\n",
       "    .dataframe thead th {\n",
       "        text-align: right;\n",
       "    }\n",
       "</style>\n",
       "<table border=\"1\" class=\"dataframe\">\n",
       "  <thead>\n",
       "    <tr style=\"text-align: right;\">\n",
       "      <th></th>\n",
       "      <th>EU28</th>\n",
       "      <th>EU28.1</th>\n",
       "      <th>EU28.2</th>\n",
       "      <th>EU28.3</th>\n",
       "      <th>EU28.4</th>\n",
       "      <th>EU28.5</th>\n",
       "      <th>EU28.6</th>\n",
       "      <th>EU28.7</th>\n",
       "      <th>EU28.8</th>\n",
       "      <th>EU28.9</th>\n",
       "      <th>...</th>\n",
       "      <th>RoW.28</th>\n",
       "      <th>RoW.29</th>\n",
       "      <th>RoW.30</th>\n",
       "      <th>RoW.31</th>\n",
       "      <th>RoW.32</th>\n",
       "      <th>RoW.33</th>\n",
       "      <th>RoW.34</th>\n",
       "      <th>RoW.35</th>\n",
       "      <th>RoW.36</th>\n",
       "      <th>RoW.37</th>\n",
       "    </tr>\n",
       "  </thead>\n",
       "  <tbody>\n",
       "    <tr>\n",
       "      <th>25</th>\n",
       "      <td>69271.9534625</td>\n",
       "      <td>224902.521363</td>\n",
       "      <td>1587172.07116</td>\n",
       "      <td>48660.9000799</td>\n",
       "      <td>264966.103741</td>\n",
       "      <td>272078.927373</td>\n",
       "      <td>240242.756561</td>\n",
       "      <td>250157.081085</td>\n",
       "      <td>448857.504502</td>\n",
       "      <td>134383.541381</td>\n",
       "      <td>...</td>\n",
       "      <td>51147394.4634</td>\n",
       "      <td>277620.386813</td>\n",
       "      <td>48038.2827372</td>\n",
       "      <td>269140.508066</td>\n",
       "      <td>23946.3826027</td>\n",
       "      <td>190043.080718</td>\n",
       "      <td>1769950.15388</td>\n",
       "      <td>81146.3101981</td>\n",
       "      <td>50915.3559395</td>\n",
       "      <td>50286.2192493</td>\n",
       "    </tr>\n",
       "    <tr>\n",
       "      <th>26</th>\n",
       "      <td>17.9844072657</td>\n",
       "      <td>34.3942741243</td>\n",
       "      <td>619.8296864</td>\n",
       "      <td>11.9501794102</td>\n",
       "      <td>76.3234853957</td>\n",
       "      <td>80.0336423169</td>\n",
       "      <td>69.9122683148</td>\n",
       "      <td>77.5327909472</td>\n",
       "      <td>109.287554409</td>\n",
       "      <td>39.1435112998</td>\n",
       "      <td>...</td>\n",
       "      <td>6184.68117076</td>\n",
       "      <td>34.0905512004</td>\n",
       "      <td>12.1928975352</td>\n",
       "      <td>14.4986153271</td>\n",
       "      <td>2.25545832441</td>\n",
       "      <td>39.4673494252</td>\n",
       "      <td>296.253879822</td>\n",
       "      <td>20.1630038092</td>\n",
       "      <td>11.8073815707</td>\n",
       "      <td>13.0264152456</td>\n",
       "    </tr>\n",
       "    <tr>\n",
       "      <th>27</th>\n",
       "      <td>2.19718421163</td>\n",
       "      <td>3.01196685117</td>\n",
       "      <td>3.69253097526</td>\n",
       "      <td>1.71578825134</td>\n",
       "      <td>1.51688019166</td>\n",
       "      <td>1.55677757941</td>\n",
       "      <td>1.40469103455</td>\n",
       "      <td>1.59218945473</td>\n",
       "      <td>4.579294613</td>\n",
       "      <td>0.853479528452</td>\n",
       "      <td>...</td>\n",
       "      <td>1035.24850688</td>\n",
       "      <td>4.74953147194</td>\n",
       "      <td>1.13955663864</td>\n",
       "      <td>7.1977005388</td>\n",
       "      <td>0.519371913583</td>\n",
       "      <td>5.73557722091</td>\n",
       "      <td>55.6068916808</td>\n",
       "      <td>1.38856482356</td>\n",
       "      <td>0.637694131205</td>\n",
       "      <td>0.710205513987</td>\n",
       "    </tr>\n",
       "    <tr>\n",
       "      <th>69</th>\n",
       "      <td>2.13043226587</td>\n",
       "      <td>301.456635812</td>\n",
       "      <td>31379.9656223</td>\n",
       "      <td>59.2994501815</td>\n",
       "      <td>91.1452491013</td>\n",
       "      <td>77.3341780604</td>\n",
       "      <td>43.7932278174</td>\n",
       "      <td>96.7862416276</td>\n",
       "      <td>143.451412854</td>\n",
       "      <td>39.2975157085</td>\n",
       "      <td>...</td>\n",
       "      <td>42.6957140569</td>\n",
       "      <td>1.30332276205</td>\n",
       "      <td>9.96476766914</td>\n",
       "      <td>14.0108040123</td>\n",
       "      <td>8.90344177292</td>\n",
       "      <td>15.1739023148</td>\n",
       "      <td>16.3917637426</td>\n",
       "      <td>89.1575242408</td>\n",
       "      <td>20.9670138487</td>\n",
       "      <td>16.4812599126</td>\n",
       "    </tr>\n",
       "    <tr>\n",
       "      <th>70</th>\n",
       "      <td>1.82848728601</td>\n",
       "      <td>1757.66178494</td>\n",
       "      <td>16.958877416</td>\n",
       "      <td>35.0365130978</td>\n",
       "      <td>664.668188331</td>\n",
       "      <td>65.3006528236</td>\n",
       "      <td>222.152424537</td>\n",
       "      <td>288.193012364</td>\n",
       "      <td>142.980318874</td>\n",
       "      <td>51.4509388264</td>\n",
       "      <td>...</td>\n",
       "      <td>189.330730329</td>\n",
       "      <td>2.61016094932</td>\n",
       "      <td>9.73766422902</td>\n",
       "      <td>31.7382149792</td>\n",
       "      <td>11.5136729761</td>\n",
       "      <td>24.9240945113</td>\n",
       "      <td>14.3809378555</td>\n",
       "      <td>140.993574087</td>\n",
       "      <td>3.1117788729</td>\n",
       "      <td>52.7295912098</td>\n",
       "    </tr>\n",
       "    <tr>\n",
       "      <th>71</th>\n",
       "      <td>0.0269758079072</td>\n",
       "      <td>20.3928414953</td>\n",
       "      <td>0.00125794760375</td>\n",
       "      <td>0.0217202439629</td>\n",
       "      <td>0.146401638576</td>\n",
       "      <td>0.159952280928</td>\n",
       "      <td>0.153252801977</td>\n",
       "      <td>0.124777552703</td>\n",
       "      <td>0.512458533464</td>\n",
       "      <td>0.30650137405</td>\n",
       "      <td>...</td>\n",
       "      <td>4.39866159203</td>\n",
       "      <td>2.71302934484</td>\n",
       "      <td>0.197112281433</td>\n",
       "      <td>1.31413097803</td>\n",
       "      <td>0.430308952808</td>\n",
       "      <td>5.77375472514</td>\n",
       "      <td>17.1846604227</td>\n",
       "      <td>6.24102170529</td>\n",
       "      <td>3.33102492795</td>\n",
       "      <td>7.07417490613</td>\n",
       "    </tr>\n",
       "    <tr>\n",
       "      <th>72</th>\n",
       "      <td>0.119730927821</td>\n",
       "      <td>608.100959292</td>\n",
       "      <td>0.386101442319</td>\n",
       "      <td>1.79110398294</td>\n",
       "      <td>0.589950669195</td>\n",
       "      <td>0.719545791469</td>\n",
       "      <td>0.365643376265</td>\n",
       "      <td>0.56923642167</td>\n",
       "      <td>0.94876750247</td>\n",
       "      <td>0.609325538112</td>\n",
       "      <td>...</td>\n",
       "      <td>147.433311932</td>\n",
       "      <td>48.2725084197</td>\n",
       "      <td>9.16577431711</td>\n",
       "      <td>116.137251149</td>\n",
       "      <td>38.2088787988</td>\n",
       "      <td>117.924564192</td>\n",
       "      <td>378.653483842</td>\n",
       "      <td>137.03813274</td>\n",
       "      <td>171.248940063</td>\n",
       "      <td>134.773594853</td>\n",
       "    </tr>\n",
       "    <tr>\n",
       "      <th>73</th>\n",
       "      <td>0.216618044851</td>\n",
       "      <td>253.342924877</td>\n",
       "      <td>0.323371746143</td>\n",
       "      <td>0.465341733634</td>\n",
       "      <td>1.38487469554</td>\n",
       "      <td>1.55771863539</td>\n",
       "      <td>1.16745453768</td>\n",
       "      <td>1.06432757471</td>\n",
       "      <td>0.510206440808</td>\n",
       "      <td>0.386689005053</td>\n",
       "      <td>...</td>\n",
       "      <td>22.063482616</td>\n",
       "      <td>9.22241807107</td>\n",
       "      <td>2.15221812466</td>\n",
       "      <td>5.97030411535</td>\n",
       "      <td>2.88517848655</td>\n",
       "      <td>18.0890099388</td>\n",
       "      <td>66.3029055331</td>\n",
       "      <td>21.7848598906</td>\n",
       "      <td>11.4889887605</td>\n",
       "      <td>31.6175270741</td>\n",
       "    </tr>\n",
       "    <tr>\n",
       "      <th>74</th>\n",
       "      <td>0.20694486994</td>\n",
       "      <td>243.821137923</td>\n",
       "      <td>21.3550322084</td>\n",
       "      <td>0.278143819861</td>\n",
       "      <td>0.663525716614</td>\n",
       "      <td>0.738393109613</td>\n",
       "      <td>0.581068395198</td>\n",
       "      <td>0.495003831874</td>\n",
       "      <td>1.76909769466</td>\n",
       "      <td>0.58411613156</td>\n",
       "      <td>...</td>\n",
       "      <td>0.78608124025</td>\n",
       "      <td>0.372286741496</td>\n",
       "      <td>0.0751445603568</td>\n",
       "      <td>1.22442842332</td>\n",
       "      <td>0.389836082417</td>\n",
       "      <td>0.643302851851</td>\n",
       "      <td>1.74759708073</td>\n",
       "      <td>0.674579319882</td>\n",
       "      <td>0.279211073834</td>\n",
       "      <td>1.08194332315</td>\n",
       "    </tr>\n",
       "    <tr>\n",
       "      <th>75</th>\n",
       "      <td>0.00055343325484</td>\n",
       "      <td>5.47008727712</td>\n",
       "      <td>0.003266127279</td>\n",
       "      <td>0.00802216499854</td>\n",
       "      <td>0.000186051338172</td>\n",
       "      <td>0.000163108722548</td>\n",
       "      <td>0.0017652874165</td>\n",
       "      <td>0.00186425598589</td>\n",
       "      <td>0.43433741245</td>\n",
       "      <td>0.272543033889</td>\n",
       "      <td>...</td>\n",
       "      <td>18.1496951497</td>\n",
       "      <td>1.29286671614</td>\n",
       "      <td>0.630916523033</td>\n",
       "      <td>5.92490149199</td>\n",
       "      <td>3.24935287819</td>\n",
       "      <td>2.76543725181</td>\n",
       "      <td>8.79162613065</td>\n",
       "      <td>3.12688851417</td>\n",
       "      <td>1.13021200103</td>\n",
       "      <td>2.2665074386</td>\n",
       "    </tr>\n",
       "    <tr>\n",
       "      <th>76</th>\n",
       "      <td>0.0562554208752</td>\n",
       "      <td>100.70422238</td>\n",
       "      <td>87.8607470937</td>\n",
       "      <td>0.328328159143</td>\n",
       "      <td>293.912469557</td>\n",
       "      <td>294.113134527</td>\n",
       "      <td>349.789074311</td>\n",
       "      <td>547.473678444</td>\n",
       "      <td>83.5842735206</td>\n",
       "      <td>36.7745923171</td>\n",
       "      <td>...</td>\n",
       "      <td>11.0166868152</td>\n",
       "      <td>0.0375928488069</td>\n",
       "      <td>0.0487470911104</td>\n",
       "      <td>0.062312283498</td>\n",
       "      <td>0.0619712329607</td>\n",
       "      <td>0.172313517387</td>\n",
       "      <td>0.297962047081</td>\n",
       "      <td>0.190887676913</td>\n",
       "      <td>0.612037329806</td>\n",
       "      <td>0.0583241807314</td>\n",
       "    </tr>\n",
       "    <tr>\n",
       "      <th>94</th>\n",
       "      <td>111.657044966</td>\n",
       "      <td>326.772075568</td>\n",
       "      <td>14.5794544782</td>\n",
       "      <td>798.321707155</td>\n",
       "      <td>140.815824131</td>\n",
       "      <td>130.606698739</td>\n",
       "      <td>39.010281291</td>\n",
       "      <td>93.9373936412</td>\n",
       "      <td>3275.5208841</td>\n",
       "      <td>1618.51514206</td>\n",
       "      <td>...</td>\n",
       "      <td>3716.57859941</td>\n",
       "      <td>1028.67199022</td>\n",
       "      <td>463.776309981</td>\n",
       "      <td>957.07864697</td>\n",
       "      <td>392.996973723</td>\n",
       "      <td>3896.51241497</td>\n",
       "      <td>8669.73399143</td>\n",
       "      <td>4069.0931953</td>\n",
       "      <td>1115.15388949</td>\n",
       "      <td>4319.86073241</td>\n",
       "    </tr>\n",
       "    <tr>\n",
       "      <th>95</th>\n",
       "      <td>57.6029465457</td>\n",
       "      <td>64.8498046123</td>\n",
       "      <td>6.86348286154</td>\n",
       "      <td>296.390133922</td>\n",
       "      <td>68.5513897763</td>\n",
       "      <td>60.3244532154</td>\n",
       "      <td>42.9020563831</td>\n",
       "      <td>52.475600756</td>\n",
       "      <td>1443.07115534</td>\n",
       "      <td>579.449469512</td>\n",
       "      <td>...</td>\n",
       "      <td>1204.29118155</td>\n",
       "      <td>294.398422555</td>\n",
       "      <td>133.538149535</td>\n",
       "      <td>287.212194809</td>\n",
       "      <td>120.813126696</td>\n",
       "      <td>1120.2395855</td>\n",
       "      <td>2559.22662978</td>\n",
       "      <td>1114.83524728</td>\n",
       "      <td>328.857867903</td>\n",
       "      <td>1216.02198705</td>\n",
       "    </tr>\n",
       "    <tr>\n",
       "      <th>425</th>\n",
       "      <td>0.192074545381</td>\n",
       "      <td>0.322885896845</td>\n",
       "      <td>0.702516504467</td>\n",
       "      <td>0.078718436855</td>\n",
       "      <td>0.164158954919</td>\n",
       "      <td>0.178252119519</td>\n",
       "      <td>0.1173402735</td>\n",
       "      <td>0.363054476018</td>\n",
       "      <td>0.578802650572</td>\n",
       "      <td>0.372463096186</td>\n",
       "      <td>...</td>\n",
       "      <td>0.0034115574554</td>\n",
       "      <td>0.00079590188496</td>\n",
       "      <td>0.00028786633113</td>\n",
       "      <td>0.000542787278521</td>\n",
       "      <td>0.000790804989581</td>\n",
       "      <td>1.439780804</td>\n",
       "      <td>0.0191183100622</td>\n",
       "      <td>0.942383643901</td>\n",
       "      <td>1.6346989931</td>\n",
       "      <td>0.00122051445016</td>\n",
       "    </tr>\n",
       "    <tr>\n",
       "      <th>428</th>\n",
       "      <td>5275.73484381</td>\n",
       "      <td>18.4898584813</td>\n",
       "      <td>0</td>\n",
       "      <td>0.666512398831</td>\n",
       "      <td>0.000971951911163</td>\n",
       "      <td>0.00123629130716</td>\n",
       "      <td>0</td>\n",
       "      <td>0</td>\n",
       "      <td>0.73963658521</td>\n",
       "      <td>0.245963142469</td>\n",
       "      <td>...</td>\n",
       "      <td>848.960130031</td>\n",
       "      <td>157.088470284</td>\n",
       "      <td>35.5376191922</td>\n",
       "      <td>7.7082708022</td>\n",
       "      <td>34.8802515104</td>\n",
       "      <td>523.827479926</td>\n",
       "      <td>1477.29972976</td>\n",
       "      <td>239.103612296</td>\n",
       "      <td>141.332820374</td>\n",
       "      <td>173.623011095</td>\n",
       "    </tr>\n",
       "    <tr>\n",
       "      <th>429</th>\n",
       "      <td>5674.01366079</td>\n",
       "      <td>2.9061786067</td>\n",
       "      <td>1.89684646058e-05</td>\n",
       "      <td>1.18286219102</td>\n",
       "      <td>0.00100492170778</td>\n",
       "      <td>0.00127822781913</td>\n",
       "      <td>2.60183264417e-05</td>\n",
       "      <td>0.000139424226645</td>\n",
       "      <td>0.724274922442</td>\n",
       "      <td>0.25782036654</td>\n",
       "      <td>...</td>\n",
       "      <td>15.0501946126</td>\n",
       "      <td>2.46484762693</td>\n",
       "      <td>8.40475363528</td>\n",
       "      <td>6.04843811671</td>\n",
       "      <td>11.3845994233</td>\n",
       "      <td>130.749032963</td>\n",
       "      <td>556.570420479</td>\n",
       "      <td>156.535431652</td>\n",
       "      <td>34.1266932197</td>\n",
       "      <td>61.5793284661</td>\n",
       "    </tr>\n",
       "    <tr>\n",
       "      <th>431</th>\n",
       "      <td>374.584887113</td>\n",
       "      <td>0.734821580717</td>\n",
       "      <td>1.27500830678e-06</td>\n",
       "      <td>0.137625701415</td>\n",
       "      <td>0.00037956455874</td>\n",
       "      <td>0.000482793808095</td>\n",
       "      <td>6.62877417584e-06</td>\n",
       "      <td>3.5521566506e-05</td>\n",
       "      <td>0.152523383553</td>\n",
       "      <td>0.0503525890106</td>\n",
       "      <td>...</td>\n",
       "      <td>50.952066012</td>\n",
       "      <td>8.18247380789</td>\n",
       "      <td>2.7405738269</td>\n",
       "      <td>1.18974142447</td>\n",
       "      <td>2.43560984043</td>\n",
       "      <td>38.4030722947</td>\n",
       "      <td>120.014590626</td>\n",
       "      <td>30.3853220098</td>\n",
       "      <td>9.7710743728</td>\n",
       "      <td>14.4590824054</td>\n",
       "    </tr>\n",
       "    <tr>\n",
       "      <th>437</th>\n",
       "      <td>4.93814399728</td>\n",
       "      <td>28.6063226999</td>\n",
       "      <td>3.17593426853</td>\n",
       "      <td>16.5773497497</td>\n",
       "      <td>1.53795632285</td>\n",
       "      <td>1.9108703856</td>\n",
       "      <td>0.172999242745</td>\n",
       "      <td>18.6152896718</td>\n",
       "      <td>2.78662062588</td>\n",
       "      <td>3.82476556888</td>\n",
       "      <td>...</td>\n",
       "      <td>0</td>\n",
       "      <td>680.869800233</td>\n",
       "      <td>54.6682788984</td>\n",
       "      <td>100.417316515</td>\n",
       "      <td>24.2751767125</td>\n",
       "      <td>96542.4729699</td>\n",
       "      <td>0</td>\n",
       "      <td>0</td>\n",
       "      <td>42608.4815402</td>\n",
       "      <td>2.5610075776</td>\n",
       "    </tr>\n",
       "    <tr>\n",
       "      <th>439</th>\n",
       "      <td>1.32407671897</td>\n",
       "      <td>0.711279634227</td>\n",
       "      <td>0.0500202094632</td>\n",
       "      <td>5.61514548103</td>\n",
       "      <td>0.353331384977</td>\n",
       "      <td>0.450782932787</td>\n",
       "      <td>0.12841940988</td>\n",
       "      <td>5.82283008555</td>\n",
       "      <td>3.85511090239</td>\n",
       "      <td>3.09132696255</td>\n",
       "      <td>...</td>\n",
       "      <td>0</td>\n",
       "      <td>5.99911268077</td>\n",
       "      <td>0.559937523463</td>\n",
       "      <td>0.0702753506953</td>\n",
       "      <td>0.013995278921</td>\n",
       "      <td>11722.9324712</td>\n",
       "      <td>0</td>\n",
       "      <td>0</td>\n",
       "      <td>12822.2664811</td>\n",
       "      <td>0</td>\n",
       "    </tr>\n",
       "    <tr>\n",
       "      <th>440</th>\n",
       "      <td>0.0401493493975</td>\n",
       "      <td>0.0118935726349</td>\n",
       "      <td>0.000459289981522</td>\n",
       "      <td>0.104126669926</td>\n",
       "      <td>0.0080086026894</td>\n",
       "      <td>0.00999008506613</td>\n",
       "      <td>0.00480020515002</td>\n",
       "      <td>0.0969644671821</td>\n",
       "      <td>0.0920534485506</td>\n",
       "      <td>0.0796247198281</td>\n",
       "      <td>...</td>\n",
       "      <td>0</td>\n",
       "      <td>6.34795715318</td>\n",
       "      <td>0.177306085804</td>\n",
       "      <td>0.0997681212126</td>\n",
       "      <td>0.0145671826926</td>\n",
       "      <td>610.840126316</td>\n",
       "      <td>0</td>\n",
       "      <td>0</td>\n",
       "      <td>0</td>\n",
       "      <td>467.282567531</td>\n",
       "    </tr>\n",
       "  </tbody>\n",
       "</table>\n",
       "<p>20 rows × 76 columns</p>\n",
       "</div>"
      ],
      "text/plain": [
       "                 EU28           EU28.1             EU28.2            EU28.3  \\\n",
       "25      69271.9534625    224902.521363      1587172.07116     48660.9000799   \n",
       "26      17.9844072657    34.3942741243        619.8296864     11.9501794102   \n",
       "27      2.19718421163    3.01196685117      3.69253097526     1.71578825134   \n",
       "69      2.13043226587    301.456635812      31379.9656223     59.2994501815   \n",
       "70      1.82848728601    1757.66178494       16.958877416     35.0365130978   \n",
       "71    0.0269758079072    20.3928414953   0.00125794760375   0.0217202439629   \n",
       "72     0.119730927821    608.100959292     0.386101442319     1.79110398294   \n",
       "73     0.216618044851    253.342924877     0.323371746143    0.465341733634   \n",
       "74      0.20694486994    243.821137923      21.3550322084    0.278143819861   \n",
       "75   0.00055343325484    5.47008727712     0.003266127279  0.00802216499854   \n",
       "76    0.0562554208752     100.70422238      87.8607470937    0.328328159143   \n",
       "94      111.657044966    326.772075568      14.5794544782     798.321707155   \n",
       "95      57.6029465457    64.8498046123      6.86348286154     296.390133922   \n",
       "425    0.192074545381   0.322885896845     0.702516504467    0.078718436855   \n",
       "428     5275.73484381    18.4898584813                  0    0.666512398831   \n",
       "429     5674.01366079     2.9061786067  1.89684646058e-05     1.18286219102   \n",
       "431     374.584887113   0.734821580717  1.27500830678e-06    0.137625701415   \n",
       "437     4.93814399728    28.6063226999      3.17593426853     16.5773497497   \n",
       "439     1.32407671897   0.711279634227    0.0500202094632     5.61514548103   \n",
       "440   0.0401493493975  0.0118935726349  0.000459289981522    0.104126669926   \n",
       "\n",
       "                EU28.4             EU28.5             EU28.6  \\\n",
       "25       264966.103741      272078.927373      240242.756561   \n",
       "26       76.3234853957      80.0336423169      69.9122683148   \n",
       "27       1.51688019166      1.55677757941      1.40469103455   \n",
       "69       91.1452491013      77.3341780604      43.7932278174   \n",
       "70       664.668188331      65.3006528236      222.152424537   \n",
       "71      0.146401638576     0.159952280928     0.153252801977   \n",
       "72      0.589950669195     0.719545791469     0.365643376265   \n",
       "73       1.38487469554      1.55771863539      1.16745453768   \n",
       "74      0.663525716614     0.738393109613     0.581068395198   \n",
       "75   0.000186051338172  0.000163108722548    0.0017652874165   \n",
       "76       293.912469557      294.113134527      349.789074311   \n",
       "94       140.815824131      130.606698739       39.010281291   \n",
       "95       68.5513897763      60.3244532154      42.9020563831   \n",
       "425     0.164158954919     0.178252119519       0.1173402735   \n",
       "428  0.000971951911163   0.00123629130716                  0   \n",
       "429   0.00100492170778   0.00127822781913  2.60183264417e-05   \n",
       "431   0.00037956455874  0.000482793808095  6.62877417584e-06   \n",
       "437      1.53795632285       1.9108703856     0.172999242745   \n",
       "439     0.353331384977     0.450782932787      0.12841940988   \n",
       "440    0.0080086026894   0.00999008506613   0.00480020515002   \n",
       "\n",
       "                EU28.7           EU28.8           EU28.9  ...  \\\n",
       "25       250157.081085    448857.504502    134383.541381  ...   \n",
       "26       77.5327909472    109.287554409    39.1435112998  ...   \n",
       "27       1.59218945473      4.579294613   0.853479528452  ...   \n",
       "69       96.7862416276    143.451412854    39.2975157085  ...   \n",
       "70       288.193012364    142.980318874    51.4509388264  ...   \n",
       "71      0.124777552703   0.512458533464    0.30650137405  ...   \n",
       "72       0.56923642167    0.94876750247   0.609325538112  ...   \n",
       "73       1.06432757471   0.510206440808   0.386689005053  ...   \n",
       "74      0.495003831874    1.76909769466    0.58411613156  ...   \n",
       "75    0.00186425598589    0.43433741245   0.272543033889  ...   \n",
       "76       547.473678444    83.5842735206    36.7745923171  ...   \n",
       "94       93.9373936412     3275.5208841    1618.51514206  ...   \n",
       "95        52.475600756    1443.07115534    579.449469512  ...   \n",
       "425     0.363054476018   0.578802650572   0.372463096186  ...   \n",
       "428                  0    0.73963658521   0.245963142469  ...   \n",
       "429  0.000139424226645   0.724274922442    0.25782036654  ...   \n",
       "431   3.5521566506e-05   0.152523383553  0.0503525890106  ...   \n",
       "437      18.6152896718    2.78662062588    3.82476556888  ...   \n",
       "439      5.82283008555    3.85511090239    3.09132696255  ...   \n",
       "440    0.0969644671821  0.0920534485506  0.0796247198281  ...   \n",
       "\n",
       "              RoW.28            RoW.29            RoW.30             RoW.31  \\\n",
       "25     51147394.4634     277620.386813     48038.2827372      269140.508066   \n",
       "26     6184.68117076     34.0905512004     12.1928975352      14.4986153271   \n",
       "27     1035.24850688     4.74953147194     1.13955663864       7.1977005388   \n",
       "69     42.6957140569     1.30332276205     9.96476766914      14.0108040123   \n",
       "70     189.330730329     2.61016094932     9.73766422902      31.7382149792   \n",
       "71     4.39866159203     2.71302934484    0.197112281433      1.31413097803   \n",
       "72     147.433311932     48.2725084197     9.16577431711      116.137251149   \n",
       "73      22.063482616     9.22241807107     2.15221812466      5.97030411535   \n",
       "74     0.78608124025    0.372286741496   0.0751445603568      1.22442842332   \n",
       "75     18.1496951497     1.29286671614    0.630916523033      5.92490149199   \n",
       "76     11.0166868152   0.0375928488069   0.0487470911104     0.062312283498   \n",
       "94     3716.57859941     1028.67199022     463.776309981       957.07864697   \n",
       "95     1204.29118155     294.398422555     133.538149535      287.212194809   \n",
       "425  0.0034115574554  0.00079590188496  0.00028786633113  0.000542787278521   \n",
       "428    848.960130031     157.088470284     35.5376191922       7.7082708022   \n",
       "429    15.0501946126     2.46484762693     8.40475363528      6.04843811671   \n",
       "431     50.952066012     8.18247380789      2.7405738269      1.18974142447   \n",
       "437                0     680.869800233     54.6682788984      100.417316515   \n",
       "439                0     5.99911268077    0.559937523463    0.0702753506953   \n",
       "440                0     6.34795715318    0.177306085804    0.0997681212126   \n",
       "\n",
       "                RoW.32          RoW.33           RoW.34          RoW.35  \\\n",
       "25       23946.3826027   190043.080718    1769950.15388   81146.3101981   \n",
       "26       2.25545832441   39.4673494252    296.253879822   20.1630038092   \n",
       "27      0.519371913583   5.73557722091    55.6068916808   1.38856482356   \n",
       "69       8.90344177292   15.1739023148    16.3917637426   89.1575242408   \n",
       "70       11.5136729761   24.9240945113    14.3809378555   140.993574087   \n",
       "71      0.430308952808   5.77375472514    17.1846604227   6.24102170529   \n",
       "72       38.2088787988   117.924564192    378.653483842    137.03813274   \n",
       "73       2.88517848655   18.0890099388    66.3029055331   21.7848598906   \n",
       "74      0.389836082417  0.643302851851    1.74759708073  0.674579319882   \n",
       "75       3.24935287819   2.76543725181    8.79162613065   3.12688851417   \n",
       "76     0.0619712329607  0.172313517387   0.297962047081  0.190887676913   \n",
       "94       392.996973723   3896.51241497    8669.73399143    4069.0931953   \n",
       "95       120.813126696    1120.2395855    2559.22662978   1114.83524728   \n",
       "425  0.000790804989581     1.439780804  0.0191183100622  0.942383643901   \n",
       "428      34.8802515104   523.827479926    1477.29972976   239.103612296   \n",
       "429      11.3845994233   130.749032963    556.570420479   156.535431652   \n",
       "431      2.43560984043   38.4030722947    120.014590626   30.3853220098   \n",
       "437      24.2751767125   96542.4729699                0               0   \n",
       "439     0.013995278921   11722.9324712                0               0   \n",
       "440    0.0145671826926   610.840126316                0               0   \n",
       "\n",
       "             RoW.36            RoW.37  \n",
       "25    50915.3559395     50286.2192493  \n",
       "26    11.8073815707     13.0264152456  \n",
       "27   0.637694131205    0.710205513987  \n",
       "69    20.9670138487     16.4812599126  \n",
       "70     3.1117788729     52.7295912098  \n",
       "71    3.33102492795     7.07417490613  \n",
       "72    171.248940063     134.773594853  \n",
       "73    11.4889887605     31.6175270741  \n",
       "74   0.279211073834     1.08194332315  \n",
       "75    1.13021200103      2.2665074386  \n",
       "76   0.612037329806   0.0583241807314  \n",
       "94    1115.15388949     4319.86073241  \n",
       "95    328.857867903     1216.02198705  \n",
       "425    1.6346989931  0.00122051445016  \n",
       "428   141.332820374     173.623011095  \n",
       "429   34.1266932197     61.5793284661  \n",
       "431    9.7710743728     14.4590824054  \n",
       "437   42608.4815402      2.5610075776  \n",
       "439   12822.2664811                 0  \n",
       "440               0     467.282567531  \n",
       "\n",
       "[20 rows x 76 columns]"
      ]
     },
     "execution_count": 17,
     "metadata": {},
     "output_type": "execute_result"
    }
   ],
   "source": [
    "bio_df = pd.read_csv(\"S.txt\", delimiter=\"\\t\")\n",
    "# .iloc[2:, 1:]\n",
    "bio_df = bio_df[bio_df.iloc[:, 0].isin(GHG)]\n",
    "bio_matrix = bio_df.iloc[:, 1:]\n",
    "bio_matrix"
   ]
  },
  {
   "cell_type": "markdown",
   "metadata": {},
   "source": [
    "6. Add biosphere columns"
   ]
  },
  {
   "cell_type": "code",
   "execution_count": 18,
   "metadata": {},
   "outputs": [
    {
     "name": "stdout",
     "output_type": "stream",
     "text": [
      "3 of the activity_change gives zero.\n",
      "2 of the activity_change gives zero.\n",
      "3 of the activity_change gives zero.\n",
      "(20, 3)\n"
     ]
    }
   ],
   "source": [
    "columns = []\n",
    "for i in range(number_of_column):\n",
    "    column = np.zeros(len(bio_matrix))  # Create a all zero list\n",
    "    columns.append(add_column(bio_change_df.iloc[:, i+1],  # By default, additional columns start from column number 1\n",
    "                              column, \n",
    "                              bio_row_index))  # here again it's the row index of technosphere, not datapackage indices.\n",
    "\n",
    "bio_columns = np.vstack(columns).T\n",
    "\n",
    "print(bio_columns.shape)"
   ]
  },
  {
   "cell_type": "markdown",
   "metadata": {},
   "source": [
    "### 3. Create rows (all zeros)"
   ]
  },
  {
   "cell_type": "code",
   "execution_count": 19,
   "metadata": {},
   "outputs": [
    {
     "data": {
      "text/plain": [
       "(3, 76)"
      ]
     },
     "execution_count": 19,
     "metadata": {},
     "output_type": "execute_result"
    }
   ],
   "source": [
    "tech_rows = np.zeros((number_of_column, len(tech_matrix)))\n",
    "tech_rows.shape"
   ]
  },
  {
   "cell_type": "markdown",
   "metadata": {},
   "source": [
    "### 4. Create foreground exchanges matrix"
   ]
  },
  {
   "cell_type": "code",
   "execution_count": 20,
   "metadata": {},
   "outputs": [
    {
     "data": {
      "text/plain": [
       "['RoW-Agriculture-Forestry-Fishing',\n",
       " 'EU28-Energy',\n",
       " 'EU28-Basic iron and steel and of ferro-alloys and first products thereof',\n",
       " 'RoW-Energy']"
      ]
     },
     "execution_count": 20,
     "metadata": {},
     "output_type": "execute_result"
    }
   ],
   "source": [
    "activity_change"
   ]
  },
  {
   "cell_type": "code",
   "execution_count": 21,
   "metadata": {},
   "outputs": [
    {
     "data": {
      "text/plain": [
       "['CO2 - waste - fossil - air',\n",
       " 'CO2 - waste - biogenic - air',\n",
       " 'CO2 - agriculture - peat decay - air']"
      ]
     },
     "execution_count": 21,
     "metadata": {},
     "output_type": "execute_result"
    }
   ],
   "source": [
    "bio_change"
   ]
  },
  {
   "cell_type": "code",
   "execution_count": 22,
   "metadata": {},
   "outputs": [
    {
     "data": {
      "text/html": [
       "<div>\n",
       "<style scoped>\n",
       "    .dataframe tbody tr th:only-of-type {\n",
       "        vertical-align: middle;\n",
       "    }\n",
       "\n",
       "    .dataframe tbody tr th {\n",
       "        vertical-align: top;\n",
       "    }\n",
       "\n",
       "    .dataframe thead th {\n",
       "        text-align: right;\n",
       "    }\n",
       "</style>\n",
       "<table border=\"1\" class=\"dataframe\">\n",
       "  <thead>\n",
       "    <tr style=\"text-align: right;\">\n",
       "      <th></th>\n",
       "      <th>Use stage</th>\n",
       "      <th>Production stage</th>\n",
       "      <th>Enf of life stage</th>\n",
       "    </tr>\n",
       "  </thead>\n",
       "  <tbody>\n",
       "    <tr>\n",
       "      <th>0</th>\n",
       "      <td>10.0</td>\n",
       "      <td>0.0</td>\n",
       "      <td>0</td>\n",
       "    </tr>\n",
       "    <tr>\n",
       "      <th>1</th>\n",
       "      <td>2.0</td>\n",
       "      <td>1.0</td>\n",
       "      <td>0</td>\n",
       "    </tr>\n",
       "    <tr>\n",
       "      <th>2</th>\n",
       "      <td>3.0</td>\n",
       "      <td>0.0</td>\n",
       "      <td>234</td>\n",
       "    </tr>\n",
       "  </tbody>\n",
       "</table>\n",
       "</div>"
      ],
      "text/plain": [
       "   Use stage  Production stage  Enf of life stage\n",
       "0       10.0               0.0                  0\n",
       "1        2.0               1.0                  0\n",
       "2        3.0               0.0                234"
      ]
     },
     "execution_count": 22,
     "metadata": {},
     "output_type": "execute_result"
    }
   ],
   "source": [
    "input_df = pd.read_csv(\"user_input.csv\", delimiter=\",\")\n",
    "foreground_exchanges = input_df[~input_df.iloc[:, 0].isin(activity_change+bio_change)].iloc[:, 1:].copy()\n",
    "foreground_exchanges"
   ]
  },
  {
   "cell_type": "markdown",
   "metadata": {},
   "source": [
    "### 4. Concatenate all foreground together"
   ]
  },
  {
   "cell_type": "markdown",
   "metadata": {},
   "source": [
    "1. concatenate tech_columns to technosphere matrix"
   ]
  },
  {
   "cell_type": "code",
   "execution_count": 23,
   "metadata": {},
   "outputs": [
    {
     "data": {
      "text/plain": [
       "(76, 79)"
      ]
     },
     "execution_count": 23,
     "metadata": {},
     "output_type": "execute_result"
    }
   ],
   "source": [
    "tech_column_added = np.concatenate((tech_columns, tech_matrix), axis=1)\n",
    "tech_column_added.shape"
   ]
  },
  {
   "cell_type": "markdown",
   "metadata": {},
   "source": [
    "2. concatenate bio_columns to biosphere matrix"
   ]
  },
  {
   "cell_type": "code",
   "execution_count": 24,
   "metadata": {},
   "outputs": [
    {
     "data": {
      "text/plain": [
       "(20, 79)"
      ]
     },
     "execution_count": 24,
     "metadata": {},
     "output_type": "execute_result"
    }
   ],
   "source": [
    "bio_matrix_new = np.concatenate((bio_columns, bio_matrix), axis=1)\n",
    "bio_matrix_new.shape"
   ]
  },
  {
   "cell_type": "markdown",
   "metadata": {},
   "source": [
    "3. concatenate tech_rows with forground_exchanges"
   ]
  },
  {
   "cell_type": "code",
   "execution_count": 25,
   "metadata": {},
   "outputs": [
    {
     "data": {
      "text/plain": [
       "(3, 79)"
      ]
     },
     "execution_count": 25,
     "metadata": {},
     "output_type": "execute_result"
    }
   ],
   "source": [
    "tech_rows_foreground_exchanges = np.concatenate((tech_rows, foreground_exchanges), axis=1)\n",
    "tech_rows_foreground_exchanges.shape"
   ]
  },
  {
   "cell_type": "markdown",
   "metadata": {},
   "source": [
    "4. concatenate tech matrix together "
   ]
  },
  {
   "cell_type": "code",
   "execution_count": 26,
   "metadata": {},
   "outputs": [
    {
     "data": {
      "text/plain": [
       "(79, 79)"
      ]
     },
     "execution_count": 26,
     "metadata": {},
     "output_type": "execute_result"
    }
   ],
   "source": [
    "tech_matrix_new = np.concatenate((tech_rows_foreground_exchanges, tech_column_added), axis=0)\n",
    "tech_matrix_new.shape"
   ]
  }
 ],
 "metadata": {
  "kernelspec": {
   "display_name": "bw2.5",
   "language": "python",
   "name": "python3"
  },
  "language_info": {
   "codemirror_mode": {
    "name": "ipython",
    "version": 3
   },
   "file_extension": ".py",
   "mimetype": "text/x-python",
   "name": "python",
   "nbconvert_exporter": "python",
   "pygments_lexer": "ipython3",
   "version": "3.11.9"
  }
 },
 "nbformat": 4,
 "nbformat_minor": 2
}
