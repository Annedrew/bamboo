{
 "cells": [
  {
   "cell_type": "markdown",
   "metadata": {
    "vscode": {
     "languageId": "plaintext"
    }
   },
   "source": [
    "# LCA without background"
   ]
  },
  {
   "cell_type": "code",
   "execution_count": 1,
   "metadata": {},
   "outputs": [
    {
     "ename": "NameError",
     "evalue": "name 'bd' is not defined",
     "output_type": "error",
     "traceback": [
      "\u001b[0;31m---------------------------------------------------------------------------\u001b[0m",
      "\u001b[0;31mNameError\u001b[0m                                 Traceback (most recent call last)",
      "Cell \u001b[0;32mIn[1], line 1\u001b[0m\n\u001b[0;32m----> 1\u001b[0m \u001b[43mbd\u001b[49m\u001b[38;5;241m.\u001b[39mprojects\u001b[38;5;241m.\u001b[39mset_current(\u001b[38;5;124m'\u001b[39m\u001b[38;5;124mdefault\u001b[39m\u001b[38;5;124m'\u001b[39m)\n",
      "\u001b[0;31mNameError\u001b[0m: name 'bd' is not defined"
     ]
    }
   ],
   "source": [
    "bd.projects.set_current('default')"
   ]
  },
  {
   "cell_type": "code",
   "execution_count": 2,
   "metadata": {},
   "outputs": [],
   "source": [
    "import os\n",
    "import sys\n",
    "sys.path.append(os.path.abspath(\"..\"))\n",
    "from bw_exiobase.background_importer import *\n",
    "from bw_exiobase.foreground_importer import *\n",
    "from bw_exiobase.datapackage_builder import *\n",
    "from bw_exiobase.uncertainty_handler import *\n",
    "from bw_exiobase.exiobase_lca import *\n",
    "from constants import *"
   ]
  },
  {
   "cell_type": "code",
   "execution_count": 3,
   "metadata": {
    "scrolled": true
   },
   "outputs": [
    {
     "name": "stdout",
     "output_type": "stream",
     "text": [
      "('ecoinvent-3.11', 'IPCC 2013 no LT', 'climate change no LT', 'global temperature change potential (GTP100) no LT')\n",
      "('ecoinvent-3.11', 'IPCC 2013 no LT', 'climate change no LT', 'global temperature change potential (GTP20) no LT')\n",
      "('ecoinvent-3.11', 'IPCC 2013 no LT', 'climate change no LT', 'global warming potential (GWP100) no LT')\n",
      "('ecoinvent-3.11', 'IPCC 2013 no LT', 'climate change no LT', 'global warming potential (GWP20) no LT')\n",
      "('ecoinvent-3.11', 'IPCC 2013', 'climate change', 'global temperature change potential (GTP100)')\n",
      "('ecoinvent-3.11', 'IPCC 2013', 'climate change', 'global temperature change potential (GTP20)')\n",
      "('ecoinvent-3.11', 'IPCC 2013', 'climate change', 'global warming potential (GWP100)')\n",
      "('ecoinvent-3.11', 'IPCC 2013', 'climate change', 'global warming potential (GWP20)')\n",
      "('ecoinvent-3.11', 'IPCC 2021 (incl. biogenic CO2) no LT', 'climate change: biogenic (incl. CO2) no LT', 'global warming potential (GWP100) no LT')\n",
      "('ecoinvent-3.11', 'IPCC 2021 (incl. biogenic CO2) no LT', 'climate change: biogenic emissions (incl. CO2) no LT', 'global warming potential (GWP100) no LT')\n",
      "('ecoinvent-3.11', 'IPCC 2021 (incl. biogenic CO2) no LT', 'climate change: biogenic removals (incl. CO2) no LT', 'global warming potential (GWP100) no LT')\n",
      "('ecoinvent-3.11', 'IPCC 2021 (incl. biogenic CO2) no LT', 'climate change: total (incl. biogenic CO2) no LT', 'global warming potential (GWP100) no LT')\n",
      "('ecoinvent-3.11', 'IPCC 2021 (incl. biogenic CO2) no LT', 'climate change: total (incl. biogenic CO2, incl. SLCFs) no LT', 'global warming potential (GWP100) no LT')\n",
      "('ecoinvent-3.11', 'IPCC 2021 (incl. biogenic CO2)', 'climate change: biogenic (incl. CO2)', 'global warming potential (GWP100)')\n",
      "('ecoinvent-3.11', 'IPCC 2021 (incl. biogenic CO2)', 'climate change: biogenic emissions (incl. CO2)', 'global warming potential (GWP100)')\n",
      "('ecoinvent-3.11', 'IPCC 2021 (incl. biogenic CO2)', 'climate change: biogenic removals (incl. CO2)', 'global warming potential (GWP100)')\n",
      "('ecoinvent-3.11', 'IPCC 2021 (incl. biogenic CO2)', 'climate change: total (incl. biogenic CO2)', 'global warming potential (GWP100)')\n",
      "('ecoinvent-3.11', 'IPCC 2021 (incl. biogenic CO2)', 'climate change: total (incl. biogenic CO2, incl. SLCFs)', 'global warming potential (GWP100)')\n",
      "('ecoinvent-3.11', 'IPCC 2021 no LT', 'climate change: aircraft emissions no LT', 'global warming potential (GWP100) no LT')\n",
      "('ecoinvent-3.11', 'IPCC 2021 no LT', 'climate change: biogenic (excl. CO2) no LT', 'global warming potential (GWP100) no LT')\n",
      "('ecoinvent-3.11', 'IPCC 2021 no LT', 'climate change: direct land use change no LT', 'global warming potential (GWP100) no LT')\n",
      "('ecoinvent-3.11', 'IPCC 2021 no LT', 'climate change: emissions from direct land use change no LT', 'global warming potential (GWP100) no LT')\n",
      "('ecoinvent-3.11', 'IPCC 2021 no LT', 'climate change: fossil no LT', 'global warming potential (GWP100) no LT')\n",
      "('ecoinvent-3.11', 'IPCC 2021 no LT', 'climate change: fossil emissions (excl. aircraft emissions) no LT', 'global warming potential (GWP100) no LT')\n",
      "('ecoinvent-3.11', 'IPCC 2021 no LT', 'climate change: removals from direct land use change no LT', 'global warming potential (GWP100) no LT')\n",
      "('ecoinvent-3.11', 'IPCC 2021 no LT', 'climate change: total (excl. biogenic CO2) no LT', 'global warming potential (GWP500) no LT')\n",
      "('ecoinvent-3.11', 'IPCC 2021 no LT', 'climate change: total (excl. biogenic CO2) no LT', 'global warming potential (GWP20) no LT')\n",
      "('ecoinvent-3.11', 'IPCC 2021 no LT', 'climate change: total (excl. biogenic CO2) no LT', 'global warming potential (GWP100) no LT')\n",
      "('ecoinvent-3.11', 'IPCC 2021 no LT', 'climate change: total (excl. biogenic CO2) no LT', 'global temperature change potential (GTP50) no LT')\n",
      "('ecoinvent-3.11', 'IPCC 2021 no LT', 'climate change: total (excl. biogenic CO2) no LT', 'global temperature change potential (GTP100) no LT')\n",
      "('ecoinvent-3.11', 'IPCC 2021 no LT', 'climate change: total (excl. biogenic CO2, incl. SLCFs) no LT', 'global warming potential (GWP100) no LT')\n",
      "('ecoinvent-3.11', 'IPCC 2021 no LT', 'climate change: biogenic (excl. CO2, incl. SLCFs) no LT', 'global warming potential (GWP100) no LT')\n",
      "('ecoinvent-3.11', 'IPCC 2021 no LT', 'climate change: fossil (excl. biogenic CO2, incl. SLCFs) no LT', 'global warming potential (GWP100) no LT')\n",
      "('ecoinvent-3.11', 'IPCC 2021 no LT', 'climate change: direct land use change (incl. SLCFs) no LT', 'global warming potential (GWP100) no LT')\n",
      "('ecoinvent-3.11', 'IPCC 2021', 'climate change: aircraft emissions', 'global warming potential (GWP100)')\n",
      "('ecoinvent-3.11', 'IPCC 2021', 'climate change: biogenic (excl. CO2)', 'global warming potential (GWP100)')\n",
      "('ecoinvent-3.11', 'IPCC 2021', 'climate change: direct land use change', 'global warming potential (GWP100)')\n",
      "('ecoinvent-3.11', 'IPCC 2021', 'climate change: emissions from direct land use change', 'global warming potential (GWP100)')\n",
      "('ecoinvent-3.11', 'IPCC 2021', 'climate change: fossil', 'global warming potential (GWP100)')\n",
      "('ecoinvent-3.11', 'IPCC 2021', 'climate change: fossil emissions (excl. aircraft emissions)', 'global warming potential (GWP100)')\n",
      "('ecoinvent-3.11', 'IPCC 2021', 'climate change: removals from direct land use change', 'global warming potential (GWP100)')\n",
      "('ecoinvent-3.11', 'IPCC 2021', 'climate change: total (excl. biogenic CO2)', 'global warming potential (GWP500)')\n",
      "('ecoinvent-3.11', 'IPCC 2021', 'climate change: total (excl. biogenic CO2)', 'global warming potential (GWP20)')\n",
      "('ecoinvent-3.11', 'IPCC 2021', 'climate change: total (excl. biogenic CO2)', 'global warming potential (GWP100)')\n",
      "('ecoinvent-3.11', 'IPCC 2021', 'climate change: total (excl. biogenic CO2)', 'global temperature change potential (GTP50)')\n",
      "('ecoinvent-3.11', 'IPCC 2021', 'climate change: total (excl. biogenic CO2)', 'global temperature change potential (GTP100)')\n",
      "('ecoinvent-3.11', 'IPCC 2021', 'climate change: total (excl. biogenic CO2, incl. SLCFs)', 'global warming potential (GWP100)')\n",
      "('ecoinvent-3.11', 'IPCC 2021', 'climate change: biogenic (excl. CO2, incl. SLCFs)', 'global warming potential (GWP100)')\n",
      "('ecoinvent-3.11', 'IPCC 2021', 'climate change: fossil (excl. biogenic CO2, incl. SLCFs)', 'global warming potential (GWP100)')\n",
      "('ecoinvent-3.11', 'IPCC 2021', 'climate change: direct land use change (incl. SLCFs)', 'global warming potential (GWP100)')\n"
     ]
    }
   ],
   "source": [
    "for i in bd.methods:\n",
    "    if \"IPCC\" in i[1]:\n",
    "        print(i)"
   ]
  },
  {
   "cell_type": "code",
   "execution_count": 20,
   "metadata": {},
   "outputs": [
    {
     "data": {
      "text/plain": [
       "Databases dictionary with 2 object(s):\n",
       "\tecoinvent-3.11-biosphere\n",
       "\tecoinvent-3.11-consequential"
      ]
     },
     "execution_count": 20,
     "metadata": {},
     "output_type": "execute_result"
    }
   ],
   "source": [
    "bd.databases"
   ]
  },
  {
   "cell_type": "code",
   "execution_count": 32,
   "metadata": {},
   "outputs": [],
   "source": [
    "#bd.Database('ecoinvent-3.11-biosphere').get(134929304525901883)\n",
    "bioexc = bd.Database('ecoinvent-3.11-biosphere').random()"
   ]
  },
  {
   "cell_type": "code",
   "execution_count": 38,
   "metadata": {},
   "outputs": [
    {
     "data": {
      "text/plain": [
       "'c33d4b0b-99ac-5ec3-a825-d84a39f9f0eb'"
      ]
     },
     "execution_count": 38,
     "metadata": {},
     "output_type": "execute_result"
    }
   ],
   "source": [
    "bioexc['code']"
   ]
  },
  {
   "cell_type": "code",
   "execution_count": 40,
   "metadata": {},
   "outputs": [
    {
     "data": {
      "text/plain": [
       "134929304915972145"
      ]
     },
     "execution_count": 40,
     "metadata": {},
     "output_type": "execute_result"
    }
   ],
   "source": [
    "bioexc.id"
   ]
  },
  {
   "cell_type": "code",
   "execution_count": 56,
   "metadata": {},
   "outputs": [],
   "source": [
    "#for node in bd.Database('ecoinvent-3.11-biosphere'):\n",
    "#    print(node.id)\n"
   ]
  },
  {
   "cell_type": "code",
   "execution_count": 58,
   "metadata": {},
   "outputs": [
    {
     "name": "stdout",
     "output_type": "stream",
     "text": [
      "c33d4b0b-99ac-5ec3-a825-d84a39f9f0eb\n"
     ]
    }
   ],
   "source": [
    "for node in bd.Database('ecoinvent-3.11-biosphere'):\n",
    "    if node.id == 134929304915972145:\n",
    "        print(node['code'])\n",
    "    "
   ]
  },
  {
   "cell_type": "code",
   "execution_count": 60,
   "metadata": {},
   "outputs": [
    {
     "data": {
      "text/plain": [
       "['243cdfb9-053a-509a-9a34-423a77b10309']"
      ]
     },
     "execution_count": 60,
     "metadata": {},
     "output_type": "execute_result"
    }
   ],
   "source": [
    "[node['code'] for i in bd.Database('ecoinvent-3.11-biosphere') if i.id == 134929304915972145]"
   ]
  },
  {
   "cell_type": "code",
   "execution_count": 46,
   "metadata": {},
   "outputs": [],
   "source": [
    "bioexc = bd.Database('ecoinvent-3.11-biosphere').get('c33d4b0b-99ac-5ec3-a825-d84a39f9f0eb')"
   ]
  },
  {
   "cell_type": "code",
   "execution_count": 47,
   "metadata": {},
   "outputs": [
    {
     "ename": "UnknownObject",
     "evalue": "",
     "output_type": "error",
     "traceback": [
      "\u001b[0;31m---------------------------------------------------------------------------\u001b[0m",
      "\u001b[0;31mUnknownObject\u001b[0m                             Traceback (most recent call last)",
      "Cell \u001b[0;32mIn[47], line 1\u001b[0m\n\u001b[0;32m----> 1\u001b[0m bioexc \u001b[38;5;241m=\u001b[39m \u001b[43mbd\u001b[49m\u001b[38;5;241;43m.\u001b[39;49m\u001b[43mDatabase\u001b[49m\u001b[43m(\u001b[49m\u001b[38;5;124;43m'\u001b[39;49m\u001b[38;5;124;43mecoinvent-3.11-biosphere\u001b[39;49m\u001b[38;5;124;43m'\u001b[39;49m\u001b[43m)\u001b[49m\u001b[38;5;241;43m.\u001b[39;49m\u001b[43mget\u001b[49m\u001b[43m(\u001b[49m\u001b[38;5;124;43m'\u001b[39;49m\u001b[38;5;124;43m134929304915972145\u001b[39;49m\u001b[38;5;124;43m'\u001b[39;49m\u001b[43m)\u001b[49m\n",
      "File \u001b[0;32m/opt/homebrew/Caskroom/miniconda/base/envs/brightway/lib/python3.11/site-packages/bw2data/backends/base.py:485\u001b[0m, in \u001b[0;36mSQLiteBackend.get\u001b[0;34m(self, code, **kwargs)\u001b[0m\n\u001b[1;32m    483\u001b[0m \u001b[38;5;28;01mif\u001b[39;00m code \u001b[38;5;129;01mis\u001b[39;00m \u001b[38;5;129;01mnot\u001b[39;00m \u001b[38;5;28;01mNone\u001b[39;00m:\n\u001b[1;32m    484\u001b[0m     kwargs[\u001b[38;5;124m\"\u001b[39m\u001b[38;5;124mcode\u001b[39m\u001b[38;5;124m\"\u001b[39m] \u001b[38;5;241m=\u001b[39m code\n\u001b[0;32m--> 485\u001b[0m \u001b[38;5;28;01mreturn\u001b[39;00m \u001b[43mget_node\u001b[49m\u001b[43m(\u001b[49m\u001b[38;5;241;43m*\u001b[39;49m\u001b[38;5;241;43m*\u001b[39;49m\u001b[43mkwargs\u001b[49m\u001b[43m)\u001b[49m\n",
      "File \u001b[0;32m/opt/homebrew/Caskroom/miniconda/base/envs/brightway/lib/python3.11/site-packages/bw2data/utils.py:384\u001b[0m, in \u001b[0;36mget_node\u001b[0;34m(**kwargs)\u001b[0m\n\u001b[1;32m    382\u001b[0m     \u001b[38;5;28;01mraise\u001b[39;00m MultipleResults(\u001b[38;5;124m\"\u001b[39m\u001b[38;5;124mFound \u001b[39m\u001b[38;5;132;01m{}\u001b[39;00m\u001b[38;5;124m results for the given search\u001b[39m\u001b[38;5;124m\"\u001b[39m\u001b[38;5;241m.\u001b[39mformat(\u001b[38;5;28mlen\u001b[39m(candidates)))\n\u001b[1;32m    383\u001b[0m \u001b[38;5;28;01melif\u001b[39;00m \u001b[38;5;129;01mnot\u001b[39;00m candidates:\n\u001b[0;32m--> 384\u001b[0m     \u001b[38;5;28;01mraise\u001b[39;00m UnknownObject\n\u001b[1;32m    385\u001b[0m \u001b[38;5;28;01mreturn\u001b[39;00m candidates[\u001b[38;5;241m0\u001b[39m]\n",
      "\u001b[0;31mUnknownObject\u001b[0m: "
     ]
    }
   ],
   "source": [
    "bioexc = bd.Database('ecoinvent-3.11-biosphere').get('134929304915972145')"
   ]
  },
  {
   "cell_type": "code",
   "execution_count": 44,
   "metadata": {},
   "outputs": [
    {
     "data": {
      "text/plain": [
       "{'categories': ('soil',),\n",
       " 'code': 'c33d4b0b-99ac-5ec3-a825-d84a39f9f0eb',\n",
       " 'CAS number': '688046-61-9',\n",
       " 'synonyms': [],\n",
       " 'name': 'Pyriofenone',\n",
       " 'database': 'ecoinvent-3.11-biosphere',\n",
       " 'unit': 'kilogram',\n",
       " 'type': 'emission',\n",
       " 'id': 134929304915972145}"
      ]
     },
     "execution_count": 44,
     "metadata": {},
     "output_type": "execute_result"
    }
   ],
   "source": [
    "bioexc.as_dict()"
   ]
  },
  {
   "cell_type": "code",
   "execution_count": 61,
   "metadata": {
    "scrolled": true
   },
   "outputs": [
    {
     "data": {
      "text/plain": [
       "[(134929304525901883, 1301.27019996),\n",
       " (134929304538484768, 1301.27019996),\n",
       " (134929304878223428, 1301.27019996),\n",
       " (134929304819503223, 1301.27019996),\n",
       " (134929304915972213, 160.09863099),\n",
       " (134929304500736020, 160.09863099),\n",
       " (134929304509124680, 160.09863099),\n",
       " (134929304555262030, 160.09863099),\n",
       " (134929304446210172, 4804.43907777),\n",
       " (134929304924360730, 4804.43907777),\n",
       " (134929304702062679, 4804.43907777),\n",
       " (134929304387489829, 4804.43907777),\n",
       " (134929304555262025, 5823.72618701),\n",
       " (134929304890806279, 5823.72618701),\n",
       " (134929305008246858, 5823.72618701),\n",
       " (134929304588816407, 5823.72618701),\n",
       " (134929304643342398, 782.03725986),\n",
       " (134929304769171502, 782.03725986),\n",
       " (134929304890806318, 782.03725986),\n",
       " (134929304991469640, 782.03725986),\n",
       " (134929304462987389, 137.56020393),\n",
       " (134929304899194975, 137.56020393),\n",
       " (134929304853057653, 137.56020393),\n",
       " (134929304769171572, 137.56020393),\n",
       " (134929304471375957, 8592.20208449),\n",
       " (134929304404267077, 8592.20208449),\n",
       " (134929304802725923, 8592.20208449),\n",
       " (134929304618176541, 8592.20208449),\n",
       " (134929304735617073, 1982.03546266),\n",
       " (134929304588816412, 1982.03546266),\n",
       " (134929304676896817, 1982.03546266),\n",
       " (134929304853057657, 1982.03546266),\n",
       " (134929304974692448, 79.36717675),\n",
       " (134929304915972129, 79.36717675),\n",
       " (134929304811114535, 79.36717675),\n",
       " (134929304412655644, 79.36717675),\n",
       " (134929304752394311, 526.54777691),\n",
       " (134929304861446215, 526.54777691),\n",
       " (134929304462987383, 526.54777691),\n",
       " (134929304710451209, 526.54777691),\n",
       " (134929304446210134, 1746.48198701),\n",
       " (134929304651731005, 1746.48198701),\n",
       " (134929304752394340, 1746.48198701),\n",
       " (134929304387489882, 1746.48198701),\n",
       " (134929304693674076, 2.3545465),\n",
       " (134929304379101286, 2.3545465),\n",
       " (134929304446210166, 2.3545465),\n",
       " (134929304462987365, 2.3545465),\n",
       " (134929304991469617, 6291.62957595),\n",
       " (134929304433627137, 6291.62957595),\n",
       " (134929304471375916, 6291.62957595),\n",
       " (134929304941137931, 6291.62957595),\n",
       " (134929304668508213, 1.0),\n",
       " (134929304471375919, 1.0),\n",
       " (134929304509124681, 1.0),\n",
       " (134929304769171544, 1.0),\n",
       " (134929304869834852, 1.0),\n",
       " (134929304685285453, 1.0),\n",
       " (134929304991469593, 1.0),\n",
       " (134929304634953780, 1.0),\n",
       " (134929304991469652, 1.0),\n",
       " (134929304462987333, -1.0),\n",
       " (134929304752394251, -1.0),\n",
       " (134929304915972220, -1.0),\n",
       " (134929304702062641, -1.0),\n",
       " (134929304886612026, 4.0624),\n",
       " (134929304588816443, 4.0624),\n",
       " (134929304500736041, 4.0624),\n",
       " (134929304517513331, 4.0624),\n",
       " (134929305016635394, 4.0624),\n",
       " (134929304379101261, 4.0624),\n",
       " (134929304794337281, 4.0624),\n",
       " (134929304668508231, 4.0624),\n",
       " (134929304777560183, 4.0624),\n",
       " (134929304869834799, 2.491),\n",
       " (134929304882417671, 2.491),\n",
       " (134929304534290460, 2.491),\n",
       " (134929304827891750, 2.491),\n",
       " (134929304744005730, 1728.47068126),\n",
       " (134929304379101237, 1728.47068126),\n",
       " (134929304412655640, 1728.47068126),\n",
       " (134929304924360763, 1728.47068126),\n",
       " (134929304593010705, 1764.62950881),\n",
       " (134929304601399395, 1764.62950881),\n",
       " (134929304492347484, 1764.62950881),\n",
       " (134929304580427790, 1764.62950881),\n",
       " (134929304769171559, 16.40180896),\n",
       " (134929304446210094, 16.40180896),\n",
       " (134929304752394305, 16.40180896),\n",
       " (134929304932749396, 16.40180896),\n",
       " (134929304601399383, 13893.35260104),\n",
       " (134929304446210164, 13893.35260104),\n",
       " (134929304983081070, 13893.35260104),\n",
       " (134929304995663882, 13893.35260104),\n",
       " (134929304966303796, 10239.23459918),\n",
       " (134929304395878522, 10239.23459918),\n",
       " (134929304890806366, 10239.23459918),\n",
       " (134929304999858200, 10239.23459918),\n",
       " (134929304601399301, 147.66224518),\n",
       " (134929304517513238, 147.66224518),\n",
       " (134929304915972104, 147.66224518),\n",
       " (134929304890806346, 147.66224518),\n",
       " (134929304643342409, 8.9151946),\n",
       " (134929304882417694, 8.9151946),\n",
       " (134929304387489803, 8.9151946),\n",
       " (134929304651731046, 8.9151946),\n",
       " (134929304827891773, 676.80778461),\n",
       " (134929305012441163, 676.80778461),\n",
       " (134929304794337341, 676.80778461),\n",
       " (134929304693674021, 676.80778461),\n",
       " (134929304492347421, 264.8),\n",
       " (134929304379101218, 264.8),\n",
       " (134929304957915210, 264.8),\n",
       " (134929304836280445, 264.8),\n",
       " (134929304668508267, 0.89826217),\n",
       " (134929304752394352, 0.89826217),\n",
       " (134929304966303827, 0.89826217),\n",
       " (134929304869834851, 0.89826217),\n",
       " (134929304660119555, 11123.49391992),\n",
       " (134929305004052514, 11123.49391992),\n",
       " (134929304869834858, 11123.49391992),\n",
       " (134929304769171523, 11123.49391992),\n",
       " (134929304836280440, 29.7),\n",
       " (134929305004052519, 29.7),\n",
       " (134929304433627172, 29.7),\n",
       " (134929304957915157, 29.7),\n",
       " (134929304517513235, 29.7),\n",
       " (134929304479764514, 29.7),\n",
       " (134929304718839847, 29.7),\n",
       " (134929305012441109, 29.7),\n",
       " (134929304802725994, 28.5),\n",
       " (134929304752394306, 28.5),\n",
       " (134929304785948724, 28.5),\n",
       " (134929304710451205, 28.5),\n",
       " (134929304966303783, 12.18322764),\n",
       " (134929304827891762, 12.18322764),\n",
       " (134929304890806344, 12.18322764),\n",
       " (134929304395878421, 12.18322764),\n",
       " (134929304555262068, 7665.36131656),\n",
       " (134929304580427866, 7665.36131656),\n",
       " (134929304827891771, 7665.36131656),\n",
       " (134929304802725960, 7665.36131656),\n",
       " (134929304974692355, -10.8),\n",
       " (134929304676896780, 16069.99763401),\n",
       " (134929304676896810, 16069.99763401),\n",
       " (134929304853057636, 16069.99763401),\n",
       " (134929304538484748, 16069.99763401),\n",
       " (134929304777560119, 3169.25517622),\n",
       " (134929304811114557, 3169.25517622),\n",
       " (134929304462987294, 3169.25517622),\n",
       " (134929304890806329, 3169.25517622),\n",
       " (134929304899194926, 8546.70453046),\n",
       " (134929304869834779, 23506.81999316),\n",
       " (134929304949526531, 23506.81999316),\n",
       " (134929304563650635, 23506.81999316),\n",
       " (134929304874029066, 23506.81999316),\n",
       " (134929304660119644, 6625.78042077),\n",
       " (134929304932749340, 6625.78042077),\n",
       " (134929304744005755, 6625.78042077),\n",
       " (134929304651731001, 6625.78042077),\n",
       " (134929304861446217, 4662.93699438),\n",
       " (134929304811114599, 4662.93699438),\n",
       " (134929304651731024, 4662.93699438),\n",
       " (134929304752394279, 4662.93699438),\n",
       " (134929304836280422, 12397.60343847),\n",
       " (134929304651730976, 12397.60343847),\n",
       " (134929304983080988, 12397.60343847),\n",
       " (134929304794337300, 12397.60343847),\n",
       " (134929304500736051, 4.5)]"
      ]
     },
     "execution_count": 61,
     "metadata": {},
     "output_type": "execute_result"
    }
   ],
   "source": [
    "ipcc = ('ecoinvent-3.11', 'IPCC 2013', 'climate change', 'global warming potential (GWP100)')\n",
    "bw_method = bd.Method(ipcc).load()\n",
    "bw_method\n",
    "#method_df = pd.DataFrame(bw_method, columns=[\"database_code\", \"cf_number\"])\n",
    "#method_df\n"
   ]
  },
  {
   "cell_type": "code",
   "execution_count": 7,
   "metadata": {
    "scrolled": true
   },
   "outputs": [
    {
     "data": {
      "text/plain": [
       "[134929304525901883,\n",
       " 134929304538484768,\n",
       " 134929304878223428,\n",
       " 134929304819503223,\n",
       " 134929304915972213,\n",
       " 134929304500736020,\n",
       " 134929304509124680,\n",
       " 134929304555262030,\n",
       " 134929304446210172,\n",
       " 134929304924360730,\n",
       " 134929304702062679,\n",
       " 134929304387489829,\n",
       " 134929304555262025,\n",
       " 134929304890806279,\n",
       " 134929305008246858,\n",
       " 134929304588816407,\n",
       " 134929304643342398,\n",
       " 134929304769171502,\n",
       " 134929304890806318,\n",
       " 134929304991469640,\n",
       " 134929304462987389,\n",
       " 134929304899194975,\n",
       " 134929304853057653,\n",
       " 134929304769171572,\n",
       " 134929304471375957,\n",
       " 134929304404267077,\n",
       " 134929304802725923,\n",
       " 134929304618176541,\n",
       " 134929304735617073,\n",
       " 134929304588816412,\n",
       " 134929304676896817,\n",
       " 134929304853057657,\n",
       " 134929304974692448,\n",
       " 134929304915972129,\n",
       " 134929304811114535,\n",
       " 134929304412655644,\n",
       " 134929304752394311,\n",
       " 134929304861446215,\n",
       " 134929304462987383,\n",
       " 134929304710451209,\n",
       " 134929304446210134,\n",
       " 134929304651731005,\n",
       " 134929304752394340,\n",
       " 134929304387489882,\n",
       " 134929304693674076,\n",
       " 134929304379101286,\n",
       " 134929304446210166,\n",
       " 134929304462987365,\n",
       " 134929304991469617,\n",
       " 134929304433627137,\n",
       " 134929304471375916,\n",
       " 134929304941137931,\n",
       " 134929304668508213,\n",
       " 134929304471375919,\n",
       " 134929304509124681,\n",
       " 134929304769171544,\n",
       " 134929304869834852,\n",
       " 134929304685285453,\n",
       " 134929304991469593,\n",
       " 134929304634953780,\n",
       " 134929304991469652,\n",
       " 134929304462987333,\n",
       " 134929304752394251,\n",
       " 134929304915972220,\n",
       " 134929304702062641,\n",
       " 134929304886612026,\n",
       " 134929304588816443,\n",
       " 134929304500736041,\n",
       " 134929304517513331,\n",
       " 134929305016635394,\n",
       " 134929304379101261,\n",
       " 134929304794337281,\n",
       " 134929304668508231,\n",
       " 134929304777560183,\n",
       " 134929304869834799,\n",
       " 134929304882417671,\n",
       " 134929304534290460,\n",
       " 134929304827891750,\n",
       " 134929304744005730,\n",
       " 134929304379101237,\n",
       " 134929304412655640,\n",
       " 134929304924360763,\n",
       " 134929304593010705,\n",
       " 134929304601399395,\n",
       " 134929304492347484,\n",
       " 134929304580427790,\n",
       " 134929304769171559,\n",
       " 134929304446210094,\n",
       " 134929304752394305,\n",
       " 134929304932749396,\n",
       " 134929304601399383,\n",
       " 134929304446210164,\n",
       " 134929304983081070,\n",
       " 134929304995663882,\n",
       " 134929304966303796,\n",
       " 134929304395878522,\n",
       " 134929304890806366,\n",
       " 134929304999858200,\n",
       " 134929304601399301,\n",
       " 134929304517513238,\n",
       " 134929304915972104,\n",
       " 134929304890806346,\n",
       " 134929304643342409,\n",
       " 134929304882417694,\n",
       " 134929304387489803,\n",
       " 134929304651731046,\n",
       " 134929304827891773,\n",
       " 134929305012441163,\n",
       " 134929304794337341,\n",
       " 134929304693674021,\n",
       " 134929304492347421,\n",
       " 134929304379101218,\n",
       " 134929304957915210,\n",
       " 134929304836280445,\n",
       " 134929304668508267,\n",
       " 134929304752394352,\n",
       " 134929304966303827,\n",
       " 134929304869834851,\n",
       " 134929304660119555,\n",
       " 134929305004052514,\n",
       " 134929304869834858,\n",
       " 134929304769171523,\n",
       " 134929304836280440,\n",
       " 134929305004052519,\n",
       " 134929304433627172,\n",
       " 134929304957915157,\n",
       " 134929304517513235,\n",
       " 134929304479764514,\n",
       " 134929304718839847,\n",
       " 134929305012441109,\n",
       " 134929304802725994,\n",
       " 134929304752394306,\n",
       " 134929304785948724,\n",
       " 134929304710451205,\n",
       " 134929304966303783,\n",
       " 134929304827891762,\n",
       " 134929304890806344,\n",
       " 134929304395878421,\n",
       " 134929304555262068,\n",
       " 134929304580427866,\n",
       " 134929304827891771,\n",
       " 134929304802725960,\n",
       " 134929304974692355,\n",
       " 134929304676896780,\n",
       " 134929304676896810,\n",
       " 134929304853057636,\n",
       " 134929304538484748,\n",
       " 134929304777560119,\n",
       " 134929304811114557,\n",
       " 134929304462987294,\n",
       " 134929304890806329,\n",
       " 134929304899194926,\n",
       " 134929304869834779,\n",
       " 134929304949526531,\n",
       " 134929304563650635,\n",
       " 134929304874029066,\n",
       " 134929304660119644,\n",
       " 134929304932749340,\n",
       " 134929304744005755,\n",
       " 134929304651731001,\n",
       " 134929304861446217,\n",
       " 134929304811114599,\n",
       " 134929304651731024,\n",
       " 134929304752394279,\n",
       " 134929304836280422,\n",
       " 134929304651730976,\n",
       " 134929304983080988,\n",
       " 134929304794337300,\n",
       " 134929304500736051]"
      ]
     },
     "execution_count": 7,
     "metadata": {},
     "output_type": "execute_result"
    }
   ],
   "source": [
    "method_df[\"database_code\"].to_list()"
   ]
  },
  {
   "cell_type": "code",
   "execution_count": null,
   "metadata": {},
   "outputs": [],
   "source": []
  },
  {
   "cell_type": "code",
   "execution_count": 6,
   "metadata": {},
   "outputs": [
    {
     "ename": "ValueError",
     "evalue": "Columns must be same length as key",
     "output_type": "error",
     "traceback": [
      "\u001b[0;31m---------------------------------------------------------------------------\u001b[0m",
      "\u001b[0;31mValueError\u001b[0m                                Traceback (most recent call last)",
      "\u001b[0;32m/var/folders/x1/l8_fx81s3y357v0s1nldtcgh0000gp/T/ipykernel_28356/1397178778.py\u001b[0m in \u001b[0;36m?\u001b[0;34m()\u001b[0m\n\u001b[0;32m----> 1\u001b[0;31m \u001b[0mmethod_df\u001b[0m\u001b[0;34m[\u001b[0m\u001b[0;34m[\u001b[0m\u001b[0;34m\"database\"\u001b[0m\u001b[0;34m,\u001b[0m \u001b[0;34m\"code\"\u001b[0m\u001b[0;34m]\u001b[0m\u001b[0;34m]\u001b[0m \u001b[0;34m=\u001b[0m \u001b[0mmethod_df\u001b[0m\u001b[0;34m[\u001b[0m\u001b[0;34m\"database_code\"\u001b[0m\u001b[0;34m]\u001b[0m\u001b[0;34m.\u001b[0m\u001b[0mto_list\u001b[0m\u001b[0;34m(\u001b[0m\u001b[0;34m)\u001b[0m\u001b[0;34m\u001b[0m\u001b[0;34m\u001b[0m\u001b[0m\n\u001b[0m",
      "\u001b[0;32m/opt/homebrew/Caskroom/miniconda/base/envs/brightway/lib/python3.11/site-packages/pandas/core/frame.py\u001b[0m in \u001b[0;36m?\u001b[0;34m(self, key, value)\u001b[0m\n\u001b[1;32m   4295\u001b[0m \u001b[0;34m\u001b[0m\u001b[0m\n\u001b[1;32m   4296\u001b[0m         \u001b[0;32mif\u001b[0m \u001b[0misinstance\u001b[0m\u001b[0;34m(\u001b[0m\u001b[0mkey\u001b[0m\u001b[0;34m,\u001b[0m \u001b[0mDataFrame\u001b[0m\u001b[0;34m)\u001b[0m \u001b[0;32mor\u001b[0m \u001b[0mgetattr\u001b[0m\u001b[0;34m(\u001b[0m\u001b[0mkey\u001b[0m\u001b[0;34m,\u001b[0m \u001b[0;34m\"ndim\"\u001b[0m\u001b[0;34m,\u001b[0m \u001b[0;32mNone\u001b[0m\u001b[0;34m)\u001b[0m \u001b[0;34m==\u001b[0m \u001b[0;36m2\u001b[0m\u001b[0;34m:\u001b[0m\u001b[0;34m\u001b[0m\u001b[0;34m\u001b[0m\u001b[0m\n\u001b[1;32m   4297\u001b[0m             \u001b[0mself\u001b[0m\u001b[0;34m.\u001b[0m\u001b[0m_setitem_frame\u001b[0m\u001b[0;34m(\u001b[0m\u001b[0mkey\u001b[0m\u001b[0;34m,\u001b[0m \u001b[0mvalue\u001b[0m\u001b[0;34m)\u001b[0m\u001b[0;34m\u001b[0m\u001b[0;34m\u001b[0m\u001b[0m\n\u001b[1;32m   4298\u001b[0m         \u001b[0;32melif\u001b[0m \u001b[0misinstance\u001b[0m\u001b[0;34m(\u001b[0m\u001b[0mkey\u001b[0m\u001b[0;34m,\u001b[0m \u001b[0;34m(\u001b[0m\u001b[0mSeries\u001b[0m\u001b[0;34m,\u001b[0m \u001b[0mnp\u001b[0m\u001b[0;34m.\u001b[0m\u001b[0mndarray\u001b[0m\u001b[0;34m,\u001b[0m \u001b[0mlist\u001b[0m\u001b[0;34m,\u001b[0m \u001b[0mIndex\u001b[0m\u001b[0;34m)\u001b[0m\u001b[0;34m)\u001b[0m\u001b[0;34m:\u001b[0m\u001b[0;34m\u001b[0m\u001b[0;34m\u001b[0m\u001b[0m\n\u001b[0;32m-> 4299\u001b[0;31m             \u001b[0mself\u001b[0m\u001b[0;34m.\u001b[0m\u001b[0m_setitem_array\u001b[0m\u001b[0;34m(\u001b[0m\u001b[0mkey\u001b[0m\u001b[0;34m,\u001b[0m \u001b[0mvalue\u001b[0m\u001b[0;34m)\u001b[0m\u001b[0;34m\u001b[0m\u001b[0;34m\u001b[0m\u001b[0m\n\u001b[0m\u001b[1;32m   4300\u001b[0m         \u001b[0;32melif\u001b[0m \u001b[0misinstance\u001b[0m\u001b[0;34m(\u001b[0m\u001b[0mvalue\u001b[0m\u001b[0;34m,\u001b[0m \u001b[0mDataFrame\u001b[0m\u001b[0;34m)\u001b[0m\u001b[0;34m:\u001b[0m\u001b[0;34m\u001b[0m\u001b[0;34m\u001b[0m\u001b[0m\n\u001b[1;32m   4301\u001b[0m             \u001b[0mself\u001b[0m\u001b[0;34m.\u001b[0m\u001b[0m_set_item_frame_value\u001b[0m\u001b[0;34m(\u001b[0m\u001b[0mkey\u001b[0m\u001b[0;34m,\u001b[0m \u001b[0mvalue\u001b[0m\u001b[0;34m)\u001b[0m\u001b[0;34m\u001b[0m\u001b[0;34m\u001b[0m\u001b[0m\n\u001b[1;32m   4302\u001b[0m         elif (\n",
      "\u001b[0;32m/opt/homebrew/Caskroom/miniconda/base/envs/brightway/lib/python3.11/site-packages/pandas/core/frame.py\u001b[0m in \u001b[0;36m?\u001b[0;34m(self, key, value)\u001b[0m\n\u001b[1;32m   4354\u001b[0m                 \u001b[0mvalue\u001b[0m \u001b[0;34m=\u001b[0m \u001b[0mDataFrame\u001b[0m\u001b[0;34m(\u001b[0m\u001b[0mvalue\u001b[0m\u001b[0;34m)\u001b[0m\u001b[0;34m.\u001b[0m\u001b[0mvalues\u001b[0m\u001b[0;34m\u001b[0m\u001b[0;34m\u001b[0m\u001b[0m\n\u001b[1;32m   4355\u001b[0m                 \u001b[0;32mreturn\u001b[0m \u001b[0mself\u001b[0m\u001b[0;34m.\u001b[0m\u001b[0m_setitem_array\u001b[0m\u001b[0;34m(\u001b[0m\u001b[0mkey\u001b[0m\u001b[0;34m,\u001b[0m \u001b[0mvalue\u001b[0m\u001b[0;34m)\u001b[0m\u001b[0;34m\u001b[0m\u001b[0;34m\u001b[0m\u001b[0m\n\u001b[1;32m   4356\u001b[0m \u001b[0;34m\u001b[0m\u001b[0m\n\u001b[1;32m   4357\u001b[0m             \u001b[0;32melse\u001b[0m\u001b[0;34m:\u001b[0m\u001b[0;34m\u001b[0m\u001b[0;34m\u001b[0m\u001b[0m\n\u001b[0;32m-> 4358\u001b[0;31m                 \u001b[0mself\u001b[0m\u001b[0;34m.\u001b[0m\u001b[0m_iset_not_inplace\u001b[0m\u001b[0;34m(\u001b[0m\u001b[0mkey\u001b[0m\u001b[0;34m,\u001b[0m \u001b[0mvalue\u001b[0m\u001b[0;34m)\u001b[0m\u001b[0;34m\u001b[0m\u001b[0;34m\u001b[0m\u001b[0m\n\u001b[0m",
      "\u001b[0;32m/opt/homebrew/Caskroom/miniconda/base/envs/brightway/lib/python3.11/site-packages/pandas/core/frame.py\u001b[0m in \u001b[0;36m?\u001b[0;34m(self, key, value)\u001b[0m\n\u001b[1;32m   4373\u001b[0m                 \u001b[0;32mreturn\u001b[0m \u001b[0mobj\u001b[0m\u001b[0;34m[\u001b[0m\u001b[0mi\u001b[0m\u001b[0;34m]\u001b[0m\u001b[0;34m\u001b[0m\u001b[0;34m\u001b[0m\u001b[0m\n\u001b[1;32m   4374\u001b[0m \u001b[0;34m\u001b[0m\u001b[0m\n\u001b[1;32m   4375\u001b[0m         \u001b[0;32mif\u001b[0m \u001b[0mself\u001b[0m\u001b[0;34m.\u001b[0m\u001b[0mcolumns\u001b[0m\u001b[0;34m.\u001b[0m\u001b[0mis_unique\u001b[0m\u001b[0;34m:\u001b[0m\u001b[0;34m\u001b[0m\u001b[0;34m\u001b[0m\u001b[0m\n\u001b[1;32m   4376\u001b[0m             \u001b[0;32mif\u001b[0m \u001b[0mnp\u001b[0m\u001b[0;34m.\u001b[0m\u001b[0mshape\u001b[0m\u001b[0;34m(\u001b[0m\u001b[0mvalue\u001b[0m\u001b[0;34m)\u001b[0m\u001b[0;34m[\u001b[0m\u001b[0;34m-\u001b[0m\u001b[0;36m1\u001b[0m\u001b[0;34m]\u001b[0m \u001b[0;34m!=\u001b[0m \u001b[0mlen\u001b[0m\u001b[0;34m(\u001b[0m\u001b[0mkey\u001b[0m\u001b[0;34m)\u001b[0m\u001b[0;34m:\u001b[0m\u001b[0;34m\u001b[0m\u001b[0;34m\u001b[0m\u001b[0m\n\u001b[0;32m-> 4377\u001b[0;31m                 \u001b[0;32mraise\u001b[0m \u001b[0mValueError\u001b[0m\u001b[0;34m(\u001b[0m\u001b[0;34m\"Columns must be same length as key\"\u001b[0m\u001b[0;34m)\u001b[0m\u001b[0;34m\u001b[0m\u001b[0;34m\u001b[0m\u001b[0m\n\u001b[0m\u001b[1;32m   4378\u001b[0m \u001b[0;34m\u001b[0m\u001b[0m\n\u001b[1;32m   4379\u001b[0m             \u001b[0;32mfor\u001b[0m \u001b[0mi\u001b[0m\u001b[0;34m,\u001b[0m \u001b[0mcol\u001b[0m \u001b[0;32min\u001b[0m \u001b[0menumerate\u001b[0m\u001b[0;34m(\u001b[0m\u001b[0mkey\u001b[0m\u001b[0;34m)\u001b[0m\u001b[0;34m:\u001b[0m\u001b[0;34m\u001b[0m\u001b[0;34m\u001b[0m\u001b[0m\n\u001b[1;32m   4380\u001b[0m                 \u001b[0mself\u001b[0m\u001b[0;34m[\u001b[0m\u001b[0mcol\u001b[0m\u001b[0;34m]\u001b[0m \u001b[0;34m=\u001b[0m \u001b[0migetitem\u001b[0m\u001b[0;34m(\u001b[0m\u001b[0mvalue\u001b[0m\u001b[0;34m,\u001b[0m \u001b[0mi\u001b[0m\u001b[0;34m)\u001b[0m\u001b[0;34m\u001b[0m\u001b[0;34m\u001b[0m\u001b[0m\n",
      "\u001b[0;31mValueError\u001b[0m: Columns must be same length as key"
     ]
    }
   ],
   "source": [
    "#method_df[[\"database\", \"code\"]] = method_df[\"database_code\"].to_list()\n",
    "\n",
    "cf_selected = method_df[method_df[\"database_code\"].isin(codes)][[\"code\", \"cf_number\"]]"
   ]
  },
  {
   "cell_type": "markdown",
   "metadata": {},
   "source": [
    "1. Get technosphere matrix"
   ]
  },
  {
   "cell_type": "code",
   "execution_count": 4,
   "metadata": {},
   "outputs": [],
   "source": [
    "bg_importer = BackgroundImporter()\n",
    "\n",
    "tech_df = pd.read_table(EXIOBASE_AGGREGATED_A_FILE, sep='\\t', header=None, low_memory=False)\n",
    "raw_tech = tech_df.iloc[3:, 2:].astype('float').to_numpy()\n",
    "tech_matrix = bg_importer.form_tech_matrix(raw_tech)"
   ]
  },
  {
   "cell_type": "markdown",
   "metadata": {},
   "source": [
    "2. Get biosphere matrix"
   ]
  },
  {
   "cell_type": "code",
   "execution_count": 5,
   "metadata": {},
   "outputs": [],
   "source": [
    "bio_df = pd.read_csv(EXIOBASE_AGGREGATED_S_FILE, header=[0,1], index_col=[0], sep='\\t', low_memory=False)\n",
    "bio_matrix = bg_importer.form_bio_matrix(bio_df, GHG)"
   ]
  },
  {
   "cell_type": "markdown",
   "metadata": {},
   "source": [
    "3. Get characterization factor matrix"
   ]
  },
  {
   "cell_type": "code",
   "execution_count": 46,
   "metadata": {},
   "outputs": [],
   "source": [
    "def form_cf_matrix2(emission_file: str, method: tuple, emission_list: list) -> np.ndarray:\n",
    "        \"\"\"\n",
    "        Get characterization factor matrix data.\n",
    "\n",
    "        Parameters:\n",
    "            * emission_file: The path to the file that needs to be processed. The file includes emission name and emission code column.\n",
    "            * method: The method used for LCA calculation.\n",
    "        \"\"\"\n",
    "        emission_code = pd.read_csv(emission_file, delimiter=\",\")\n",
    "        emission_code = file_preprocessing(emission_file, \",\", \"exiobase name\", emission_list)  # sorting the column order align with the desired order.\n",
    "        codes = emission_code.iloc[:, -1]\n",
    "        ipcc = ('ecoinvent-3.11', 'IPCC 2013', 'climate change', 'global warming potential (GWP100)')\n",
    "        bw_method = bd.Method(ipcc).load()\n",
    "        method_df = pd.DataFrame(bw_method, columns=[\"database_code\", \"cf_number\"])\n",
    "        all_ids = method_df[\"database_code\"].to_list()\n",
    "        all_codes = [bd.get_node(id = i)['code'] for i in all_ids]\n",
    "        method_df[\"code\"] =  all_codes\n",
    "        cf_selected = method_df[method_df[\"code\"].isin(codes)][[\"code\", \"cf_number\"]]\n",
    "        cf_dict = cf_selected.set_index(\"code\")[\"cf_number\"].to_dict()\n",
    "        missing_codes = list(set(codes.unique()) - set(cf_selected[\"code\"]))\n",
    "        \n",
    "        cf_matrix = []\n",
    "        if not missing_codes:\n",
    "            for code in codes:\n",
    "                cf_matrix.append(cf_dict.get(code))\n",
    "        else:\n",
    "            miss_dict = emission_code[[\"ecoinvent name\", \"brightway code\"]].set_index(\"brightway code\")[\"ecoinvent name\"].to_dict()\n",
    "            fixed_codes = []\n",
    "            for code in missing_codes:\n",
    "                name = miss_dict.get(code)\n",
    "                if \"Carbon dioxide\" in name:\n",
    "                    cf_dict[code] = 1.0\n",
    "                    fixed_codes.append(code)\n",
    "            if missing_codes == fixed_codes:\n",
    "                for code in codes:\n",
    "                    cf_matrix.append(cf_dict.get(code))\n",
    "\n",
    "        cf_matrix = np.diagflat(cf_matrix)\n",
    "\n",
    "        if len(cf_matrix) != len(emission_code):\n",
    "            raise ValueError(f\"Characterization factor data imcomplete, missing: {missing_codes}\")\n",
    "            \n",
    "        return cf_matrix\n",
    "        \n",
    "\n",
    "        "
   ]
  },
  {
   "cell_type": "code",
   "execution_count": 47,
   "metadata": {},
   "outputs": [],
   "source": [
    "cf_matrix = form_cf_matrix2(EMISSION_CODE_FILE, METHOD, GHG)"
   ]
  },
  {
   "cell_type": "code",
   "execution_count": 48,
   "metadata": {
    "scrolled": true
   },
   "outputs": [
    {
     "data": {
      "text/plain": [
       "array([[1.000000e+00, 0.000000e+00, 0.000000e+00, 0.000000e+00,\n",
       "        0.000000e+00, 0.000000e+00, 0.000000e+00, 0.000000e+00,\n",
       "        0.000000e+00, 0.000000e+00, 0.000000e+00, 0.000000e+00,\n",
       "        0.000000e+00, 0.000000e+00, 0.000000e+00, 0.000000e+00,\n",
       "        0.000000e+00, 0.000000e+00, 0.000000e+00, 0.000000e+00],\n",
       "       [0.000000e+00, 1.000000e+00, 0.000000e+00, 0.000000e+00,\n",
       "        0.000000e+00, 0.000000e+00, 0.000000e+00, 0.000000e+00,\n",
       "        0.000000e+00, 0.000000e+00, 0.000000e+00, 0.000000e+00,\n",
       "        0.000000e+00, 0.000000e+00, 0.000000e+00, 0.000000e+00,\n",
       "        0.000000e+00, 0.000000e+00, 0.000000e+00, 0.000000e+00],\n",
       "       [0.000000e+00, 0.000000e+00, 1.000000e+00, 0.000000e+00,\n",
       "        0.000000e+00, 0.000000e+00, 0.000000e+00, 0.000000e+00,\n",
       "        0.000000e+00, 0.000000e+00, 0.000000e+00, 0.000000e+00,\n",
       "        0.000000e+00, 0.000000e+00, 0.000000e+00, 0.000000e+00,\n",
       "        0.000000e+00, 0.000000e+00, 0.000000e+00, 0.000000e+00],\n",
       "       [0.000000e+00, 0.000000e+00, 0.000000e+00, 1.000000e+00,\n",
       "        0.000000e+00, 0.000000e+00, 0.000000e+00, 0.000000e+00,\n",
       "        0.000000e+00, 0.000000e+00, 0.000000e+00, 0.000000e+00,\n",
       "        0.000000e+00, 0.000000e+00, 0.000000e+00, 0.000000e+00,\n",
       "        0.000000e+00, 0.000000e+00, 0.000000e+00, 0.000000e+00],\n",
       "       [0.000000e+00, 0.000000e+00, 0.000000e+00, 0.000000e+00,\n",
       "        1.000000e+00, 0.000000e+00, 0.000000e+00, 0.000000e+00,\n",
       "        0.000000e+00, 0.000000e+00, 0.000000e+00, 0.000000e+00,\n",
       "        0.000000e+00, 0.000000e+00, 0.000000e+00, 0.000000e+00,\n",
       "        0.000000e+00, 0.000000e+00, 0.000000e+00, 0.000000e+00],\n",
       "       [0.000000e+00, 0.000000e+00, 0.000000e+00, 0.000000e+00,\n",
       "        0.000000e+00, 1.000000e+00, 0.000000e+00, 0.000000e+00,\n",
       "        0.000000e+00, 0.000000e+00, 0.000000e+00, 0.000000e+00,\n",
       "        0.000000e+00, 0.000000e+00, 0.000000e+00, 0.000000e+00,\n",
       "        0.000000e+00, 0.000000e+00, 0.000000e+00, 0.000000e+00],\n",
       "       [0.000000e+00, 0.000000e+00, 0.000000e+00, 0.000000e+00,\n",
       "        0.000000e+00, 0.000000e+00, 2.850000e+01, 0.000000e+00,\n",
       "        0.000000e+00, 0.000000e+00, 0.000000e+00, 0.000000e+00,\n",
       "        0.000000e+00, 0.000000e+00, 0.000000e+00, 0.000000e+00,\n",
       "        0.000000e+00, 0.000000e+00, 0.000000e+00, 0.000000e+00],\n",
       "       [0.000000e+00, 0.000000e+00, 0.000000e+00, 0.000000e+00,\n",
       "        0.000000e+00, 0.000000e+00, 0.000000e+00, 2.970000e+01,\n",
       "        0.000000e+00, 0.000000e+00, 0.000000e+00, 0.000000e+00,\n",
       "        0.000000e+00, 0.000000e+00, 0.000000e+00, 0.000000e+00,\n",
       "        0.000000e+00, 0.000000e+00, 0.000000e+00, 0.000000e+00],\n",
       "       [0.000000e+00, 0.000000e+00, 0.000000e+00, 0.000000e+00,\n",
       "        0.000000e+00, 0.000000e+00, 0.000000e+00, 0.000000e+00,\n",
       "        2.970000e+01, 0.000000e+00, 0.000000e+00, 0.000000e+00,\n",
       "        0.000000e+00, 0.000000e+00, 0.000000e+00, 0.000000e+00,\n",
       "        0.000000e+00, 0.000000e+00, 0.000000e+00, 0.000000e+00],\n",
       "       [0.000000e+00, 0.000000e+00, 0.000000e+00, 0.000000e+00,\n",
       "        0.000000e+00, 0.000000e+00, 0.000000e+00, 0.000000e+00,\n",
       "        0.000000e+00, 2.970000e+01, 0.000000e+00, 0.000000e+00,\n",
       "        0.000000e+00, 0.000000e+00, 0.000000e+00, 0.000000e+00,\n",
       "        0.000000e+00, 0.000000e+00, 0.000000e+00, 0.000000e+00],\n",
       "       [0.000000e+00, 0.000000e+00, 0.000000e+00, 0.000000e+00,\n",
       "        0.000000e+00, 0.000000e+00, 0.000000e+00, 0.000000e+00,\n",
       "        0.000000e+00, 0.000000e+00, 2.970000e+01, 0.000000e+00,\n",
       "        0.000000e+00, 0.000000e+00, 0.000000e+00, 0.000000e+00,\n",
       "        0.000000e+00, 0.000000e+00, 0.000000e+00, 0.000000e+00],\n",
       "       [0.000000e+00, 0.000000e+00, 0.000000e+00, 0.000000e+00,\n",
       "        0.000000e+00, 0.000000e+00, 0.000000e+00, 0.000000e+00,\n",
       "        0.000000e+00, 0.000000e+00, 0.000000e+00, 2.970000e+01,\n",
       "        0.000000e+00, 0.000000e+00, 0.000000e+00, 0.000000e+00,\n",
       "        0.000000e+00, 0.000000e+00, 0.000000e+00, 0.000000e+00],\n",
       "       [0.000000e+00, 0.000000e+00, 0.000000e+00, 0.000000e+00,\n",
       "        0.000000e+00, 0.000000e+00, 0.000000e+00, 0.000000e+00,\n",
       "        0.000000e+00, 0.000000e+00, 0.000000e+00, 0.000000e+00,\n",
       "        2.970000e+01, 0.000000e+00, 0.000000e+00, 0.000000e+00,\n",
       "        0.000000e+00, 0.000000e+00, 0.000000e+00, 0.000000e+00],\n",
       "       [0.000000e+00, 0.000000e+00, 0.000000e+00, 0.000000e+00,\n",
       "        0.000000e+00, 0.000000e+00, 0.000000e+00, 0.000000e+00,\n",
       "        0.000000e+00, 0.000000e+00, 0.000000e+00, 0.000000e+00,\n",
       "        0.000000e+00, 2.970000e+01, 0.000000e+00, 0.000000e+00,\n",
       "        0.000000e+00, 0.000000e+00, 0.000000e+00, 0.000000e+00],\n",
       "       [0.000000e+00, 0.000000e+00, 0.000000e+00, 0.000000e+00,\n",
       "        0.000000e+00, 0.000000e+00, 0.000000e+00, 0.000000e+00,\n",
       "        0.000000e+00, 0.000000e+00, 0.000000e+00, 0.000000e+00,\n",
       "        0.000000e+00, 0.000000e+00, 2.970000e+01, 0.000000e+00,\n",
       "        0.000000e+00, 0.000000e+00, 0.000000e+00, 0.000000e+00],\n",
       "       [0.000000e+00, 0.000000e+00, 0.000000e+00, 0.000000e+00,\n",
       "        0.000000e+00, 0.000000e+00, 0.000000e+00, 0.000000e+00,\n",
       "        0.000000e+00, 0.000000e+00, 0.000000e+00, 0.000000e+00,\n",
       "        0.000000e+00, 0.000000e+00, 0.000000e+00, 2.970000e+01,\n",
       "        0.000000e+00, 0.000000e+00, 0.000000e+00, 0.000000e+00],\n",
       "       [0.000000e+00, 0.000000e+00, 0.000000e+00, 0.000000e+00,\n",
       "        0.000000e+00, 0.000000e+00, 0.000000e+00, 0.000000e+00,\n",
       "        0.000000e+00, 0.000000e+00, 0.000000e+00, 0.000000e+00,\n",
       "        0.000000e+00, 0.000000e+00, 0.000000e+00, 0.000000e+00,\n",
       "        2.970000e+01, 0.000000e+00, 0.000000e+00, 0.000000e+00],\n",
       "       [0.000000e+00, 0.000000e+00, 0.000000e+00, 0.000000e+00,\n",
       "        0.000000e+00, 0.000000e+00, 0.000000e+00, 0.000000e+00,\n",
       "        0.000000e+00, 0.000000e+00, 0.000000e+00, 0.000000e+00,\n",
       "        0.000000e+00, 0.000000e+00, 0.000000e+00, 0.000000e+00,\n",
       "        0.000000e+00, 2.648000e+02, 0.000000e+00, 0.000000e+00],\n",
       "       [0.000000e+00, 0.000000e+00, 0.000000e+00, 0.000000e+00,\n",
       "        0.000000e+00, 0.000000e+00, 0.000000e+00, 0.000000e+00,\n",
       "        0.000000e+00, 0.000000e+00, 0.000000e+00, 0.000000e+00,\n",
       "        0.000000e+00, 0.000000e+00, 0.000000e+00, 0.000000e+00,\n",
       "        0.000000e+00, 0.000000e+00, 2.648000e+02, 0.000000e+00],\n",
       "       [0.000000e+00, 0.000000e+00, 0.000000e+00, 0.000000e+00,\n",
       "        0.000000e+00, 0.000000e+00, 0.000000e+00, 0.000000e+00,\n",
       "        0.000000e+00, 0.000000e+00, 0.000000e+00, 0.000000e+00,\n",
       "        0.000000e+00, 0.000000e+00, 0.000000e+00, 0.000000e+00,\n",
       "        0.000000e+00, 0.000000e+00, 0.000000e+00, 2.350682e+04]])"
      ]
     },
     "execution_count": 48,
     "metadata": {},
     "output_type": "execute_result"
    }
   ],
   "source": [
    "cf_matrix"
   ]
  },
  {
   "cell_type": "code",
   "execution_count": 49,
   "metadata": {},
   "outputs": [
    {
     "data": {
      "text/plain": [
       "(4, 3)"
      ]
     },
     "execution_count": 49,
     "metadata": {},
     "output_type": "execute_result"
    }
   ],
   "source": [
    "bd.__version__"
   ]
  },
  {
   "cell_type": "code",
   "execution_count": null,
   "metadata": {},
   "outputs": [],
   "source": [
    "all_codes = []\n",
    "        for myid in all_ids:\n",
    "            for i in bd.Database('ecoinvent-3.11-biosphere'):\n",
    "                if i.id == myid:\n",
    "                    all_codes.append(i['code'])\n",
    "        return all_codes"
   ]
  },
  {
   "cell_type": "code",
   "execution_count": 25,
   "metadata": {},
   "outputs": [],
   "source": [
    "xxx = bd.Database('ecoinvent-3.11-biosphere')"
   ]
  },
  {
   "cell_type": "code",
   "execution_count": 32,
   "metadata": {},
   "outputs": [
    {
     "data": {
      "text/plain": [
       "'d2025041-20ee-41bb-b2c8-47631e839ff0'"
      ]
     },
     "execution_count": 32,
     "metadata": {},
     "output_type": "execute_result"
    }
   ],
   "source": [
    "bd.get_node(id = '134929304555262025')['code']"
   ]
  },
  {
   "cell_type": "code",
   "execution_count": 6,
   "metadata": {
    "scrolled": true
   },
   "outputs": [
    {
     "ename": "ValueError",
     "evalue": "Columns must be same length as key",
     "output_type": "error",
     "traceback": [
      "\u001b[0;31m---------------------------------------------------------------------------\u001b[0m",
      "\u001b[0;31mValueError\u001b[0m                                Traceback (most recent call last)",
      "\u001b[0;32m/var/folders/x1/l8_fx81s3y357v0s1nldtcgh0000gp/T/ipykernel_64151/151734820.py\u001b[0m in \u001b[0;36m?\u001b[0;34m()\u001b[0m\n\u001b[0;32m----> 1\u001b[0;31m \u001b[0mcf_matrix\u001b[0m \u001b[0;34m=\u001b[0m \u001b[0mbg_importer\u001b[0m\u001b[0;34m.\u001b[0m\u001b[0mform_cf_matrix\u001b[0m\u001b[0;34m(\u001b[0m\u001b[0mEMISSION_CODE_FILE\u001b[0m\u001b[0;34m,\u001b[0m \u001b[0mMETHOD\u001b[0m\u001b[0;34m,\u001b[0m \u001b[0mGHG\u001b[0m\u001b[0;34m)\u001b[0m\u001b[0;34m\u001b[0m\u001b[0;34m\u001b[0m\u001b[0m\n\u001b[0m",
      "\u001b[0;32m~/Documents/Git/brightway-exiobase/bw_exiobase/background_importer.py\u001b[0m in \u001b[0;36m?\u001b[0;34m(self, emission_file, method, emission_list)\u001b[0m\n\u001b[1;32m     48\u001b[0m \u001b[0;34m\u001b[0m\u001b[0m\n\u001b[1;32m     49\u001b[0m         \u001b[0mcodes\u001b[0m \u001b[0;34m=\u001b[0m \u001b[0memission_code\u001b[0m\u001b[0;34m.\u001b[0m\u001b[0miloc\u001b[0m\u001b[0;34m[\u001b[0m\u001b[0;34m:\u001b[0m\u001b[0;34m,\u001b[0m \u001b[0;34m-\u001b[0m\u001b[0;36m1\u001b[0m\u001b[0;34m]\u001b[0m\u001b[0;34m\u001b[0m\u001b[0;34m\u001b[0m\u001b[0m\n\u001b[1;32m     50\u001b[0m         \u001b[0mbw_method\u001b[0m \u001b[0;34m=\u001b[0m \u001b[0mbd\u001b[0m\u001b[0;34m.\u001b[0m\u001b[0mMethod\u001b[0m\u001b[0;34m(\u001b[0m\u001b[0mmethod\u001b[0m\u001b[0;34m)\u001b[0m\u001b[0;34m\u001b[0m\u001b[0;34m\u001b[0m\u001b[0m\n\u001b[1;32m     51\u001b[0m         \u001b[0mmethod_df\u001b[0m \u001b[0;34m=\u001b[0m \u001b[0mpd\u001b[0m\u001b[0;34m.\u001b[0m\u001b[0mDataFrame\u001b[0m\u001b[0;34m(\u001b[0m\u001b[0mbw_method\u001b[0m\u001b[0;34m.\u001b[0m\u001b[0mload\u001b[0m\u001b[0;34m(\u001b[0m\u001b[0;34m)\u001b[0m\u001b[0;34m,\u001b[0m \u001b[0mcolumns\u001b[0m\u001b[0;34m=\u001b[0m\u001b[0;34m[\u001b[0m\u001b[0;34m\"database_code\"\u001b[0m\u001b[0;34m,\u001b[0m \u001b[0;34m\"cf_number\"\u001b[0m\u001b[0;34m]\u001b[0m\u001b[0;34m)\u001b[0m\u001b[0;34m\u001b[0m\u001b[0;34m\u001b[0m\u001b[0m\n\u001b[0;32m---> 52\u001b[0;31m         \u001b[0mmethod_df\u001b[0m\u001b[0;34m[\u001b[0m\u001b[0;34m[\u001b[0m\u001b[0;34m\"database\"\u001b[0m\u001b[0;34m,\u001b[0m \u001b[0;34m\"code\"\u001b[0m\u001b[0;34m]\u001b[0m\u001b[0;34m]\u001b[0m \u001b[0;34m=\u001b[0m \u001b[0mmethod_df\u001b[0m\u001b[0;34m[\u001b[0m\u001b[0;34m\"database_code\"\u001b[0m\u001b[0;34m]\u001b[0m\u001b[0;34m.\u001b[0m\u001b[0mto_list\u001b[0m\u001b[0;34m(\u001b[0m\u001b[0;34m)\u001b[0m\u001b[0;34m\u001b[0m\u001b[0;34m\u001b[0m\u001b[0m\n\u001b[0m\u001b[1;32m     53\u001b[0m         \u001b[0mcf_selected\u001b[0m \u001b[0;34m=\u001b[0m \u001b[0mmethod_df\u001b[0m\u001b[0;34m[\u001b[0m\u001b[0mmethod_df\u001b[0m\u001b[0;34m[\u001b[0m\u001b[0;34m\"code\"\u001b[0m\u001b[0;34m]\u001b[0m\u001b[0;34m.\u001b[0m\u001b[0misin\u001b[0m\u001b[0;34m(\u001b[0m\u001b[0mcodes\u001b[0m\u001b[0;34m)\u001b[0m\u001b[0;34m]\u001b[0m\u001b[0;34m[\u001b[0m\u001b[0;34m[\u001b[0m\u001b[0;34m\"code\"\u001b[0m\u001b[0;34m,\u001b[0m \u001b[0;34m\"cf_number\"\u001b[0m\u001b[0;34m]\u001b[0m\u001b[0;34m]\u001b[0m\u001b[0;34m\u001b[0m\u001b[0;34m\u001b[0m\u001b[0m\n\u001b[1;32m     54\u001b[0m         \u001b[0mcf_dict\u001b[0m \u001b[0;34m=\u001b[0m \u001b[0mcf_selected\u001b[0m\u001b[0;34m.\u001b[0m\u001b[0mset_index\u001b[0m\u001b[0;34m(\u001b[0m\u001b[0;34m\"code\"\u001b[0m\u001b[0;34m)\u001b[0m\u001b[0;34m[\u001b[0m\u001b[0;34m\"cf_number\"\u001b[0m\u001b[0;34m]\u001b[0m\u001b[0;34m.\u001b[0m\u001b[0mto_dict\u001b[0m\u001b[0;34m(\u001b[0m\u001b[0;34m)\u001b[0m\u001b[0;34m\u001b[0m\u001b[0;34m\u001b[0m\u001b[0m\n\u001b[1;32m     55\u001b[0m         \u001b[0mmissing_codes\u001b[0m \u001b[0;34m=\u001b[0m \u001b[0mlist\u001b[0m\u001b[0;34m(\u001b[0m\u001b[0mset\u001b[0m\u001b[0;34m(\u001b[0m\u001b[0mcodes\u001b[0m\u001b[0;34m.\u001b[0m\u001b[0munique\u001b[0m\u001b[0;34m(\u001b[0m\u001b[0;34m)\u001b[0m\u001b[0;34m)\u001b[0m \u001b[0;34m-\u001b[0m \u001b[0mset\u001b[0m\u001b[0;34m(\u001b[0m\u001b[0mcf_selected\u001b[0m\u001b[0;34m[\u001b[0m\u001b[0;34m\"code\"\u001b[0m\u001b[0;34m]\u001b[0m\u001b[0;34m)\u001b[0m\u001b[0;34m)\u001b[0m\u001b[0;34m\u001b[0m\u001b[0;34m\u001b[0m\u001b[0m\n",
      "\u001b[0;32m/opt/homebrew/Caskroom/miniconda/base/envs/brightway/lib/python3.11/site-packages/pandas/core/frame.py\u001b[0m in \u001b[0;36m?\u001b[0;34m(self, key, value)\u001b[0m\n\u001b[1;32m   4295\u001b[0m \u001b[0;34m\u001b[0m\u001b[0m\n\u001b[1;32m   4296\u001b[0m         \u001b[0;32mif\u001b[0m \u001b[0misinstance\u001b[0m\u001b[0;34m(\u001b[0m\u001b[0mkey\u001b[0m\u001b[0;34m,\u001b[0m \u001b[0mDataFrame\u001b[0m\u001b[0;34m)\u001b[0m \u001b[0;32mor\u001b[0m \u001b[0mgetattr\u001b[0m\u001b[0;34m(\u001b[0m\u001b[0mkey\u001b[0m\u001b[0;34m,\u001b[0m \u001b[0;34m\"ndim\"\u001b[0m\u001b[0;34m,\u001b[0m \u001b[0;32mNone\u001b[0m\u001b[0;34m)\u001b[0m \u001b[0;34m==\u001b[0m \u001b[0;36m2\u001b[0m\u001b[0;34m:\u001b[0m\u001b[0;34m\u001b[0m\u001b[0;34m\u001b[0m\u001b[0m\n\u001b[1;32m   4297\u001b[0m             \u001b[0mself\u001b[0m\u001b[0;34m.\u001b[0m\u001b[0m_setitem_frame\u001b[0m\u001b[0;34m(\u001b[0m\u001b[0mkey\u001b[0m\u001b[0;34m,\u001b[0m \u001b[0mvalue\u001b[0m\u001b[0;34m)\u001b[0m\u001b[0;34m\u001b[0m\u001b[0;34m\u001b[0m\u001b[0m\n\u001b[1;32m   4298\u001b[0m         \u001b[0;32melif\u001b[0m \u001b[0misinstance\u001b[0m\u001b[0;34m(\u001b[0m\u001b[0mkey\u001b[0m\u001b[0;34m,\u001b[0m \u001b[0;34m(\u001b[0m\u001b[0mSeries\u001b[0m\u001b[0;34m,\u001b[0m \u001b[0mnp\u001b[0m\u001b[0;34m.\u001b[0m\u001b[0mndarray\u001b[0m\u001b[0;34m,\u001b[0m \u001b[0mlist\u001b[0m\u001b[0;34m,\u001b[0m \u001b[0mIndex\u001b[0m\u001b[0;34m)\u001b[0m\u001b[0;34m)\u001b[0m\u001b[0;34m:\u001b[0m\u001b[0;34m\u001b[0m\u001b[0;34m\u001b[0m\u001b[0m\n\u001b[0;32m-> 4299\u001b[0;31m             \u001b[0mself\u001b[0m\u001b[0;34m.\u001b[0m\u001b[0m_setitem_array\u001b[0m\u001b[0;34m(\u001b[0m\u001b[0mkey\u001b[0m\u001b[0;34m,\u001b[0m \u001b[0mvalue\u001b[0m\u001b[0;34m)\u001b[0m\u001b[0;34m\u001b[0m\u001b[0;34m\u001b[0m\u001b[0m\n\u001b[0m\u001b[1;32m   4300\u001b[0m         \u001b[0;32melif\u001b[0m \u001b[0misinstance\u001b[0m\u001b[0;34m(\u001b[0m\u001b[0mvalue\u001b[0m\u001b[0;34m,\u001b[0m \u001b[0mDataFrame\u001b[0m\u001b[0;34m)\u001b[0m\u001b[0;34m:\u001b[0m\u001b[0;34m\u001b[0m\u001b[0;34m\u001b[0m\u001b[0m\n\u001b[1;32m   4301\u001b[0m             \u001b[0mself\u001b[0m\u001b[0;34m.\u001b[0m\u001b[0m_set_item_frame_value\u001b[0m\u001b[0;34m(\u001b[0m\u001b[0mkey\u001b[0m\u001b[0;34m,\u001b[0m \u001b[0mvalue\u001b[0m\u001b[0;34m)\u001b[0m\u001b[0;34m\u001b[0m\u001b[0;34m\u001b[0m\u001b[0m\n\u001b[1;32m   4302\u001b[0m         elif (\n",
      "\u001b[0;32m/opt/homebrew/Caskroom/miniconda/base/envs/brightway/lib/python3.11/site-packages/pandas/core/frame.py\u001b[0m in \u001b[0;36m?\u001b[0;34m(self, key, value)\u001b[0m\n\u001b[1;32m   4354\u001b[0m                 \u001b[0mvalue\u001b[0m \u001b[0;34m=\u001b[0m \u001b[0mDataFrame\u001b[0m\u001b[0;34m(\u001b[0m\u001b[0mvalue\u001b[0m\u001b[0;34m)\u001b[0m\u001b[0;34m.\u001b[0m\u001b[0mvalues\u001b[0m\u001b[0;34m\u001b[0m\u001b[0;34m\u001b[0m\u001b[0m\n\u001b[1;32m   4355\u001b[0m                 \u001b[0;32mreturn\u001b[0m \u001b[0mself\u001b[0m\u001b[0;34m.\u001b[0m\u001b[0m_setitem_array\u001b[0m\u001b[0;34m(\u001b[0m\u001b[0mkey\u001b[0m\u001b[0;34m,\u001b[0m \u001b[0mvalue\u001b[0m\u001b[0;34m)\u001b[0m\u001b[0;34m\u001b[0m\u001b[0;34m\u001b[0m\u001b[0m\n\u001b[1;32m   4356\u001b[0m \u001b[0;34m\u001b[0m\u001b[0m\n\u001b[1;32m   4357\u001b[0m             \u001b[0;32melse\u001b[0m\u001b[0;34m:\u001b[0m\u001b[0;34m\u001b[0m\u001b[0;34m\u001b[0m\u001b[0m\n\u001b[0;32m-> 4358\u001b[0;31m                 \u001b[0mself\u001b[0m\u001b[0;34m.\u001b[0m\u001b[0m_iset_not_inplace\u001b[0m\u001b[0;34m(\u001b[0m\u001b[0mkey\u001b[0m\u001b[0;34m,\u001b[0m \u001b[0mvalue\u001b[0m\u001b[0;34m)\u001b[0m\u001b[0;34m\u001b[0m\u001b[0;34m\u001b[0m\u001b[0m\n\u001b[0m",
      "\u001b[0;32m/opt/homebrew/Caskroom/miniconda/base/envs/brightway/lib/python3.11/site-packages/pandas/core/frame.py\u001b[0m in \u001b[0;36m?\u001b[0;34m(self, key, value)\u001b[0m\n\u001b[1;32m   4373\u001b[0m                 \u001b[0;32mreturn\u001b[0m \u001b[0mobj\u001b[0m\u001b[0;34m[\u001b[0m\u001b[0mi\u001b[0m\u001b[0;34m]\u001b[0m\u001b[0;34m\u001b[0m\u001b[0;34m\u001b[0m\u001b[0m\n\u001b[1;32m   4374\u001b[0m \u001b[0;34m\u001b[0m\u001b[0m\n\u001b[1;32m   4375\u001b[0m         \u001b[0;32mif\u001b[0m \u001b[0mself\u001b[0m\u001b[0;34m.\u001b[0m\u001b[0mcolumns\u001b[0m\u001b[0;34m.\u001b[0m\u001b[0mis_unique\u001b[0m\u001b[0;34m:\u001b[0m\u001b[0;34m\u001b[0m\u001b[0;34m\u001b[0m\u001b[0m\n\u001b[1;32m   4376\u001b[0m             \u001b[0;32mif\u001b[0m \u001b[0mnp\u001b[0m\u001b[0;34m.\u001b[0m\u001b[0mshape\u001b[0m\u001b[0;34m(\u001b[0m\u001b[0mvalue\u001b[0m\u001b[0;34m)\u001b[0m\u001b[0;34m[\u001b[0m\u001b[0;34m-\u001b[0m\u001b[0;36m1\u001b[0m\u001b[0;34m]\u001b[0m \u001b[0;34m!=\u001b[0m \u001b[0mlen\u001b[0m\u001b[0;34m(\u001b[0m\u001b[0mkey\u001b[0m\u001b[0;34m)\u001b[0m\u001b[0;34m:\u001b[0m\u001b[0;34m\u001b[0m\u001b[0;34m\u001b[0m\u001b[0m\n\u001b[0;32m-> 4377\u001b[0;31m                 \u001b[0;32mraise\u001b[0m \u001b[0mValueError\u001b[0m\u001b[0;34m(\u001b[0m\u001b[0;34m\"Columns must be same length as key\"\u001b[0m\u001b[0;34m)\u001b[0m\u001b[0;34m\u001b[0m\u001b[0;34m\u001b[0m\u001b[0m\n\u001b[0m\u001b[1;32m   4378\u001b[0m \u001b[0;34m\u001b[0m\u001b[0m\n\u001b[1;32m   4379\u001b[0m             \u001b[0;32mfor\u001b[0m \u001b[0mi\u001b[0m\u001b[0;34m,\u001b[0m \u001b[0mcol\u001b[0m \u001b[0;32min\u001b[0m \u001b[0menumerate\u001b[0m\u001b[0;34m(\u001b[0m\u001b[0mkey\u001b[0m\u001b[0;34m)\u001b[0m\u001b[0;34m:\u001b[0m\u001b[0;34m\u001b[0m\u001b[0;34m\u001b[0m\u001b[0m\n\u001b[1;32m   4380\u001b[0m                 \u001b[0mself\u001b[0m\u001b[0;34m[\u001b[0m\u001b[0mcol\u001b[0m\u001b[0;34m]\u001b[0m \u001b[0;34m=\u001b[0m \u001b[0migetitem\u001b[0m\u001b[0;34m(\u001b[0m\u001b[0mvalue\u001b[0m\u001b[0;34m,\u001b[0m \u001b[0mi\u001b[0m\u001b[0;34m)\u001b[0m\u001b[0;34m\u001b[0m\u001b[0;34m\u001b[0m\u001b[0m\n",
      "\u001b[0;31mValueError\u001b[0m: Columns must be same length as key"
     ]
    }
   ],
   "source": [
    "cf_matrix = bg_importer.form_cf_matrix(EMISSION_CODE_FILE, METHOD, GHG)"
   ]
  },
  {
   "cell_type": "code",
   "execution_count": null,
   "metadata": {},
   "outputs": [],
   "source": []
  },
  {
   "cell_type": "markdown",
   "metadata": {},
   "source": [
    "4. Build datapackage"
   ]
  },
  {
   "cell_type": "code",
   "execution_count": 50,
   "metadata": {},
   "outputs": [],
   "source": [
    "dp_builder = DatapackageBuilder()\n",
    "datapackage_data = dp_builder.prepare_bw_matrix(tech_matrix, bio_matrix, cf_matrix)\n",
    "datapackage = dp_builder.prepare_datapackage(datapackage_data)"
   ]
  },
  {
   "cell_type": "markdown",
   "metadata": {},
   "source": [
    "5. Run static simulation"
   ]
  },
  {
   "cell_type": "code",
   "execution_count": 51,
   "metadata": {},
   "outputs": [
    {
     "name": "stdout",
     "output_type": "stream",
     "text": [
      "Brightway calculated lca score: (292263.28661651607, 'RoW-Services')\n",
      "Static LCA result saved to /Users/massimo/Documents/Git/brightway-exiobase/notebooks/small_output/CASE_0_static_MC_simulations_RoW-Services.csv.\n"
     ]
    }
   ],
   "source": [
    "lca_runner = ExiobaseLCA()\n",
    "lca_runner.perform_static(68, datapackage, EXIOBASE_AGGREGATED_OUTPUT, 0, \"static\", \"RoW-Services\")"
   ]
  },
  {
   "cell_type": "code",
   "execution_count": 62,
   "metadata": {},
   "outputs": [
    {
     "name": "stdout",
     "output_type": "stream",
     "text": [
      "Brightway calculated lca score: (14155482.51250722, 'RoW-Electricity nec')\n",
      "Static LCA result saved to /Users/massimo/Documents/Git/brightway-exiobase/notebooks/small_output/CASE_0_static_MC_simulations_RoW-Electricity nec.csv.\n"
     ]
    }
   ],
   "source": [
    "lca_runner = ExiobaseLCA()\n",
    "lca_runner.perform_static(65, datapackage, EXIOBASE_AGGREGATED_OUTPUT, 0, \"static\", activities[65])"
   ]
  },
  {
   "cell_type": "code",
   "execution_count": 60,
   "metadata": {},
   "outputs": [],
   "source": [
    "#activities = get_bg_activities(EXIOBASE_AGGREGATED_A_FILE, \"\\t\")\n",
    "\n",
    "df = pd.read_csv(EXIOBASE_AGGREGATED_A_FILE, delimiter= '\\t', header=None)\n",
    "countries = df.iloc[3:, 0].unique().tolist()\n",
    "sectors = df.iloc[3:, 1].unique().tolist()\n",
    "activities = [ x + '-' + y for x in countries for y in sectors]"
   ]
  },
  {
   "cell_type": "code",
   "execution_count": 61,
   "metadata": {},
   "outputs": [
    {
     "data": {
      "text/plain": [
       "'RoW-Services'"
      ]
     },
     "execution_count": 61,
     "metadata": {},
     "output_type": "execute_result"
    }
   ],
   "source": [
    "activities[68]"
   ]
  },
  {
   "cell_type": "code",
   "execution_count": 74,
   "metadata": {
    "scrolled": true
   },
   "outputs": [
    {
     "name": "stdout",
     "output_type": "stream",
     "text": [
      "Brightway calculated lca score: (53522166.01912047, 'RoW-Steam and hot water supply services')\n"
     ]
    }
   ],
   "source": [
    "mysector = activities.index('RoW-Steam and hot water supply services')\n",
    "\n",
    "lca = bc.LCA(\n",
    "            demand={mysector : 1},\n",
    "            data_objs=[datapackage],\n",
    "        )\n",
    "lca.lci()\n",
    "lca.lcia()\n",
    "\n",
    "print(f\"Brightway calculated lca score: {lca.score, activities[mysector]}\")"
   ]
  },
  {
   "cell_type": "code",
   "execution_count": 81,
   "metadata": {},
   "outputs": [
    {
     "name": "stdout",
     "output_type": "stream",
     "text": [
      "Brightway calculated lca score: (1073470.7980428257, 'EU28-Energy')\n",
      "Brightway calculated lca score: (326227.80323628965, 'EU28-Industry')\n",
      "Brightway calculated lca score: (494753.8151243165, 'RoW-Inert/metal/hazardous waste for treatment: landfill')\n"
     ]
    }
   ],
   "source": [
    "for i in [1, 3, 75]: \n",
    "\n",
    "    lca = bc.LCA(\n",
    "            demand={i : 1},\n",
    "            data_objs=[datapackage],\n",
    "        )\n",
    "        \n",
    "    lca.lci()\n",
    "    lca.lcia()\n",
    "        \n",
    "    print(f\"Brightway calculated lca score: {lca.score, activities[i]}\")"
   ]
  },
  {
   "cell_type": "code",
   "execution_count": 75,
   "metadata": {},
   "outputs": [
    {
     "data": {
      "text/plain": [
       "76"
      ]
     },
     "execution_count": 75,
     "metadata": {},
     "output_type": "execute_result"
    }
   ],
   "source": [
    "len(activities)"
   ]
  },
  {
   "cell_type": "markdown",
   "metadata": {},
   "source": [
    "6. Run normal uncertainty simulation"
   ]
  },
  {
   "cell_type": "markdown",
   "metadata": {},
   "source": [
    "7. Run pedigree uncertainty simulation"
   ]
  }
 ],
 "metadata": {
  "kernelspec": {
   "display_name": "Python 3 (ipykernel)",
   "language": "python",
   "name": "python3"
  },
  "language_info": {
   "codemirror_mode": {
    "name": "ipython",
    "version": 3
   },
   "file_extension": ".py",
   "mimetype": "text/x-python",
   "name": "python",
   "nbconvert_exporter": "python",
   "pygments_lexer": "ipython3",
   "version": "3.11.11"
  }
 },
 "nbformat": 4,
 "nbformat_minor": 4
}
