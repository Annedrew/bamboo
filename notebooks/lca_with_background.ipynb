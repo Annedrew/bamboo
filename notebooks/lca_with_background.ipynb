{
   "cells": [
      {
         "cell_type": "markdown",
         "metadata": {
            "vscode": {
               "languageId": "plaintext"
            }
         },
         "source": [
            "# LCA with only background"
         ]
      },
      {
         "cell_type": "markdown",
         "metadata": {},
         "source": [
            "### Preparation"
         ]
      },
      {
         "cell_type": "markdown",
         "metadata": {},
         "source": [
            "Before use the library, you have to direct to the right brightway project and make sure you have the database."
         ]
      },
      {
         "cell_type": "code",
         "execution_count": 1,
         "metadata": {},
         "outputs": [
            {
               "data": {
                  "text/plain": [
                     "Databases dictionary with 2 object(s):\n",
                     "\tecoinvent-3.11-biosphere\n",
                     "\tecoinvent-3.11-consequential"
                  ]
               },
               "execution_count": 1,
               "metadata": {},
               "output_type": "execute_result"
            }
         ],
         "source": [
            "import bw2data as bd\n",
            "\n",
            "bd.projects.set_current(\"advlca25\")\n",
            "bd.databases"
         ]
      },
      {
         "cell_type": "code",
         "execution_count": 2,
         "metadata": {},
         "outputs": [],
         "source": [
            "import os\n",
            "import sys\n",
            "sys.path.append(os.path.abspath(\"..\"))\n",
            "from bw_bamboo.background_importer import *\n",
            "from bw_bamboo.foreground_importer import *\n",
            "from bw_bamboo.datapackage_builder import *\n",
            "from bw_bamboo.uncertainty_handler import *\n",
            "from bw_bamboo.lca_wrapper import *"
         ]
      },
      {
         "cell_type": "markdown",
         "metadata": {},
         "source": [
            "0. Define some constants for this notebook"
         ]
      },
      {
         "cell_type": "code",
         "execution_count": 3,
         "metadata": {},
         "outputs": [],
         "source": [
            "METHOD = ('IPCC 2013', 'climate change', 'global warming potential (GWP100)')\n",
            "FG_EMISSION_FILE = os.path.join(os.getcwd(), \"data\", \"EXIOBASE-ecoinvent-bio-bw-GHG.csv\")\n",
            "\n",
            "EXIOBASE_AGGREGATED_A_FILE = os.path.join(os.getcwd(), \"data/\", \"A.txt\")\n",
            "EXIOBASE_AGGREGATED_S_FILE = os.path.join(os.getcwd(), \"data/\", \"S.txt\")\n",
            "GHG = [\"CO2 - combustion - air\",\n",
            "        \"CO2 - non combustion - Cement production - air\",\n",
            "        \"CO2 - non combustion - Lime production - air\",\n",
            "        \"CO2 - waste - biogenic - air\", \n",
            "        \"CO2 - waste - fossil - air\",\n",
            "        \"CO2 - agriculture - peat decay - air\", \n",
            "        \"CH4 - agriculture - air\",\n",
            "        \"CH4 - waste - air\",\n",
            "        \"CH4 - combustion - air\",\n",
            "        \"CH4 - non combustion - Extraction/production of (natural) gas - air\",\n",
            "        \"CH4 - non combustion - Extraction/production of crude oil - air\",\n",
            "        \"CH4 - non combustion - Mining of antracite - air\",\n",
            "        \"CH4 - non combustion - Mining of bituminous coal - air\",\n",
            "        \"CH4 - non combustion - Mining of coking coal - air\",\n",
            "        \"CH4 - non combustion - Mining of lignite (brown coal) - air\",\n",
            "        \"CH4 - non combustion - Mining of sub-bituminous coal - air\",\n",
            "        \"CH4 - non combustion - Oil refinery - air\",\n",
            "        \"N2O - combustion - air\",\n",
            "        \"N2O - agriculture - air\",\n",
            "        \"SF6 - air\"]"
         ]
      },
      {
         "cell_type": "markdown",
         "metadata": {},
         "source": [
            "1. Get technosphere matrix"
         ]
      },
      {
         "cell_type": "code",
         "execution_count": 4,
         "metadata": {},
         "outputs": [],
         "source": [
            "bg_importer = BackgroundImporter()\n",
            "\n",
            "tech_df = pd.read_table(EXIOBASE_AGGREGATED_A_FILE, sep='\\t', header=None, low_memory=False)\n",
            "raw_tech = tech_df.iloc[3:, 2:].astype('float').to_numpy()\n",
            "tech_matrix = bg_importer.form_tech_matrix(raw_tech)"
         ]
      },
      {
         "cell_type": "markdown",
         "metadata": {},
         "source": [
            "2. Get biosphere matrix"
         ]
      },
      {
         "cell_type": "code",
         "execution_count": 5,
         "metadata": {},
         "outputs": [],
         "source": [
            "bio_df = pd.read_csv(EXIOBASE_AGGREGATED_S_FILE, header=[0,1], index_col=[0], sep='\\t', low_memory=False)\n",
            "bio_matrix = bg_importer.form_bio_matrix(bio_df, GHG)"
         ]
      },
      {
         "cell_type": "markdown",
         "metadata": {},
         "source": [
            "3. Get characterization factor matrix"
         ]
      },
      {
         "cell_type": "code",
         "execution_count": null,
         "metadata": {},
         "outputs": [
            {
               "name": "stdout",
               "output_type": "stream",
               "text": [
                  "Characterization factor data imcomplete, missing: ['28e1e2d6-97ad-4dfd-932a-9edad36dcab9', 'eba59fd6-f37e-41dc-9ca3-c7ea22d602c7']\n"
               ]
            }
         ],
         "source": [
            "cf_matrix = bg_importer.form_cf_matrix(\"ecoinvent-3.11-biosphere\", METHOD, FG_EMISSION_FILE, GHG)\n",
            "cf_matrix.diagonal()  # print the diagnal for checking\n",
            "# cf_matrix = [1., 1., 1., 1., 1., 1., 27.0, 29.8, 29.8, 29.8, 29.8, 29.8, 29.8, 29.8, 29.8, 29.8, 29.8, 273., 273., 25200.]\n",
            "# cf_matrix = np.diagflat(cf_matrix)"
         ]
      },
      {
         "cell_type": "markdown",
         "metadata": {},
         "source": [
            "4. Build datapackage"
         ]
      },
      {
         "cell_type": "code",
         "execution_count": 7,
         "metadata": {},
         "outputs": [
            {
               "name": "stdout",
               "output_type": "stream",
               "text": [
                  "(76, 76)\n",
                  "(20, 76)\n",
                  "(20, 20)\n"
               ]
            }
         ],
         "source": [
            "# check the shape of all matrix\n",
            "print(tech_matrix.shape)\n",
            "print(bio_matrix.shape)\n",
            "print(cf_matrix.shape)"
         ]
      },
      {
         "cell_type": "code",
         "execution_count": 8,
         "metadata": {},
         "outputs": [],
         "source": [
            "dp_builder = DatapackageBuilder()\n",
            "datapackage_data = dp_builder.prepare_bw_matrix(tech_matrix, bio_matrix, cf_matrix)\n",
            "datapackage = dp_builder.prepare_datapackage(datapackage_data)"
         ]
      },
      {
         "cell_type": "markdown",
         "metadata": {},
         "source": [
            "5. Run static simulation through brightway directly"
         ]
      },
      {
         "cell_type": "code",
         "execution_count": 9,
         "metadata": {},
         "outputs": [
            {
               "name": "stdout",
               "output_type": "stream",
               "text": [
                  "RoW-Services: 291685.0667897694\n"
               ]
            }
         ],
         "source": [
            "import bw2calc as bc\n",
            "\n",
            "index = 68\n",
            "activity_name = \"RoW-Services\"\n",
            "\n",
            "lca = bc.LCA(\n",
            "    demand={index: 1},\n",
            "    data_objs=[datapackage],\n",
            ")\n",
            "lca.lci()\n",
            "lca.lcia()\n",
            "\n",
            "print(f\"{activity_name}: {lca.score}\")"
         ]
      },
      {
         "cell_type": "markdown",
         "metadata": {},
         "source": [
            "6. Compare with lca manually."
         ]
      },
      {
         "cell_type": "code",
         "execution_count": 10,
         "metadata": {},
         "outputs": [
            {
               "name": "stdout",
               "output_type": "stream",
               "text": [
                  "RoW-Services: 291685.06678976933\n"
               ]
            }
         ],
         "source": [
            "lca_wrapper = LCAWrapper()\n",
            "\n",
            "manual_tech_Data = -tech_matrix\n",
            "np.fill_diagonal(manual_tech_Data, -manual_tech_Data.diagonal())\n",
            "\n",
            "manual_lca = lca_wrapper.manual_lca(manual_tech_Data, bio_matrix, cf_matrix, 68)\n",
            "\n",
            "print(f\"{activity_name}: {manual_lca}\")\n"
         ]
      }
   ],
   "metadata": {
      "kernelspec": {
         "display_name": "bw25",
         "language": "python",
         "name": "python3"
      },
      "language_info": {
         "codemirror_mode": {
            "name": "ipython",
            "version": 3
         },
         "file_extension": ".py",
         "mimetype": "text/x-python",
         "name": "python",
         "nbconvert_exporter": "python",
         "pygments_lexer": "ipython3",
         "version": "3.13.1"
      }
   },
   "nbformat": 4,
   "nbformat_minor": 2
}
