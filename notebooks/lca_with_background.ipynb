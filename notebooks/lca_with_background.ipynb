{
   "cells": [
      {
         "cell_type": "markdown",
         "metadata": {
            "vscode": {
               "languageId": "plaintext"
            }
         },
         "source": [
            "# LCA with only background"
         ]
      },
      {
         "cell_type": "markdown",
         "metadata": {},
         "source": [
            "This notebook illustrates how to run LCA with only background using this library."
         ]
      },
      {
         "cell_type": "markdown",
         "metadata": {},
         "source": [
            "### Preparation"
         ]
      },
      {
         "cell_type": "markdown",
         "metadata": {},
         "source": [
            "1. Navigate to the project that contains the ecoinvent database."
         ]
      },
      {
         "cell_type": "code",
         "execution_count": 1,
         "metadata": {},
         "outputs": [
            {
               "data": {
                  "text/plain": [
                     "Databases dictionary with 4 object(s):\n",
                     "\tALIGNED-biob-prod-dummy\n",
                     "\tecoinvent-3.11-biosphere\n",
                     "\tecoinvent-3.11-consequential\n",
                     "\texldb"
                  ]
               },
               "execution_count": 1,
               "metadata": {},
               "output_type": "execute_result"
            }
         ],
         "source": [
            "import bw2data as bd\n",
            "import bw2io as bi\n",
            "\n",
            "bd.projects.set_current(\"advlca25\")\n",
            "\n",
            "# NOTICE: If you don't have the ecoinvent database, please uncomment this code snippet, fill in the correct ecoinvent database and account information, and then run the cell. The import may take some time.\n",
            "# bi.import_ecoinvent_release(\n",
            "#     version='<ecoinvent version>',\n",
            "#     system_model='consequential',\n",
            "#     username ='XXX', # use your own\n",
            "#     password='XXX' # use your own\n",
            "# )\n",
            "\n",
            "bd.databases # There should be two databases imported, one includes all inventory data (e.g., ecoinvent-3.11-consequential), the other includes all emission data (e.g., ecoinvent-3.11-biosphere)."
         ]
      },
      {
         "cell_type": "markdown",
         "metadata": {},
         "source": [
            "2. Import required libraries"
         ]
      },
      {
         "cell_type": "code",
         "execution_count": 2,
         "metadata": {},
         "outputs": [],
         "source": [
            "import os\n",
            "import sys\n",
            "sys.path.append(os.path.abspath(\"..\"))\n",
            "from bamboo_lca.background_importer import *\n",
            "from bamboo_lca.foreground_importer import *\n",
            "from bamboo_lca.datapackage_builder import *\n",
            "from bamboo_lca.uncertainty_handler import *\n",
            "from bamboo_lca.lca_wrapper import *\n",
            "from bamboo_lca.uncertainty_importer import *"
         ]
      },
      {
         "cell_type": "markdown",
         "metadata": {},
         "source": [
            "3. Define required constants"
         ]
      },
      {
         "cell_type": "code",
         "execution_count": 3,
         "metadata": {},
         "outputs": [],
         "source": [
            "# This is the biosphere emissions.\n",
            "GHG = [\"CO2 - combustion - air\",\n",
            "        \"CO2 - non combustion - Cement production - air\",\n",
            "        \"CO2 - non combustion - Lime production - air\",\n",
            "        \"CO2 - waste - fossil - air\",\n",
            "        \"CH4 - agriculture - air\",\n",
            "        \"CH4 - waste - air\",\n",
            "        \"CH4 - combustion - air\",\n",
            "        \"CH4 - non combustion - Extraction/production of (natural) gas - air\",\n",
            "        \"CH4 - non combustion - Extraction/production of crude oil - air\",\n",
            "        \"CH4 - non combustion - Mining of antracite - air\",\n",
            "        \"CH4 - non combustion - Mining of bituminous coal - air\",\n",
            "        \"CH4 - non combustion - Mining of coking coal - air\",\n",
            "        \"CH4 - non combustion - Mining of lignite (brown coal) - air\",\n",
            "        \"CH4 - non combustion - Mining of sub-bituminous coal - air\",\n",
            "        \"CH4 - non combustion - Oil refinery - air\",\n",
            "        \"N2O - combustion - air\",\n",
            "        \"N2O - agriculture - air\",\n",
            "        \"SF6 - air\"]\n",
            "\n",
            "METHOD = ('ecoinvent-3.11', 'IPCC 2013', 'climate change', 'global temperature change potential (GTP100)')\n",
            "\n",
            "# BACKGROUND DATABASE FILE PATH\n",
            "EXIOBASE_AGGREGATED_A_FILE = os.path.join(os.getcwd(), \"data/A.txt\")\n",
            "EXIOBASE_AGGREGATED_S_FILE = os.path.join(os.getcwd(), \"data/S.txt\")\n",
            "\n",
            "# FOREGROUND DATABASE FILE PATH\n",
            "FOREGROUND_1 = os.path.join(os.getcwd(), \"data/foreground_system_1.csv\")\n",
            "FOREGROUND_2 = os.path.join(os.getcwd(), \"data/foreground_system_2.csv\")\n",
            "\n",
            "# CHARACTERIZATION FACTOR MAPPING FILE PATH\n",
            "CF_MAPPING_FILE = os.path.join(os.getcwd(), \"data/cf_mapping_file.csv\")"
         ]
      },
      {
         "cell_type": "markdown",
         "metadata": {},
         "source": [
            "### Step 1: Get the background database matrices"
         ]
      },
      {
         "cell_type": "markdown",
         "metadata": {},
         "source": [
            "1. Get technosphere matrix"
         ]
      },
      {
         "cell_type": "code",
         "execution_count": 4,
         "metadata": {},
         "outputs": [
            {
               "name": "stdout",
               "output_type": "stream",
               "text": [
                  "The shape of technosphere matrix is: (76, 76)\n"
               ]
            }
         ],
         "source": [
            "bg_importer = BackgroundImporter()\n",
            "\n",
            "tech_df = pd.read_table(EXIOBASE_AGGREGATED_A_FILE, sep='\\t', header=None, low_memory=False)\n",
            "raw_tech = tech_df.iloc[3:, 2:].astype('float').to_numpy()\n",
            "tech_matrix = bg_importer.build_tech_matrix(raw_tech)\n",
            "\n",
            "print(f\"The shape of technosphere matrix is: {tech_matrix.shape}\")"
         ]
      },
      {
         "cell_type": "markdown",
         "metadata": {},
         "source": [
            "2. Get biosphere matrix"
         ]
      },
      {
         "cell_type": "code",
         "execution_count": 5,
         "metadata": {},
         "outputs": [
            {
               "name": "stdout",
               "output_type": "stream",
               "text": [
                  "The shape of biosphere matrix is: (18, 76)\n"
               ]
            }
         ],
         "source": [
            "bio_df = pd.read_csv(EXIOBASE_AGGREGATED_S_FILE, header=[0,1], index_col=[0], sep='\\t', low_memory=False)\n",
            "bio_matrix = bg_importer.build_bio_matrix(bio_df, GHG)\n",
            "\n",
            "print(f\"The shape of biosphere matrix is: {bio_matrix.shape}\")"
         ]
      },
      {
         "cell_type": "markdown",
         "metadata": {},
         "source": [
            "3. Get characterization factor matrix  \n",
            "The characterization factors can be extracted from the ecoinvent biosphere database or from `CF_MAPPING_FILE` file.\n",
            "\n",
            "- If you already have required characterization factors, then you just need to add the characterization factors to the `CFs` column of `CF_MAPPING_FILE` file. Then, run Option 1.\n",
            "- Otherwise, you need to extract characterization factors from the ecoinvent biosphere database. In this case, you must have the ecoinvent databases imported into Brightway. Then, run Option 2."
         ]
      },
      {
         "cell_type": "markdown",
         "metadata": {},
         "source": [
            "Option1: Get characterization factor matrix from the file directly."
         ]
      },
      {
         "cell_type": "code",
         "execution_count": 6,
         "metadata": {},
         "outputs": [
            {
               "name": "stdout",
               "output_type": "stream",
               "text": [
                  "All characterization factors have been found.\n",
                  "The diagonal values of characterization factor matrix: \n",
                  " [1.00e+00 1.00e+00 1.00e+00 1.00e+00 2.70e+01 2.98e+01 2.98e+01 2.98e+01\n",
                  " 2.98e+01 2.98e+01 2.98e+01 2.98e+01 2.98e+01 2.98e+01 2.98e+01 2.73e+02\n",
                  " 2.73e+02 2.52e+04]\n"
               ]
            }
         ],
         "source": [
            "# get characterization factor matrix from the file directly.\n",
            "cf_matrix = bg_importer.build_cf_matrix(CF_MAPPING_FILE, GHG)  # By default, source=\"cf\", so you don't need to pass this parameter to the function.\n",
            "\n",
            "# print the diagonal to check the values.\n",
            "print(f\"The diagonal values of characterization factor matrix: \\n {cf_matrix.diagonal()}\")"
         ]
      },
      {
         "cell_type": "markdown",
         "metadata": {},
         "source": [
            "Option2: Get characterization factor matrix from Brightway."
         ]
      },
      {
         "cell_type": "code",
         "execution_count": 7,
         "metadata": {},
         "outputs": [
            {
               "name": "stdout",
               "output_type": "stream",
               "text": [
                  "All characterization factors have been found.\n",
                  "The diagonal values of characterization factor matrix: \n",
                  " [1.00000000e+00 1.00000000e+00 1.00000000e+00 1.00000000e+00\n",
                  " 4.30000000e+00 5.70000000e+00 5.70000000e+00 5.70000000e+00\n",
                  " 5.70000000e+00 5.70000000e+00 5.70000000e+00 5.70000000e+00\n",
                  " 5.70000000e+00 5.70000000e+00 5.70000000e+00 2.34200000e+02\n",
                  " 2.34200000e+02 2.82148093e+04]\n"
               ]
            }
         ],
         "source": [
            "# get characterization factor matrix from code.\n",
            "cf_matrix = bg_importer.build_cf_matrix(CF_MAPPING_FILE, GHG, \"ecoinvent-3.11-biosphere\", METHOD, source=\"code\")\n",
            "\n",
            "# print the diagonal to check the values.\n",
            "print(f\"The diagonal values of characterization factor matrix: \\n {cf_matrix.diagonal()}\")"
         ]
      },
      {
         "cell_type": "markdown",
         "metadata": {},
         "source": [
            "### Step 2: Buiild datapackage"
         ]
      },
      {
         "cell_type": "markdown",
         "metadata": {},
         "source": [
            "4. Build datapackage"
         ]
      },
      {
         "cell_type": "code",
         "execution_count": 8,
         "metadata": {},
         "outputs": [],
         "source": [
            "dp_builder = DatapackageBuilder()\n",
            "datapackage_data = dp_builder.prepare_dp_matrix(tech_matrix, bio_matrix, cf_matrix)\n",
            "datapackage = dp_builder.prepare_datapackage(datapackage_data)"
         ]
      },
      {
         "cell_type": "markdown",
         "metadata": {},
         "source": [
            "### Step 3: Run LCA"
         ]
      },
      {
         "cell_type": "markdown",
         "metadata": {},
         "source": [
            "5. Run static simulation through brightway directly"
         ]
      },
      {
         "cell_type": "code",
         "execution_count": null,
         "metadata": {},
         "outputs": [
            {
               "name": "stdout",
               "output_type": "stream",
               "text": [
                  "Brightway calculated lca score: (236835.42529875704, 'RoW-Services')\n"
               ]
            }
         ],
         "source": [
            "# Define the index of the functional unit\n",
            "mysector = 68  # RoW-Services\n",
            "\n",
            "bg_activities = get_bg_activities(EXIOBASE_AGGREGATED_A_FILE, \"\\t\")\n",
            "\n",
            "lca = bc.LCA(\n",
            "            demand={mysector : 1},\n",
            "            data_objs=[datapackage],\n",
            "        )\n",
            "lca.lci()\n",
            "lca.lcia()\n",
            "\n",
            "print(f\"Brightway calculated lca score: {lca.score, bg_activities[mysector]}\")\n"
         ]
      },
      {
         "cell_type": "markdown",
         "metadata": {},
         "source": [
            "### Step 6: Compare to manually LCA"
         ]
      },
      {
         "cell_type": "markdown",
         "metadata": {},
         "source": [
            "6. Compare with lca manually."
         ]
      },
      {
         "cell_type": "code",
         "execution_count": 10,
         "metadata": {},
         "outputs": [
            {
               "name": "stdout",
               "output_type": "stream",
               "text": [
                  "Manually calculated lca score: RoW-Services: 236835.42529875695\n"
               ]
            }
         ],
         "source": [
            "lca_wrapper = LCAWrapper()\n",
            "\n",
            "full_tech_matrix_manual = tech_matrix.copy()\n",
            "\n",
            "manual_tech_Data = -full_tech_matrix_manual\n",
            "np.fill_diagonal(manual_tech_Data, -manual_tech_Data.diagonal())\n",
            "\n",
            "manual_lca = lca_wrapper.manual_lca(manual_tech_Data, bio_matrix, cf_matrix, mysector)\n",
            "\n",
            "print(f\"Manually calculated lca score: {bg_activities[mysector]}: {manual_lca}\")\n"
         ]
      }
   ],
   "metadata": {
      "kernelspec": {
         "display_name": "bw25",
         "language": "python",
         "name": "python3"
      },
      "language_info": {
         "codemirror_mode": {
            "name": "ipython",
            "version": 3
         },
         "file_extension": ".py",
         "mimetype": "text/x-python",
         "name": "python",
         "nbconvert_exporter": "python",
         "pygments_lexer": "ipython3",
         "version": "3.12.9"
      }
   },
   "nbformat": 4,
   "nbformat_minor": 2
}
