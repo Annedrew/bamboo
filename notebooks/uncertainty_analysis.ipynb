{
 "cells": [
  {
   "cell_type": "markdown",
   "metadata": {},
   "source": [
    "# Sensitivity analysis with uncertainty"
   ]
  },
  {
   "cell_type": "markdown",
   "metadata": {},
   "source": [
    "This notebook illustrates how to do uncertainty analysis using this library."
   ]
  },
  {
   "cell_type": "markdown",
   "metadata": {},
   "source": [
    "The library use metadata to handle uncertinaty information. There are 3 uncertainty strategy defined in this library:\n",
    "1) `uniformly`: This strategy add the same type/value of the uncertainty to a matrix, but you can add uncertainty for all matricies or only one/two of the matrices.\n",
    "2) `columnwise`: This strategy add the same type/value of the uncertainty to the same column of a matrix, different column can have different type/value of uncertainty. To use this stragety, your uncertainty input should be defined in the file.\n",
    "3) `itemwise`: This strategy add different type/value of the uncertainty different element in the matrix. To use this stragety, your uncertainty input should be defined in the file.\n",
    "\n",
    "Note: \n",
    "  - For strategy 2) and 3), only technosphere and biosphere matrices are supported.\n",
    "  - `itemwise` recommends apply only to the foreground system, considering the amount of data that introduces uncertainty for both systems. The library does not specifically handle this situation."
   ]
  },
  {
   "cell_type": "markdown",
   "metadata": {},
   "source": [
    "### Preparation"
   ]
  },
  {
   "cell_type": "markdown",
   "metadata": {},
   "source": [
    "1. Navigate to the project that contains the ecoinvent database (ecoinvent database is not necessary if you don't need to find characterization factors through Brightway)."
   ]
  },
  {
   "cell_type": "code",
   "execution_count": 1,
   "metadata": {},
   "outputs": [
    {
     "data": {
      "text/plain": [
       "Databases dictionary with 4 object(s):\n",
       "\tALIGNED-biob-prod-dummy\n",
       "\tecoinvent-3.11-biosphere\n",
       "\tecoinvent-3.11-consequential\n",
       "\texldb"
      ]
     },
     "execution_count": 1,
     "metadata": {},
     "output_type": "execute_result"
    }
   ],
   "source": [
    "import bw2data as bd\n",
    "import bw2io as bi\n",
    "\n",
    "bd.projects.set_current(\"advlca25\")\n",
    "\n",
    "bd.databases"
   ]
  },
  {
   "cell_type": "markdown",
   "metadata": {},
   "source": [
    "2. Import required libraries"
   ]
  },
  {
   "cell_type": "code",
   "execution_count": 2,
   "metadata": {},
   "outputs": [],
   "source": [
    "import os\n",
    "from bamboo_lca.background_importer import *\n",
    "from bamboo_lca.foreground_importer import *\n",
    "from bamboo_lca.datapackage_builder import *\n",
    "from bamboo_lca.uncertainty_handler import *\n",
    "from bamboo_lca.lca_wrapper import *\n",
    "from bamboo_lca.uncertainty_importer import *"
   ]
  },
  {
   "cell_type": "markdown",
   "metadata": {},
   "source": [
    "3. Define required constants"
   ]
  },
  {
   "cell_type": "code",
   "execution_count": 3,
   "metadata": {},
   "outputs": [],
   "source": [
    "# This is the biosphere emissions.\n",
    "GHG = [\"CO2 - combustion - air\",\n",
    "        \"CO2 - non combustion - Cement production - air\",\n",
    "        \"CO2 - non combustion - Lime production - air\",\n",
    "        \"CO2 - waste - fossil - air\",\n",
    "        \"CH4 - agriculture - air\",\n",
    "        \"CH4 - waste - air\",\n",
    "        \"CH4 - combustion - air\",\n",
    "        \"CH4 - non combustion - Extraction/production of (natural) gas - air\",\n",
    "        \"CH4 - non combustion - Extraction/production of crude oil - air\",\n",
    "        \"CH4 - non combustion - Mining of antracite - air\",\n",
    "        \"CH4 - non combustion - Mining of bituminous coal - air\",\n",
    "        \"CH4 - non combustion - Mining of coking coal - air\",\n",
    "        \"CH4 - non combustion - Mining of lignite (brown coal) - air\",\n",
    "        \"CH4 - non combustion - Mining of sub-bituminous coal - air\",\n",
    "        \"CH4 - non combustion - Oil refinery - air\",\n",
    "        \"N2O - combustion - air\",\n",
    "        \"N2O - agriculture - air\",\n",
    "        \"SF6 - air\"]\n",
    "\n",
    "METHOD = ('ecoinvent-3.11', 'IPCC 2013', 'climate change', 'global temperature change potential (GTP100)')\n",
    "\n",
    "# BACKGROUND DATABASE FILE PATH\n",
    "EXIOBASE_AGGREGATED_A_FILE = os.path.join(os.getcwd(), \"data/A.txt\")\n",
    "EXIOBASE_AGGREGATED_S_FILE = os.path.join(os.getcwd(), \"data/S.txt\")\n",
    "\n",
    "# FOREGROUND DATABASE FILE PATH\n",
    "FOREGROUND_1 = os.path.join(os.getcwd(), \"data/foreground_system_1.csv\")\n",
    "FOREGROUND_2 = os.path.join(os.getcwd(), \"data/foreground_system_2.csv\")\n",
    "\n",
    "# CHARACTERIZATION FACTOR MAPPING FILE PATH\n",
    "CF_MAPPING_FILE = os.path.join(os.getcwd(), \"data/cf_mapping_file.csv\")"
   ]
  },
  {
   "cell_type": "markdown",
   "metadata": {},
   "source": [
    "### Step 1: Get the background database matrices"
   ]
  },
  {
   "cell_type": "markdown",
   "metadata": {},
   "source": [
    "1. Get technosphere matrix"
   ]
  },
  {
   "cell_type": "code",
   "execution_count": 4,
   "metadata": {},
   "outputs": [
    {
     "name": "stdout",
     "output_type": "stream",
     "text": [
      "The shape of technosphere matrix is: (76, 76)\n"
     ]
    }
   ],
   "source": [
    "bg_importer = BackgroundImporter()\n",
    "\n",
    "tech_df = pd.read_table(EXIOBASE_AGGREGATED_A_FILE, sep='\\t', header=None, low_memory=False)\n",
    "raw_tech = tech_df.iloc[3:, 2:].astype('float').to_numpy()\n",
    "tech_matrix = bg_importer.build_tech_matrix(raw_tech)\n",
    "\n",
    "print(f\"The shape of technosphere matrix is: {tech_matrix.shape}\")"
   ]
  },
  {
   "cell_type": "markdown",
   "metadata": {},
   "source": [
    "2. Get biosphere matrix"
   ]
  },
  {
   "cell_type": "code",
   "execution_count": 5,
   "metadata": {},
   "outputs": [
    {
     "name": "stdout",
     "output_type": "stream",
     "text": [
      "The shape of biosphere matrix is: (18, 76)\n"
     ]
    }
   ],
   "source": [
    "bio_df = pd.read_csv(EXIOBASE_AGGREGATED_S_FILE, header=[0,1], index_col=[0], sep='\\t', low_memory=False)\n",
    "bio_matrix = bg_importer.build_bio_matrix(bio_df, GHG)\n",
    "\n",
    "print(f\"The shape of biosphere matrix is: {bio_matrix.shape}\")"
   ]
  },
  {
   "cell_type": "markdown",
   "metadata": {},
   "source": [
    "3. Get characterization factor matrix  \n",
    "The characterization factors can be extracted from the ecoinvent biosphere database or from `CF_MAPPING_FILE` file.\n",
    "\n",
    "- If you already have required characterization factors, then you just need to add the characterization factors to the `CFs` column of `CF_MAPPING_FILE` file. Run Option 1 code.\n",
    "- Otherwise, you need to extract characterization factors from the ecoinvent biosphere database. In this case, you must have the ecoinvent databases imported into Brightway. Run Option 2 code."
   ]
  },
  {
   "cell_type": "markdown",
   "metadata": {},
   "source": [
    "Option1: Get characterization factor matrix from the file directly."
   ]
  },
  {
   "cell_type": "code",
   "execution_count": 6,
   "metadata": {},
   "outputs": [
    {
     "name": "stdout",
     "output_type": "stream",
     "text": [
      "All characterization factors have been found.\n",
      "The diagonal values of characterization factor matrix: \n",
      " [1.00e+00 1.00e+00 1.00e+00 1.00e+00 2.70e+01 2.98e+01 2.98e+01 2.98e+01\n",
      " 2.98e+01 2.98e+01 2.98e+01 2.98e+01 2.98e+01 2.98e+01 2.98e+01 2.73e+02\n",
      " 2.73e+02 2.52e+04]\n"
     ]
    }
   ],
   "source": [
    "# get characterization factor matrix from the file directly.\n",
    "cf_matrix = bg_importer.build_cf_matrix(CF_MAPPING_FILE, GHG)  # By default, source=\"cf\", so you can omit some parameters.\n",
    "\n",
    "# print the diagonal to check the values.\n",
    "print(f\"The diagonal values of characterization factor matrix: \\n {cf_matrix.diagonal()}\")"
   ]
  },
  {
   "cell_type": "markdown",
   "metadata": {},
   "source": [
    "Option2: Get characterization factor matrix from brightway."
   ]
  },
  {
   "cell_type": "code",
   "execution_count": 7,
   "metadata": {},
   "outputs": [
    {
     "name": "stdout",
     "output_type": "stream",
     "text": [
      "All characterization factors have been found.\n",
      "The diagonal values of characterization factor matrix: \n",
      " [1.00000000e+00 1.00000000e+00 1.00000000e+00 1.00000000e+00\n",
      " 4.30000000e+00 5.70000000e+00 5.70000000e+00 5.70000000e+00\n",
      " 5.70000000e+00 5.70000000e+00 5.70000000e+00 5.70000000e+00\n",
      " 5.70000000e+00 5.70000000e+00 5.70000000e+00 2.34200000e+02\n",
      " 2.34200000e+02 2.82148093e+04]\n"
     ]
    }
   ],
   "source": [
    "# get characterization factor matrix from code.\n",
    "cf_matrix = bg_importer.build_cf_matrix(CF_MAPPING_FILE, GHG, \"ecoinvent-3.11-biosphere\", METHOD, source=\"code\")\n",
    "\n",
    "# print the diagonal to check the values.\n",
    "print(f\"The diagonal values of characterization factor matrix: \\n {cf_matrix.diagonal()}\")"
   ]
  },
  {
   "cell_type": "markdown",
   "metadata": {},
   "source": [
    "### Step 2: Import the foreground database"
   ]
  },
  {
   "cell_type": "markdown",
   "metadata": {},
   "source": [
    "4. Check out the foreground data"
   ]
  },
  {
   "cell_type": "code",
   "execution_count": 8,
   "metadata": {},
   "outputs": [
    {
     "data": {
      "text/html": [
       "<div>\n",
       "<style scoped>\n",
       "    .dataframe tbody tr th:only-of-type {\n",
       "        vertical-align: middle;\n",
       "    }\n",
       "\n",
       "    .dataframe tbody tr th {\n",
       "        vertical-align: top;\n",
       "    }\n",
       "\n",
       "    .dataframe thead th {\n",
       "        text-align: right;\n",
       "    }\n",
       "</style>\n",
       "<table border=\"1\" class=\"dataframe\">\n",
       "  <thead>\n",
       "    <tr style=\"text-align: right;\">\n",
       "      <th></th>\n",
       "      <th>Activity name</th>\n",
       "      <th>Exchange name</th>\n",
       "      <th>Exchange type</th>\n",
       "      <th>Exchange amount</th>\n",
       "      <th>Exchange uncertainty type</th>\n",
       "      <th>GSD</th>\n",
       "      <th>Exchange negative</th>\n",
       "    </tr>\n",
       "  </thead>\n",
       "  <tbody>\n",
       "    <tr>\n",
       "      <th>0</th>\n",
       "      <td>column_1</td>\n",
       "      <td>EU28-Agriculture-Forestry-Fishing</td>\n",
       "      <td>technosphere</td>\n",
       "      <td>0.000000</td>\n",
       "      <td>0</td>\n",
       "      <td>NaN</td>\n",
       "      <td>NaN</td>\n",
       "    </tr>\n",
       "    <tr>\n",
       "      <th>1</th>\n",
       "      <td>column_1</td>\n",
       "      <td>EU28-Energy</td>\n",
       "      <td>technosphere</td>\n",
       "      <td>NaN</td>\n",
       "      <td>0</td>\n",
       "      <td>NaN</td>\n",
       "      <td>NaN</td>\n",
       "    </tr>\n",
       "    <tr>\n",
       "      <th>2</th>\n",
       "      <td>column_1</td>\n",
       "      <td>EU28-Natural gas and services related to natur...</td>\n",
       "      <td>technosphere</td>\n",
       "      <td>NaN</td>\n",
       "      <td>0</td>\n",
       "      <td>NaN</td>\n",
       "      <td>NaN</td>\n",
       "    </tr>\n",
       "    <tr>\n",
       "      <th>3</th>\n",
       "      <td>column_1</td>\n",
       "      <td>EU28-Industry</td>\n",
       "      <td>technosphere</td>\n",
       "      <td>0.000001</td>\n",
       "      <td>2</td>\n",
       "      <td>3.330005</td>\n",
       "      <td>False</td>\n",
       "    </tr>\n",
       "    <tr>\n",
       "      <th>4</th>\n",
       "      <td>column_1</td>\n",
       "      <td>EU28-Motor Gasoline</td>\n",
       "      <td>technosphere</td>\n",
       "      <td>-0.000016</td>\n",
       "      <td>2</td>\n",
       "      <td>1.540000</td>\n",
       "      <td>True</td>\n",
       "    </tr>\n",
       "  </tbody>\n",
       "</table>\n",
       "</div>"
      ],
      "text/plain": [
       "  Activity name                                      Exchange name  \\\n",
       "0      column_1                  EU28-Agriculture-Forestry-Fishing   \n",
       "1      column_1                                        EU28-Energy   \n",
       "2      column_1  EU28-Natural gas and services related to natur...   \n",
       "3      column_1                                      EU28-Industry   \n",
       "4      column_1                                EU28-Motor Gasoline   \n",
       "\n",
       "  Exchange type  Exchange amount  Exchange uncertainty type       GSD  \\\n",
       "0  technosphere         0.000000                          0       NaN   \n",
       "1  technosphere              NaN                          0       NaN   \n",
       "2  technosphere              NaN                          0       NaN   \n",
       "3  technosphere         0.000001                          2  3.330005   \n",
       "4  technosphere        -0.000016                          2  1.540000   \n",
       "\n",
       "  Exchange negative  \n",
       "0               NaN  \n",
       "1               NaN  \n",
       "2               NaN  \n",
       "3             False  \n",
       "4              True  "
      ]
     },
     "execution_count": 8,
     "metadata": {},
     "output_type": "execute_result"
    }
   ],
   "source": [
    "fg_tech_df = pd.read_table(FOREGROUND_2, sep=',')\n",
    "fg_tech_df.head()"
   ]
  },
  {
   "cell_type": "markdown",
   "metadata": {},
   "source": [
    "5. Get activities in foreground system."
   ]
  },
  {
   "cell_type": "code",
   "execution_count": 9,
   "metadata": {},
   "outputs": [
    {
     "data": {
      "text/plain": [
       "['column_1', 'column_2']"
      ]
     },
     "execution_count": 9,
     "metadata": {},
     "output_type": "execute_result"
    }
   ],
   "source": [
    "fg_activities = get_fg_activities(FOREGROUND_2, \",\")\n",
    "fg_activities"
   ]
  },
  {
   "cell_type": "markdown",
   "metadata": {},
   "source": [
    "6. Get activities in background system."
   ]
  },
  {
   "cell_type": "code",
   "execution_count": 10,
   "metadata": {},
   "outputs": [
    {
     "data": {
      "text/plain": [
       "['EU28-Agriculture-Forestry-Fishing',\n",
       " 'EU28-Energy',\n",
       " 'EU28-Natural gas and services related to natural gas extraction, excluding surveying',\n",
       " 'EU28-Industry',\n",
       " 'EU28-Motor Gasoline']"
      ]
     },
     "execution_count": 10,
     "metadata": {},
     "output_type": "execute_result"
    }
   ],
   "source": [
    "bg_activities = get_bg_activities(EXIOBASE_AGGREGATED_A_FILE, \"\\t\")\n",
    "bg_activities[:5] # only list the first five activities here"
   ]
  },
  {
   "cell_type": "markdown",
   "metadata": {},
   "source": [
    "7. Get foreground system matrices.  \n",
    "The foreground system is constructed from four matrices: `fgbg`, `fgfg`, `bgfg`, and `bifg`. These matrices are named to reflect their row and column positions. Specifically:\n",
    "\n",
    "- `fgbg`: This is the matrix locate the foreground row first, then the background column. It indicates the amount of exchange that takes from background to foreground. Normally, there is no such exchange. So, by default this matrix is all zero.\n",
    "- `fgfg`: This is the matrix locate the foreground row first, then the foreground column. It indicates the amount of exchange that takes from foreground to foreground.\n",
    "- `bgfg`: This is the matrix locate the background row first, then the foreground column. It indicates the amount of exchange that takes from foreground to background.\n",
    "- `bifg`: This is the matrix locate the biosphere emission row first, then the foreground column. It indicates the amount of exchange that takes from foreground to biosphere."
   ]
  },
  {
   "cell_type": "code",
   "execution_count": 11,
   "metadata": {},
   "outputs": [],
   "source": [
    "fg_importer = ForegroundImporter()\n",
    "\n",
    "fgbg, fgfg, bgfg, bifg = fg_importer.extend_matrix(fg_tech_df, GHG, fg_activities, bg_activities)"
   ]
  },
  {
   "cell_type": "markdown",
   "metadata": {},
   "source": [
    "8. Concatenate foreground system with background system"
   ]
  },
  {
   "cell_type": "code",
   "execution_count": 12,
   "metadata": {},
   "outputs": [
    {
     "name": "stdout",
     "output_type": "stream",
     "text": [
      "Technosphere shape change from (76, 76) to (78, 78).\n",
      "Biosphere shape change from (18, 76) to (18, 78).\n"
     ]
    }
   ],
   "source": [
    "full_tech_matrix, full_bio_matrix = fg_importer.concatenate_matrix(tech_matrix, bio_matrix, fgbg, fgfg, bgfg, bifg)\n",
    "\n",
    "# to compare the matrix before and after concatenate with foreground system\n",
    "print(f\"Technosphere shape change from {tech_matrix.shape} to {full_tech_matrix.shape}.\")\n",
    "print(f\"Biosphere shape change from {bio_matrix.shape} to {full_bio_matrix.shape}.\")"
   ]
  },
  {
   "cell_type": "markdown",
   "metadata": {},
   "source": [
    "### Step 3: Add uncertainty into metadata"
   ]
  },
  {
   "cell_type": "markdown",
   "metadata": {},
   "source": [
    "9. Get activities for both foreground system and background system."
   ]
  },
  {
   "cell_type": "code",
   "execution_count": 13,
   "metadata": {},
   "outputs": [
    {
     "data": {
      "text/plain": [
       "['column_1',\n",
       " 'column_2',\n",
       " 'EU28-Agriculture-Forestry-Fishing',\n",
       " 'EU28-Energy',\n",
       " 'EU28-Natural gas and services related to natural gas extraction, excluding surveying']"
      ]
     },
     "execution_count": 13,
     "metadata": {},
     "output_type": "execute_result"
    }
   ],
   "source": [
    "activities = fg_activities + bg_activities  # note: we always want foreground activities to be in front.\n",
    "activities[:5]  # only print the first 5 activities"
   ]
  },
  {
   "cell_type": "markdown",
   "metadata": {},
   "source": [
    "10. Store uncertainty information in library metadata"
   ]
  },
  {
   "cell_type": "code",
   "execution_count": 14,
   "metadata": {},
   "outputs": [
    {
     "data": {
      "text/plain": [
       "{0: {'Activity name': 'column_1',\n",
       "  'Activity uncertainty type': 2,\n",
       "  'Exchange uncertainty amount': [1.111,\n",
       "   0.0,\n",
       "   0.0,\n",
       "   0.0,\n",
       "   0.0,\n",
       "   3.33000452,\n",
       "   1.54,\n",
       "   1.54,\n",
       "   0.0,\n",
       "   1.54,\n",
       "   1.54,\n",
       "   4.09770687,\n",
       "   0.0,\n",
       "   1.59,\n",
       "   0.0,\n",
       "   0.0,\n",
       "   2.014014413,\n",
       "   0.0,\n",
       "   2.674794737,\n",
       "   2.674794737,\n",
       "   2.674794737,\n",
       "   2.674794737,\n",
       "   2.674794737,\n",
       "   2.674794737,\n",
       "   2.674794737,\n",
       "   2.674794737,\n",
       "   0.0,\n",
       "   2.674794737,\n",
       "   2.674794737,\n",
       "   0.0,\n",
       "   2.674794737,\n",
       "   2.288684673,\n",
       "   0.0,\n",
       "   0.0,\n",
       "   0.0,\n",
       "   2.238117654,\n",
       "   2.699910682,\n",
       "   0.0,\n",
       "   1.56,\n",
       "   0.0,\n",
       "   0.0,\n",
       "   0.0,\n",
       "   0.0,\n",
       "   0.0,\n",
       "   0.0,\n",
       "   0.0,\n",
       "   0.0,\n",
       "   0.0,\n",
       "   0.0,\n",
       "   0.0,\n",
       "   0.0,\n",
       "   0.0,\n",
       "   0.0,\n",
       "   0.0,\n",
       "   0.0,\n",
       "   0.0,\n",
       "   0.0,\n",
       "   0.0,\n",
       "   0.0,\n",
       "   0.0,\n",
       "   0.0,\n",
       "   0.0,\n",
       "   0.0,\n",
       "   0.0,\n",
       "   0.0,\n",
       "   0.0,\n",
       "   0.0,\n",
       "   0.0,\n",
       "   0.0,\n",
       "   0.0,\n",
       "   0.0,\n",
       "   0.0,\n",
       "   0.0,\n",
       "   0.0,\n",
       "   0.0,\n",
       "   0.0,\n",
       "   0.0,\n",
       "   0.0],\n",
       "  'Exchange negative': [False,\n",
       "   False,\n",
       "   True,\n",
       "   True,\n",
       "   True,\n",
       "   False,\n",
       "   True,\n",
       "   True,\n",
       "   True,\n",
       "   False,\n",
       "   True,\n",
       "   False,\n",
       "   True,\n",
       "   False,\n",
       "   True,\n",
       "   True,\n",
       "   False,\n",
       "   True,\n",
       "   True,\n",
       "   True,\n",
       "   True,\n",
       "   True,\n",
       "   True,\n",
       "   True,\n",
       "   True,\n",
       "   True,\n",
       "   False,\n",
       "   True,\n",
       "   True,\n",
       "   True,\n",
       "   False,\n",
       "   False,\n",
       "   True,\n",
       "   True,\n",
       "   True,\n",
       "   False,\n",
       "   False,\n",
       "   True,\n",
       "   False,\n",
       "   True,\n",
       "   False,\n",
       "   False,\n",
       "   False,\n",
       "   False,\n",
       "   False,\n",
       "   False,\n",
       "   False,\n",
       "   False,\n",
       "   False,\n",
       "   False,\n",
       "   False,\n",
       "   False,\n",
       "   False,\n",
       "   False,\n",
       "   False,\n",
       "   False,\n",
       "   False,\n",
       "   False,\n",
       "   False,\n",
       "   False,\n",
       "   False,\n",
       "   False,\n",
       "   False,\n",
       "   False,\n",
       "   False,\n",
       "   False,\n",
       "   False,\n",
       "   False,\n",
       "   False,\n",
       "   False,\n",
       "   False,\n",
       "   False,\n",
       "   False,\n",
       "   False,\n",
       "   False,\n",
       "   False,\n",
       "   False,\n",
       "   False]},\n",
       " 1: {'Activity name': 'column_2',\n",
       "  'Activity uncertainty type': 2,\n",
       "  'Exchange uncertainty amount': [0.0,\n",
       "   1.111,\n",
       "   0.0,\n",
       "   0.0,\n",
       "   0.0,\n",
       "   3.33000452,\n",
       "   1.54,\n",
       "   1.54,\n",
       "   0.0,\n",
       "   1.54,\n",
       "   1.54,\n",
       "   4.09770687,\n",
       "   0.0,\n",
       "   1.59,\n",
       "   0.0,\n",
       "   0.0,\n",
       "   2.014014413,\n",
       "   0.0,\n",
       "   2.674794737,\n",
       "   2.674794737,\n",
       "   2.674794737,\n",
       "   2.674794737,\n",
       "   2.674794737,\n",
       "   2.674794737,\n",
       "   2.674794737,\n",
       "   2.674794737,\n",
       "   0.0,\n",
       "   2.674794737,\n",
       "   2.674794737,\n",
       "   0.0,\n",
       "   2.674794737,\n",
       "   2.288684673,\n",
       "   0.0,\n",
       "   0.0,\n",
       "   0.0,\n",
       "   2.238117654,\n",
       "   2.699910682,\n",
       "   0.0,\n",
       "   1.56,\n",
       "   0.0,\n",
       "   0.0,\n",
       "   0.0,\n",
       "   0.0,\n",
       "   0.0,\n",
       "   0.0,\n",
       "   0.0,\n",
       "   0.0,\n",
       "   0.0,\n",
       "   0.0,\n",
       "   0.0,\n",
       "   0.0,\n",
       "   0.0,\n",
       "   0.0,\n",
       "   0.0,\n",
       "   0.0,\n",
       "   0.0,\n",
       "   0.0,\n",
       "   0.0,\n",
       "   0.0,\n",
       "   0.0,\n",
       "   0.0,\n",
       "   0.0,\n",
       "   0.0,\n",
       "   0.0,\n",
       "   0.0,\n",
       "   0.0,\n",
       "   0.0,\n",
       "   0.0,\n",
       "   0.0,\n",
       "   0.0,\n",
       "   0.0,\n",
       "   0.0,\n",
       "   0.0,\n",
       "   0.0,\n",
       "   0.0,\n",
       "   0.0,\n",
       "   0.0,\n",
       "   0.0],\n",
       "  'Exchange negative': [False,\n",
       "   False,\n",
       "   True,\n",
       "   True,\n",
       "   True,\n",
       "   False,\n",
       "   True,\n",
       "   True,\n",
       "   True,\n",
       "   False,\n",
       "   True,\n",
       "   False,\n",
       "   True,\n",
       "   False,\n",
       "   True,\n",
       "   True,\n",
       "   False,\n",
       "   True,\n",
       "   True,\n",
       "   True,\n",
       "   True,\n",
       "   True,\n",
       "   True,\n",
       "   True,\n",
       "   True,\n",
       "   True,\n",
       "   False,\n",
       "   True,\n",
       "   True,\n",
       "   True,\n",
       "   False,\n",
       "   False,\n",
       "   True,\n",
       "   True,\n",
       "   True,\n",
       "   False,\n",
       "   False,\n",
       "   True,\n",
       "   False,\n",
       "   True,\n",
       "   False,\n",
       "   False,\n",
       "   False,\n",
       "   False,\n",
       "   False,\n",
       "   False,\n",
       "   False,\n",
       "   False,\n",
       "   False,\n",
       "   False,\n",
       "   False,\n",
       "   False,\n",
       "   False,\n",
       "   False,\n",
       "   False,\n",
       "   False,\n",
       "   False,\n",
       "   False,\n",
       "   False,\n",
       "   False,\n",
       "   False,\n",
       "   False,\n",
       "   False,\n",
       "   False,\n",
       "   False,\n",
       "   False,\n",
       "   False,\n",
       "   False,\n",
       "   False,\n",
       "   False,\n",
       "   False,\n",
       "   False,\n",
       "   False,\n",
       "   False,\n",
       "   False,\n",
       "   False,\n",
       "   False,\n",
       "   False]},\n",
       " 2: {'Activity name': 'EU28-Agriculture-Forestry-Fishing'},\n",
       " 3: {'Activity name': 'EU28-Energy'},\n",
       " 4: {'Activity name': 'EU28-Natural gas and services related to natural gas extraction, excluding surveying'},\n",
       " 5: {'Activity name': 'EU28-Industry'},\n",
       " 6: {'Activity name': 'EU28-Motor Gasoline'},\n",
       " 7: {'Activity name': 'EU28-Gas/Diesel Oil'},\n",
       " 8: {'Activity name': 'EU28-Refinery Feedstocks'},\n",
       " 9: {'Activity name': 'EU28-Lubricants'},\n",
       " 10: {'Activity name': 'EU28-P- and other fertiliser'},\n",
       " 11: {'Activity name': 'EU28-Chemicals nec'},\n",
       " 12: {'Activity name': 'EU28-Biogasoline'},\n",
       " 13: {'Activity name': 'EU28-Biodiesels'},\n",
       " 14: {'Activity name': 'EU28-Cement, lime and plaster'},\n",
       " 15: {'Activity name': 'EU28-Basic iron and steel and of ferro-alloys and first products thereof'},\n",
       " 16: {'Activity name': 'EU28-Aluminium and aluminium products'},\n",
       " 17: {'Activity name': 'EU28-Copper products'},\n",
       " 18: {'Activity name': 'EU28-Electricity by coal'},\n",
       " 19: {'Activity name': 'EU28-Electricity by gas'},\n",
       " 20: {'Activity name': 'EU28-Electricity by nuclear'},\n",
       " 21: {'Activity name': 'EU28-Electricity by hydro'},\n",
       " 22: {'Activity name': 'EU28-Electricity by wind'},\n",
       " 23: {'Activity name': 'EU28-Electricity by petroleum and other oil derivatives'},\n",
       " 24: {'Activity name': 'EU28-Electricity by biomass and waste'},\n",
       " 25: {'Activity name': 'EU28-Electricity by solar photovoltaic'},\n",
       " 26: {'Activity name': 'EU28-Electricity by solar thermal'},\n",
       " 27: {'Activity name': 'EU28-Electricity by tide, wave, ocean'},\n",
       " 28: {'Activity name': 'EU28-Electricity by Geothermal'},\n",
       " 29: {'Activity name': 'EU28-Electricity nec'},\n",
       " 30: {'Activity name': 'EU28-Steam and hot water supply services'},\n",
       " 31: {'Activity name': 'EU28-Collected and purified water, distribution services of water (41)'},\n",
       " 32: {'Activity name': 'EU28-Services'},\n",
       " 33: {'Activity name': 'EU28-Railway transportation services'},\n",
       " 34: {'Activity name': 'EU28-Other land transportation services'},\n",
       " 35: {'Activity name': 'EU28-Waste management'},\n",
       " 36: {'Activity name': 'EU28-Intert/metal waste for treatment: incineration'},\n",
       " 37: {'Activity name': 'EU28-Sewage sludge for treatment: biogasification and land application'},\n",
       " 38: {'Activity name': 'EU28-Other waste for treatment: waste water treatment'},\n",
       " 39: {'Activity name': 'EU28-Inert/metal/hazardous waste for treatment: landfill'},\n",
       " 40: {'Activity name': 'RoW-Agriculture-Forestry-Fishing'},\n",
       " 41: {'Activity name': 'RoW-Energy'},\n",
       " 42: {'Activity name': 'RoW-Natural gas and services related to natural gas extraction, excluding surveying'},\n",
       " 43: {'Activity name': 'RoW-Industry'},\n",
       " 44: {'Activity name': 'RoW-Motor Gasoline'},\n",
       " 45: {'Activity name': 'RoW-Gas/Diesel Oil'},\n",
       " 46: {'Activity name': 'RoW-Refinery Feedstocks'},\n",
       " 47: {'Activity name': 'RoW-Lubricants'},\n",
       " 48: {'Activity name': 'RoW-P- and other fertiliser'},\n",
       " 49: {'Activity name': 'RoW-Chemicals nec'},\n",
       " 50: {'Activity name': 'RoW-Biogasoline'},\n",
       " 51: {'Activity name': 'RoW-Biodiesels'},\n",
       " 52: {'Activity name': 'RoW-Cement, lime and plaster'},\n",
       " 53: {'Activity name': 'RoW-Basic iron and steel and of ferro-alloys and first products thereof'},\n",
       " 54: {'Activity name': 'RoW-Aluminium and aluminium products'},\n",
       " 55: {'Activity name': 'RoW-Copper products'},\n",
       " 56: {'Activity name': 'RoW-Electricity by coal'},\n",
       " 57: {'Activity name': 'RoW-Electricity by gas'},\n",
       " 58: {'Activity name': 'RoW-Electricity by nuclear'},\n",
       " 59: {'Activity name': 'RoW-Electricity by hydro'},\n",
       " 60: {'Activity name': 'RoW-Electricity by wind'},\n",
       " 61: {'Activity name': 'RoW-Electricity by petroleum and other oil derivatives'},\n",
       " 62: {'Activity name': 'RoW-Electricity by biomass and waste'},\n",
       " 63: {'Activity name': 'RoW-Electricity by solar photovoltaic'},\n",
       " 64: {'Activity name': 'RoW-Electricity by solar thermal'},\n",
       " 65: {'Activity name': 'RoW-Electricity by tide, wave, ocean'},\n",
       " 66: {'Activity name': 'RoW-Electricity by Geothermal'},\n",
       " 67: {'Activity name': 'RoW-Electricity nec'},\n",
       " 68: {'Activity name': 'RoW-Steam and hot water supply services'},\n",
       " 69: {'Activity name': 'RoW-Collected and purified water, distribution services of water (41)'},\n",
       " 70: {'Activity name': 'RoW-Services'},\n",
       " 71: {'Activity name': 'RoW-Railway transportation services'},\n",
       " 72: {'Activity name': 'RoW-Other land transportation services'},\n",
       " 73: {'Activity name': 'RoW-Waste management'},\n",
       " 74: {'Activity name': 'RoW-Intert/metal waste for treatment: incineration'},\n",
       " 75: {'Activity name': 'RoW-Sewage sludge for treatment: biogasification and land application'},\n",
       " 76: {'Activity name': 'RoW-Other waste for treatment: waste water treatment'},\n",
       " 77: {'Activity name': 'RoW-Inert/metal/hazardous waste for treatment: landfill'}}"
      ]
     },
     "execution_count": 14,
     "metadata": {},
     "output_type": "execute_result"
    }
   ],
   "source": [
    "uncertainty_importer = UncertaintyImporter(FOREGROUND_2, \",\")\n",
    "uncertainty_importer.update_metadata_uncertainty(activities, \"itemwise\")  # here the uncertainty strategy is set to \"itemwise\" as an example.\n",
    "uncertainty_importer.metadata"
   ]
  },
  {
   "cell_type": "markdown",
   "metadata": {},
   "source": [
    "### Step 4: Build datapackage"
   ]
  },
  {
   "cell_type": "markdown",
   "metadata": {},
   "source": [
    "11. Prepare datapackage matrix data"
   ]
  },
  {
   "cell_type": "code",
   "execution_count": 15,
   "metadata": {},
   "outputs": [],
   "source": [
    "dp_builder = DatapackageBuilder()\n",
    "(full_tech_data, full_tech_indices, full_tech_flip), (full_bio_data, full_bio_indices), (cf_data, cf_indices) = dp_builder.prepare_dp_matrix(full_tech_matrix, full_bio_matrix, cf_matrix)"
   ]
  },
  {
   "cell_type": "markdown",
   "metadata": {},
   "source": [
    "12. Build uncertainty arrays for datapackage"
   ]
  },
  {
   "cell_type": "code",
   "execution_count": 16,
   "metadata": {},
   "outputs": [],
   "source": [
    "uncertainty_handler = UncertaintyHandler()\n",
    "full_tech_uncertainty_array = uncertainty_handler.add_nonuniform_uncertainty(full_tech_data, full_tech_indices, full_tech_flip, \"itemwise\", fg_num=2, fg_strategy=\"itemwise\")\n",
    "full_bio_uncertainty_array = uncertainty_handler.add_nonuniform_uncertainty(full_bio_data, full_bio_indices, None, \"itemwise\", fg_num=2, fg_strategy=\"itemwise\")"
   ]
  },
  {
   "cell_type": "markdown",
   "metadata": {},
   "source": [
    "13. Check the shape of the uncertainty array.  \n",
    "- As long as the data shape is identical to the uncertainty shape, it's correct.  \n",
    "- Note: the shape is not identical to the matrix shape (76 * 76), (20 * 76) or (20), because a sparse matrix does not store zero data."
   ]
  },
  {
   "cell_type": "code",
   "execution_count": 17,
   "metadata": {},
   "outputs": [
    {
     "name": "stdout",
     "output_type": "stream",
     "text": [
      "The length of technosphere and biosphere array: ((5556,), (1291,))\n",
      "The length of technosphere and biosphere uncertainty array: ((5556,), (1291,))\n"
     ]
    }
   ],
   "source": [
    "print(f\"The length of technosphere and biosphere array: {full_tech_data.shape, full_bio_data.shape}\")\n",
    "print(f\"The length of technosphere and biosphere uncertainty array: {full_tech_uncertainty_array.shape, full_bio_uncertainty_array.shape}\")"
   ]
  },
  {
   "cell_type": "markdown",
   "metadata": {},
   "source": [
    "14. Check the uncertainty data"
   ]
  },
  {
   "cell_type": "code",
   "execution_count": 18,
   "metadata": {},
   "outputs": [
    {
     "name": "stdout",
     "output_type": "stream",
     "text": [
      "Information store in uncertainty array: \n",
      " ['uncertainty_type', 'loc', 'scale', 'shape', 'minimum', 'maximum', 'negative'] \n",
      "\n",
      "Examples of uncertainty data required in datapackage: \n",
      " [(2, 0.        , 0.10526051, nan, nan, nan, False)\n",
      " (2, 0.        , 0.10526051, nan, nan, nan, False)\n",
      " (0, 0.7363383 ,        nan, nan, nan, nan, False)\n",
      " (0, 0.00132513,        nan, nan, nan, nan, False)\n",
      " (0, 0.00250369,        nan, nan, nan, nan, False)\n",
      " (0, 0.00457712,        nan, nan, nan, nan, False)\n",
      " (0, 0.00210603,        nan, nan, nan, nan, False)\n",
      " (0, 0.00186496,        nan, nan, nan, nan, False)\n",
      " (0, 0.00194427,        nan, nan, nan, nan, False)\n",
      " (0, 0.00127726,        nan, nan, nan, nan, False)] \n",
      "\n"
     ]
    }
   ],
   "source": [
    "print(f\"Information store in uncertainty array: \\n {[dtype[0]for dtype in bwp.UNCERTAINTY_DTYPE]} \\n\")\n",
    "print(f\"Examples of uncertainty data required in datapackage: \\n {full_tech_uncertainty_array[:10]} \\n\")"
   ]
  },
  {
   "cell_type": "markdown",
   "metadata": {},
   "source": [
    "15. Build datapackage"
   ]
  },
  {
   "cell_type": "code",
   "execution_count": 19,
   "metadata": {},
   "outputs": [
    {
     "data": {
      "text/plain": [
       "[array([( 0,  0), ( 1,  1), ( 2,  2), ..., (77, 75), (77, 76), (77, 77)],\n",
       "       dtype=[('row', '<i8'), ('col', '<i8')]),\n",
       " array([1.00000000e+00, 1.00000000e+00, 7.36338343e-01, ...,\n",
       "        6.24171469e-03, 9.40994608e-04, 9.95178298e-01]),\n",
       " array([(2, 0.0000000e+00, 0.10526051, nan, nan, nan, False),\n",
       "        (2, 0.0000000e+00, 0.10526051, nan, nan, nan, False),\n",
       "        (0, 7.3633832e-01,        nan, nan, nan, nan, False), ...,\n",
       "        (0, 6.2417146e-03,        nan, nan, nan, nan, False),\n",
       "        (0, 9.4099459e-04,        nan, nan, nan, nan, False),\n",
       "        (0, 9.9517828e-01,        nan, nan, nan, nan, False)],\n",
       "       dtype=[('uncertainty_type', 'u1'), ('loc', '<f4'), ('scale', '<f4'), ('shape', '<f4'), ('minimum', '<f4'), ('maximum', '<f4'), ('negative', '?')]),\n",
       " array([False, False, False, ...,  True,  True, False]),\n",
       " array([(78,  2), (78,  3), (78,  4), ..., (95, 75), (95, 76), (95, 77)],\n",
       "       dtype=[('row', '<i8'), ('col', '<i8')]),\n",
       " array([6.92719535e+04, 2.24902521e+05, 1.58717207e+06, ...,\n",
       "        9.42383644e-01, 1.63469899e+00, 1.22051445e-03]),\n",
       " array([(78, 78), (79, 79), (80, 80), (81, 81), (82, 82), (83, 83),\n",
       "        (84, 84), (85, 85), (86, 86), (87, 87), (88, 88), (89, 89),\n",
       "        (90, 90), (91, 91), (92, 92), (93, 93), (94, 94), (95, 95)],\n",
       "       dtype=[('row', '<i8'), ('col', '<i8')]),\n",
       " array([1.00000000e+00, 1.00000000e+00, 1.00000000e+00, 1.00000000e+00,\n",
       "        4.30000000e+00, 5.70000000e+00, 5.70000000e+00, 5.70000000e+00,\n",
       "        5.70000000e+00, 5.70000000e+00, 5.70000000e+00, 5.70000000e+00,\n",
       "        5.70000000e+00, 5.70000000e+00, 5.70000000e+00, 2.34200000e+02,\n",
       "        2.34200000e+02, 2.82148093e+04])]"
      ]
     },
     "execution_count": 19,
     "metadata": {},
     "output_type": "execute_result"
    }
   ],
   "source": [
    "datapackage_data = [(full_tech_data, full_tech_indices, full_tech_flip), (full_bio_data, full_bio_indices), (cf_data, cf_indices)]\n",
    "uncertainty = [full_tech_uncertainty_array, full_bio_uncertainty_array, None]\n",
    "\n",
    "dp = dp_builder.prepare_datapackage(datapackage_data, uncertainty)\n",
    "dp.data"
   ]
  },
  {
   "cell_type": "markdown",
   "metadata": {},
   "source": [
    "### Step 5: Run LCA"
   ]
  },
  {
   "cell_type": "markdown",
   "metadata": {},
   "source": [
    "16. Choose functional unit"
   ]
  },
  {
   "cell_type": "code",
   "execution_count": 20,
   "metadata": {},
   "outputs": [
    {
     "name": "stdout",
     "output_type": "stream",
     "text": [
      "The index of the 'column_1' is 0\n",
      "The functional unit is {0: 1}\n"
     ]
    }
   ],
   "source": [
    "# This is the list includes all activities.\n",
    "activities = fg_activities + bg_activities \n",
    "\n",
    "# We want to set \"column_1\" as functional unit.\n",
    "selected_activity = \"column_1\"\n",
    "\n",
    "# We need to find the index of the activity in activities.\n",
    "index = activities.index(selected_activity)\n",
    "\n",
    "print(f\"The index of the 'column_1' is {index}\")\n",
    "\n",
    "# Define the index of the functional unit\n",
    "functional_unit = {index: 1}\n",
    "print(f\"The functional unit is {functional_unit}\")"
   ]
  },
  {
   "cell_type": "markdown",
   "metadata": {},
   "source": [
    "17. Run static LCA"
   ]
  },
  {
   "cell_type": "code",
   "execution_count": 21,
   "metadata": {},
   "outputs": [
    {
     "name": "stdout",
     "output_type": "stream",
     "text": [
      "Brightway calculated lca score: (-78.81960328012741, 'column_1')\n"
     ]
    }
   ],
   "source": [
    "lca = bc.LCA(\n",
    "            demand=functional_unit,\n",
    "            data_objs=[dp],\n",
    "        )\n",
    "lca.lci()\n",
    "lca.lcia()\n",
    "\n",
    "print(f\"Brightway calculated lca score: {lca.score, activities[index]}\")"
   ]
  },
  {
   "cell_type": "markdown",
   "metadata": {},
   "source": [
    "18. Run LCA 10 times to see the uncertainty"
   ]
  },
  {
   "cell_type": "code",
   "execution_count": 22,
   "metadata": {},
   "outputs": [
    {
     "name": "stdout",
     "output_type": "stream",
     "text": [
      "Brightway calculated lca score: (-68.90978348216971, 'column_1')\n",
      "Brightway calculated lca score: (-153.94447894853582, 'column_1')\n",
      "Brightway calculated lca score: (-74.48719330802712, 'column_1')\n",
      "Brightway calculated lca score: (-80.51324902195626, 'column_1')\n",
      "Brightway calculated lca score: (285.883182018309, 'column_1')\n",
      "Brightway calculated lca score: (-108.16099489422879, 'column_1')\n",
      "Brightway calculated lca score: (-103.24785480664286, 'column_1')\n",
      "Brightway calculated lca score: (-45.75067151174946, 'column_1')\n",
      "Brightway calculated lca score: (-87.33751320798945, 'column_1')\n",
      "Brightway calculated lca score: (-57.586852561008065, 'column_1')\n"
     ]
    }
   ],
   "source": [
    "for i in range(10):\n",
    "    lca = bc.LCA(\n",
    "                demand=functional_unit,\n",
    "                data_objs=[dp],\n",
    "                use_distributions=True,\n",
    "            )\n",
    "    lca.lci()\n",
    "    lca.lcia()\n",
    "\n",
    "    print(f\"Brightway calculated lca score: {lca.score, activities[index]}\")"
   ]
  },
  {
   "cell_type": "markdown",
   "metadata": {},
   "source": [
    "### Step 6: Compare to manually LCA"
   ]
  },
  {
   "cell_type": "markdown",
   "metadata": {},
   "source": [
    "19. Compare with lca manually."
   ]
  },
  {
   "cell_type": "code",
   "execution_count": 23,
   "metadata": {},
   "outputs": [
    {
     "name": "stdout",
     "output_type": "stream",
     "text": [
      "Manually calculated lca score: EU28-Agriculture-Forestry-Fishing: -78.81960328012745\n"
     ]
    }
   ],
   "source": [
    "lca_wrapper = LCAWrapper()\n",
    "\n",
    "full_tech_matrix_manual = full_tech_matrix.copy()\n",
    "\n",
    "np.fill_diagonal(full_tech_matrix_manual, -full_tech_matrix_manual.diagonal())\n",
    "full_tech_matrix_manual = -full_tech_matrix_manual\n",
    "\n",
    "manual_lca = lca_wrapper.manual_lca(full_tech_matrix_manual, full_bio_matrix, cf_matrix, index)\n",
    "\n",
    "print(f\"Manually calculated lca score: {bg_activities[index]}: {manual_lca}\")"
   ]
  }
 ],
 "metadata": {
  "kernelspec": {
   "display_name": "bw25",
   "language": "python",
   "name": "python3"
  },
  "language_info": {
   "codemirror_mode": {
    "name": "ipython",
    "version": 3
   },
   "file_extension": ".py",
   "mimetype": "text/x-python",
   "name": "python",
   "nbconvert_exporter": "python",
   "pygments_lexer": "ipython3",
   "version": "3.12.9"
  }
 },
 "nbformat": 4,
 "nbformat_minor": 2
}
