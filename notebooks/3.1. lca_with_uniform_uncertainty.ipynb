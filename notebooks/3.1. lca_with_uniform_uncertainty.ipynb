{
 "cells": [
  {
   "cell_type": "markdown",
   "id": "acb1cb93",
   "metadata": {},
   "source": [
    "# LCA with uniform uncertainty "
   ]
  },
  {
   "cell_type": "markdown",
   "id": "9eb0cab5",
   "metadata": {},
   "source": [
    "Steps for Performing LCA with Uniform Uncertainty:\n",
    "1. Prepare the input files.\n",
    "2. Import the product system.\n",
    "3. Create uncertainty arrays for datapackages.\n",
    "4. Create datapackages with uncertainty information.\n",
    "5. Perform the Life Cycle Assessment (LCA)."
   ]
  },
  {
   "cell_type": "markdown",
   "id": "ec42e1a3",
   "metadata": {},
   "source": [
    "1. Navigate to the project that contains the ecoinvent database (ecoinvent database is not necessary if you don't need to find characterization factors through Brightway)."
   ]
  },
  {
   "cell_type": "code",
   "execution_count": 1,
   "id": "4e9d71a9",
   "metadata": {},
   "outputs": [
    {
     "data": {
      "text/plain": [
       "Databases dictionary with 4 object(s):\n",
       "\tALIGNED-biob-prod-dummy\n",
       "\tecoinvent-3.11-biosphere\n",
       "\tecoinvent-3.11-consequential\n",
       "\texldb"
      ]
     },
     "execution_count": 1,
     "metadata": {},
     "output_type": "execute_result"
    }
   ],
   "source": [
    "import bw2data as bd\n",
    "\n",
    "bd.projects.set_current(\"advlca25\")\n",
    "bd.databases"
   ]
  },
  {
   "cell_type": "markdown",
   "id": "d8f89e93",
   "metadata": {},
   "source": [
    "2. Import required libraries"
   ]
  },
  {
   "cell_type": "code",
   "execution_count": 2,
   "id": "ea9da312",
   "metadata": {},
   "outputs": [],
   "source": [
    "import os\n",
    "from bamboo_lca.background_importer import *\n",
    "from bamboo_lca.foreground_importer import *\n",
    "from bamboo_lca.datapackage_builder import *\n",
    "from bamboo_lca.uncertainty_handler import *\n",
    "from bamboo_lca.lca_wrapper import *\n",
    "from bamboo_lca.uncertainty_importer import *"
   ]
  },
  {
   "cell_type": "markdown",
   "id": "03801fef",
   "metadata": {},
   "source": [
    "3. Define required constants"
   ]
  },
  {
   "cell_type": "code",
   "execution_count": 3,
   "id": "c920d34e",
   "metadata": {},
   "outputs": [],
   "source": [
    "# BACKGROUND DATABASE FILE PATH\n",
    "EXIOBASE_AGGREGATED_A_FILE = os.path.join(os.getcwd(), \"data/A.txt\")\n",
    "EXIOBASE_AGGREGATED_S_FILE = os.path.join(os.getcwd(), \"data/S.txt\")\n",
    "\n",
    "# FOREGROUND DATABASE FILE PATH\n",
    "FOREGROUND_FILE = os.path.join(os.getcwd(), \"data/foreground_system.csv\")\n",
    "\n",
    "# CHARACTERIZATION FACTOR MAPPING FILE PATH\n",
    "CF_MAPPING_FILE = os.path.join(os.getcwd(), \"data/cf_mapping_file.csv\")\n",
    "\n",
    "# LCIA METHOD\n",
    "METHOD = ('ecoinvent-3.11', 'IPCC 2013', 'climate change', 'global temperature change potential (GTP100)')\n",
    "\n",
    "# CHOSEN BIOSPHERE EMISSIONS\n",
    "GHG = [\"CO2 - combustion - air\",\n",
    "        \"CO2 - non combustion - Cement production - air\",\n",
    "        \"CO2 - non combustion - Lime production - air\",\n",
    "        \"CO2 - waste - fossil - air\",\n",
    "        \"CH4 - agriculture - air\",\n",
    "        \"CH4 - waste - air\",\n",
    "        \"CH4 - combustion - air\",\n",
    "        \"CH4 - non combustion - Extraction/production of (natural) gas - air\",\n",
    "        \"CH4 - non combustion - Extraction/production of crude oil - air\",\n",
    "        \"CH4 - non combustion - Mining of antracite - air\",\n",
    "        \"CH4 - non combustion - Mining of bituminous coal - air\",\n",
    "        \"CH4 - non combustion - Mining of coking coal - air\",\n",
    "        \"CH4 - non combustion - Mining of lignite (brown coal) - air\",\n",
    "        \"CH4 - non combustion - Mining of sub-bituminous coal - air\",\n",
    "        \"CH4 - non combustion - Oil refinery - air\",\n",
    "        \"N2O - combustion - air\",\n",
    "        \"N2O - agriculture - air\",\n",
    "        \"SF6 - air\"]"
   ]
  },
  {
   "cell_type": "markdown",
   "id": "6771b3a8",
   "metadata": {},
   "source": [
    "4. Import the background system. (Click [here](1.%20lca_with_background.ipynb) for more detailed explanation.)"
   ]
  },
  {
   "cell_type": "code",
   "execution_count": 4,
   "id": "2ea86cac",
   "metadata": {},
   "outputs": [
    {
     "name": "stdout",
     "output_type": "stream",
     "text": [
      "All characterization factors have been found.\n"
     ]
    }
   ],
   "source": [
    "bg_importer = BackgroundImporter()\n",
    "\n",
    "tech_df = pd.read_table(EXIOBASE_AGGREGATED_A_FILE, sep='\\t', header=None, low_memory=False)\n",
    "raw_tech = tech_df.iloc[3:, 2:].astype('float').to_numpy()\n",
    "tech_matrix = bg_importer.build_tech_matrix(raw_tech)\n",
    "\n",
    "bio_df = pd.read_csv(EXIOBASE_AGGREGATED_S_FILE, header=[0,1], index_col=[0], sep='\\t', low_memory=False)\n",
    "bio_matrix = bg_importer.build_bio_matrix(bio_df, GHG)\n",
    "\n",
    "cf_matrix = bg_importer.build_cf_matrix(CF_MAPPING_FILE, GHG)"
   ]
  },
  {
   "cell_type": "markdown",
   "id": "3a853ab2",
   "metadata": {},
   "source": [
    "5. Import the foregorund system. (Click [here](2.%20lca_with_foreground.ipynb) for more detailed explanation.)"
   ]
  },
  {
   "cell_type": "code",
   "execution_count": 5,
   "id": "dbcea23d",
   "metadata": {},
   "outputs": [],
   "source": [
    "# Find all activities in the product system.\n",
    "bg_activities = get_bg_activities(EXIOBASE_AGGREGATED_A_FILE, \"\\t\")\n",
    "fg_activities = get_fg_activities(FOREGROUND_FILE, \",\", bg_activities)\n",
    "activities = fg_activities + bg_activities\n",
    "\n",
    "# Import the foreground system\n",
    "fg_tech_df = pd.read_table(FOREGROUND_FILE, sep=',')\n",
    "fg_dataframe = get_fg_dataframe(fg_tech_df, fg_activities)\n",
    "\n",
    "fg_importer = ForegroundImporter()\n",
    "fgbg, fgfg, bgfg, bifg = fg_importer.extend_matrix(fg_dataframe, GHG, fg_activities, bg_activities)\n",
    "full_tech_matrix, full_bio_matrix = fg_importer.concatenate_matrix(tech_matrix, bio_matrix, fgbg, fgfg, bgfg, bifg)"
   ]
  },
  {
   "cell_type": "markdown",
   "id": "6ed30239",
   "metadata": {},
   "source": [
    "6. Prepare datapackage matrix data"
   ]
  },
  {
   "cell_type": "code",
   "execution_count": 6,
   "id": "9b6cd4f0",
   "metadata": {},
   "outputs": [],
   "source": [
    "dp_builder = DatapackageBuilder()\n",
    "\n",
    "(tech_data, tech_indices, tech_flip), (bio_data, bio_indices), (cf_data, cf_indices) = dp_builder.prepare_dp_matrix(full_tech_matrix, full_bio_matrix, cf_matrix)\n",
    "datapackage_data = (tech_data, tech_indices, tech_flip), (bio_data, bio_indices), (cf_data, cf_indices)"
   ]
  },
  {
   "cell_type": "markdown",
   "id": "7484007c",
   "metadata": {},
   "source": [
    "7. Prepare datapackage uncertainty data"
   ]
  },
  {
   "cell_type": "code",
   "execution_count": 7,
   "id": "994a8d1b",
   "metadata": {},
   "outputs": [],
   "source": [
    "# Set uncertainty\n",
    "uncertainty_type = 2\n",
    "uncertainty_value = 1.106\n",
    "\n",
    "# Create uncertainty arrays\n",
    "uncertainty_handler = UncertaintyHandler()\n",
    "tech_uncertainty_array = uncertainty_handler.add_uniform_uncertainty(uncertainty_type, uncertainty_value, True, tech_data, tech_flip)\n",
    "bio_uncertainty_array = uncertainty_handler.add_uniform_uncertainty(uncertainty_type, uncertainty_value, True, bio_data)\n",
    "uncertainty = [tech_uncertainty_array, bio_uncertainty_array, None]"
   ]
  },
  {
   "cell_type": "markdown",
   "id": "1a9278e1",
   "metadata": {},
   "source": [
    "8. Create the datapackage"
   ]
  },
  {
   "cell_type": "code",
   "execution_count": 8,
   "id": "718ee816",
   "metadata": {},
   "outputs": [],
   "source": [
    "dp = dp_builder.prepare_datapackage(datapackage_data, uncertainty)"
   ]
  },
  {
   "cell_type": "markdown",
   "id": "554d36fb",
   "metadata": {},
   "source": [
    "9. Set functional unit"
   ]
  },
  {
   "cell_type": "code",
   "execution_count": 9,
   "id": "dd7f56c9",
   "metadata": {},
   "outputs": [
    {
     "name": "stdout",
     "output_type": "stream",
     "text": [
      "The functional unit is {71: 1}\n"
     ]
    }
   ],
   "source": [
    "# Set \"RoW-Services\" as functional unit. (NOTE: By default, the region and industry name are joined with a dash.)\n",
    "selected_activity = \"RoW-Services\"\n",
    "\n",
    "# Find the index of the activity in activities.\n",
    "index = activities.index(selected_activity)\n",
    "\n",
    "# Define the functional unit\n",
    "functional_unit = {index: 1}\n",
    "print(f\"The functional unit is {functional_unit}\")"
   ]
  },
  {
   "cell_type": "markdown",
   "id": "b7ab3903",
   "metadata": {},
   "source": [
    "10. Perform LCA"
   ]
  },
  {
   "cell_type": "code",
   "execution_count": 11,
   "id": "aadd793d",
   "metadata": {},
   "outputs": [
    {
     "name": "stdout",
     "output_type": "stream",
     "text": [
      "Brightway calculated lca score: RoW-Services, 8824.900772259492\n"
     ]
    }
   ],
   "source": [
    "lca = bc.LCA(\n",
    "            demand=functional_unit,\n",
    "            data_objs=[dp],\n",
    "            use_distributions=True,\n",
    "        )\n",
    "lca.lci()\n",
    "lca.lcia()\n",
    "\n",
    "print(f\"Brightway calculated lca score: {activities[index]}, {lca.score}\")"
   ]
  }
 ],
 "metadata": {
  "kernelspec": {
   "display_name": "bw25",
   "language": "python",
   "name": "python3"
  },
  "language_info": {
   "codemirror_mode": {
    "name": "ipython",
    "version": 3
   },
   "file_extension": ".py",
   "mimetype": "text/x-python",
   "name": "python",
   "nbconvert_exporter": "python",
   "pygments_lexer": "ipython3",
   "version": "3.12.9"
  }
 },
 "nbformat": 4,
 "nbformat_minor": 5
}
