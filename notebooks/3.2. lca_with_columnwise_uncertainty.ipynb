{
 "cells": [
  {
   "cell_type": "markdown",
   "id": "bca6985f",
   "metadata": {},
   "source": [
    "# LCA with columnwise uncertainty "
   ]
  },
  {
   "cell_type": "markdown",
   "id": "0f867f27",
   "metadata": {},
   "source": [
    "Steps for Performing LCA with Columnwise Uncertainty:\n",
    "1. Prepare the input files.\n",
    "2. Import the product system.\n",
    "3. Incorporate uncertainty information into the metadata.\n",
    "4. Create datapackages with uncertainty information.\n",
    "5. Perform the Life Cycle Assessment (LCA)."
   ]
  },
  {
   "cell_type": "markdown",
   "id": "08af0b81",
   "metadata": {},
   "source": [
    "1. Navigate to the project that contains the ecoinvent database (ecoinvent database is not necessary if you don't need to find characterization factors through Brightway)."
   ]
  },
  {
   "cell_type": "code",
   "execution_count": 1,
   "id": "16ec2129",
   "metadata": {},
   "outputs": [
    {
     "data": {
      "text/plain": [
       "Databases dictionary with 4 object(s):\n",
       "\tALIGNED-biob-prod-dummy\n",
       "\tecoinvent-3.11-biosphere\n",
       "\tecoinvent-3.11-consequential\n",
       "\texldb"
      ]
     },
     "execution_count": 1,
     "metadata": {},
     "output_type": "execute_result"
    }
   ],
   "source": [
    "import bw2data as bd\n",
    "\n",
    "bd.projects.set_current(\"advlca25\")\n",
    "bd.databases"
   ]
  },
  {
   "cell_type": "markdown",
   "id": "bc7a2a80",
   "metadata": {},
   "source": [
    "2. Import required libraries"
   ]
  },
  {
   "cell_type": "code",
   "execution_count": 2,
   "id": "d904b440",
   "metadata": {},
   "outputs": [],
   "source": [
    "import os\n",
    "from bamboo_lca.background_importer import *\n",
    "from bamboo_lca.foreground_importer import *\n",
    "from bamboo_lca.datapackage_builder import *\n",
    "from bamboo_lca.uncertainty_handler import *\n",
    "from bamboo_lca.lca_wrapper import *\n",
    "from bamboo_lca.uncertainty_importer import *"
   ]
  },
  {
   "cell_type": "markdown",
   "id": "75448d81",
   "metadata": {},
   "source": [
    "3. Define required constants"
   ]
  },
  {
   "cell_type": "code",
   "execution_count": 3,
   "id": "c1e6633e",
   "metadata": {},
   "outputs": [],
   "source": [
    "# BACKGROUND DATABASE FILE PATH\n",
    "EXIOBASE_AGGREGATED_A_FILE = os.path.join(os.getcwd(), \"data/A.txt\")\n",
    "EXIOBASE_AGGREGATED_S_FILE = os.path.join(os.getcwd(), \"data/S.txt\")\n",
    "\n",
    "# FOREGROUND DATABASE FILE PATH\n",
    "FOREGROUND_FILE = os.path.join(os.getcwd(), \"data/uncertainty_file.csv\")\n",
    "\n",
    "# CHARACTERIZATION FACTOR MAPPING FILE PATH\n",
    "CF_MAPPING_FILE = os.path.join(os.getcwd(), \"data/cf_mapping_file.csv\")\n",
    "\n",
    "# LCIA METHOD\n",
    "METHOD = ('ecoinvent-3.11', 'IPCC 2013', 'climate change', 'global temperature change potential (GTP100)')\n",
    "\n",
    "# CHOSEN BIOSPHERE EMISSIONS\n",
    "GHG = [\"CO2 - combustion - air\",\n",
    "        \"CO2 - non combustion - Cement production - air\",\n",
    "        \"CO2 - non combustion - Lime production - air\",\n",
    "        \"CO2 - waste - fossil - air\",\n",
    "        \"CH4 - agriculture - air\",\n",
    "        \"CH4 - waste - air\",\n",
    "        \"CH4 - combustion - air\",\n",
    "        \"CH4 - non combustion - Extraction/production of (natural) gas - air\",\n",
    "        \"CH4 - non combustion - Extraction/production of crude oil - air\",\n",
    "        \"CH4 - non combustion - Mining of antracite - air\",\n",
    "        \"CH4 - non combustion - Mining of bituminous coal - air\",\n",
    "        \"CH4 - non combustion - Mining of coking coal - air\",\n",
    "        \"CH4 - non combustion - Mining of lignite (brown coal) - air\",\n",
    "        \"CH4 - non combustion - Mining of sub-bituminous coal - air\",\n",
    "        \"CH4 - non combustion - Oil refinery - air\",\n",
    "        \"N2O - combustion - air\",\n",
    "        \"N2O - agriculture - air\",\n",
    "        \"SF6 - air\"]"
   ]
  },
  {
   "cell_type": "markdown",
   "id": "06cfe9aa",
   "metadata": {},
   "source": [
    "4. Import the background system. (Click [here](1.%20lca_with_background.ipynb) for more detailed explanation.)"
   ]
  },
  {
   "cell_type": "code",
   "execution_count": 4,
   "id": "6adfb9a4",
   "metadata": {},
   "outputs": [
    {
     "name": "stdout",
     "output_type": "stream",
     "text": [
      "All characterization factors have been found.\n"
     ]
    }
   ],
   "source": [
    "bg_importer = BackgroundImporter()\n",
    "\n",
    "tech_df = pd.read_table(EXIOBASE_AGGREGATED_A_FILE, sep='\\t', header=None, low_memory=False)\n",
    "raw_tech = tech_df.iloc[3:, 2:].astype('float').to_numpy()\n",
    "tech_matrix = bg_importer.build_tech_matrix(raw_tech)\n",
    "\n",
    "bio_df = pd.read_csv(EXIOBASE_AGGREGATED_S_FILE, header=[0,1], index_col=[0], sep='\\t', low_memory=False)\n",
    "bio_matrix = bg_importer.build_bio_matrix(bio_df, GHG)\n",
    "\n",
    "cf_matrix = bg_importer.build_cf_matrix(CF_MAPPING_FILE, GHG)"
   ]
  },
  {
   "cell_type": "markdown",
   "id": "29e937eb",
   "metadata": {},
   "source": [
    "5. Import the foregorund system. (Click [here](2.%20lca_with_foreground.ipynb) for more detailed explanation.)"
   ]
  },
  {
   "cell_type": "code",
   "execution_count": 5,
   "id": "7fce4cc5",
   "metadata": {},
   "outputs": [],
   "source": [
    "# Find all activities in the product system.\n",
    "bg_activities = get_bg_activities(EXIOBASE_AGGREGATED_A_FILE, \"\\t\")\n",
    "fg_activities = get_fg_activities(FOREGROUND_FILE, \",\", bg_activities)\n",
    "activities = fg_activities + bg_activities\n",
    "\n",
    "# Import the foreground system\n",
    "fg_tech_df = pd.read_table(FOREGROUND_FILE, sep=',')\n",
    "fg_dataframe = get_fg_dataframe(fg_tech_df, fg_activities)\n",
    "\n",
    "fg_importer = ForegroundImporter()\n",
    "fgbg, fgfg, bgfg, bifg = fg_importer.extend_matrix(fg_dataframe, GHG, fg_activities, bg_activities)\n",
    "full_tech_matrix, full_bio_matrix = fg_importer.concatenate_matrix(tech_matrix, bio_matrix, fgbg, fgfg, bgfg, bifg)"
   ]
  },
  {
   "cell_type": "markdown",
   "id": "38588be8",
   "metadata": {},
   "source": [
    "6. Prepare datapackage matrix data"
   ]
  },
  {
   "cell_type": "code",
   "execution_count": 6,
   "id": "2a8da328",
   "metadata": {},
   "outputs": [],
   "source": [
    "dp_builder = DatapackageBuilder()\n",
    "\n",
    "(tech_data, tech_indices, tech_flip), (bio_data, bio_indices), (cf_data, cf_indices) = dp_builder.prepare_dp_matrix(full_tech_matrix, full_bio_matrix, cf_matrix)\n",
    "datapackage_data = (tech_data, tech_indices, tech_flip), (bio_data, bio_indices), (cf_data, cf_indices)"
   ]
  },
  {
   "cell_type": "markdown",
   "id": "aabf92a2",
   "metadata": {},
   "source": [
    "7. Add uncertainty into metadata"
   ]
  },
  {
   "cell_type": "code",
   "execution_count": 7,
   "id": "e6513e22",
   "metadata": {},
   "outputs": [
    {
     "data": {
      "text/plain": [
       "{0: {'Activity name': 'column_3',\n",
       "  'Activity uncertainty type': 2,\n",
       "  'Exchange uncertainty amount': 1.111,\n",
       "  'Exchange negative': False},\n",
       " 1: {'Activity name': 'column_2',\n",
       "  'Activity uncertainty type': 2,\n",
       "  'Exchange uncertainty amount': 1.111,\n",
       "  'Exchange negative': False},\n",
       " 2: {'Activity name': 'column_1',\n",
       "  'Activity uncertainty type': 2,\n",
       "  'Exchange uncertainty amount': 1.111,\n",
       "  'Exchange negative': False},\n",
       " 3: {'Activity name': 'EU28-Agriculture-Forestry-Fishing'},\n",
       " 4: {'Activity name': 'EU28-Energy'},\n",
       " 5: {'Activity name': 'EU28-Natural gas and services related to natural gas extraction, excluding surveying'},\n",
       " 6: {'Activity name': 'EU28-Industry'},\n",
       " 7: {'Activity name': 'EU28-Motor Gasoline'},\n",
       " 8: {'Activity name': 'EU28-Gas/Diesel Oil'},\n",
       " 9: {'Activity name': 'EU28-Refinery Feedstocks'},\n",
       " 10: {'Activity name': 'EU28-Lubricants'},\n",
       " 11: {'Activity name': 'EU28-P- and other fertiliser'},\n",
       " 12: {'Activity name': 'EU28-Chemicals nec'},\n",
       " 13: {'Activity name': 'EU28-Biogasoline'},\n",
       " 14: {'Activity name': 'EU28-Biodiesels'},\n",
       " 15: {'Activity name': 'EU28-Cement, lime and plaster'},\n",
       " 16: {'Activity name': 'EU28-Basic iron and steel and of ferro-alloys and first products thereof'},\n",
       " 17: {'Activity name': 'EU28-Aluminium and aluminium products'},\n",
       " 18: {'Activity name': 'EU28-Copper products'},\n",
       " 19: {'Activity name': 'EU28-Electricity by coal'},\n",
       " 20: {'Activity name': 'EU28-Electricity by gas'},\n",
       " 21: {'Activity name': 'EU28-Electricity by nuclear'},\n",
       " 22: {'Activity name': 'EU28-Electricity by hydro'},\n",
       " 23: {'Activity name': 'EU28-Electricity by wind'},\n",
       " 24: {'Activity name': 'EU28-Electricity by petroleum and other oil derivatives'},\n",
       " 25: {'Activity name': 'EU28-Electricity by biomass and waste'},\n",
       " 26: {'Activity name': 'EU28-Electricity by solar photovoltaic'},\n",
       " 27: {'Activity name': 'EU28-Electricity by solar thermal'},\n",
       " 28: {'Activity name': 'EU28-Electricity by tide, wave, ocean'},\n",
       " 29: {'Activity name': 'EU28-Electricity by Geothermal'},\n",
       " 30: {'Activity name': 'EU28-Electricity nec'},\n",
       " 31: {'Activity name': 'EU28-Steam and hot water supply services'},\n",
       " 32: {'Activity name': 'EU28-Collected and purified water, distribution services of water (41)'},\n",
       " 33: {'Activity name': 'EU28-Services'},\n",
       " 34: {'Activity name': 'EU28-Railway transportation services'},\n",
       " 35: {'Activity name': 'EU28-Other land transportation services'},\n",
       " 36: {'Activity name': 'EU28-Waste management'},\n",
       " 37: {'Activity name': 'EU28-Intert/metal waste for treatment: incineration'},\n",
       " 38: {'Activity name': 'EU28-Sewage sludge for treatment: biogasification and land application'},\n",
       " 39: {'Activity name': 'EU28-Other waste for treatment: waste water treatment'},\n",
       " 40: {'Activity name': 'EU28-Inert/metal/hazardous waste for treatment: landfill',\n",
       "  'Activity uncertainty type': 2,\n",
       "  'Exchange uncertainty amount': 2.222,\n",
       "  'Exchange negative': False},\n",
       " 41: {'Activity name': 'RoW-Agriculture-Forestry-Fishing'},\n",
       " 42: {'Activity name': 'RoW-Energy'},\n",
       " 43: {'Activity name': 'RoW-Natural gas and services related to natural gas extraction, excluding surveying'},\n",
       " 44: {'Activity name': 'RoW-Industry'},\n",
       " 45: {'Activity name': 'RoW-Motor Gasoline'},\n",
       " 46: {'Activity name': 'RoW-Gas/Diesel Oil'},\n",
       " 47: {'Activity name': 'RoW-Refinery Feedstocks'},\n",
       " 48: {'Activity name': 'RoW-Lubricants'},\n",
       " 49: {'Activity name': 'RoW-P- and other fertiliser'},\n",
       " 50: {'Activity name': 'RoW-Chemicals nec'},\n",
       " 51: {'Activity name': 'RoW-Biogasoline'},\n",
       " 52: {'Activity name': 'RoW-Biodiesels'},\n",
       " 53: {'Activity name': 'RoW-Cement, lime and plaster'},\n",
       " 54: {'Activity name': 'RoW-Basic iron and steel and of ferro-alloys and first products thereof'},\n",
       " 55: {'Activity name': 'RoW-Aluminium and aluminium products'},\n",
       " 56: {'Activity name': 'RoW-Copper products'},\n",
       " 57: {'Activity name': 'RoW-Electricity by coal'},\n",
       " 58: {'Activity name': 'RoW-Electricity by gas'},\n",
       " 59: {'Activity name': 'RoW-Electricity by nuclear'},\n",
       " 60: {'Activity name': 'RoW-Electricity by hydro'},\n",
       " 61: {'Activity name': 'RoW-Electricity by wind'},\n",
       " 62: {'Activity name': 'RoW-Electricity by petroleum and other oil derivatives'},\n",
       " 63: {'Activity name': 'RoW-Electricity by biomass and waste'},\n",
       " 64: {'Activity name': 'RoW-Electricity by solar photovoltaic'},\n",
       " 65: {'Activity name': 'RoW-Electricity by solar thermal'},\n",
       " 66: {'Activity name': 'RoW-Electricity by tide, wave, ocean'},\n",
       " 67: {'Activity name': 'RoW-Electricity by Geothermal'},\n",
       " 68: {'Activity name': 'RoW-Electricity nec'},\n",
       " 69: {'Activity name': 'RoW-Steam and hot water supply services'},\n",
       " 70: {'Activity name': 'RoW-Collected and purified water, distribution services of water (41)'},\n",
       " 71: {'Activity name': 'RoW-Services'},\n",
       " 72: {'Activity name': 'RoW-Railway transportation services'},\n",
       " 73: {'Activity name': 'RoW-Other land transportation services'},\n",
       " 74: {'Activity name': 'RoW-Waste management'},\n",
       " 75: {'Activity name': 'RoW-Intert/metal waste for treatment: incineration'},\n",
       " 76: {'Activity name': 'RoW-Sewage sludge for treatment: biogasification and land application'},\n",
       " 77: {'Activity name': 'RoW-Other waste for treatment: waste water treatment'},\n",
       " 78: {'Activity name': 'RoW-Inert/metal/hazardous waste for treatment: landfill'}}"
      ]
     },
     "execution_count": 7,
     "metadata": {},
     "output_type": "execute_result"
    }
   ],
   "source": [
    "uncertainty_importer = UncertaintyImporter(FOREGROUND_FILE, \",\")\n",
    "uncertainty_importer.update_metadata_uncertainty(activities, \"columnwise\")\n",
    "uncertainty_importer.metadata"
   ]
  },
  {
   "cell_type": "markdown",
   "id": "8b176c5c",
   "metadata": {},
   "source": [
    "8. Prepare datapackage uncertainty data"
   ]
  },
  {
   "cell_type": "code",
   "execution_count": 8,
   "id": "1506e4d9",
   "metadata": {},
   "outputs": [],
   "source": [
    "uncertainty_handler = UncertaintyHandler()\n",
    "tech_uncertainty_array = uncertainty_handler.add_nonuniform_uncertainty(tech_data, tech_indices, \"columnwise\", fg_num=2, fg_strategy=\"columnwise\")\n",
    "bio_uncertainty_array = uncertainty_handler.add_nonuniform_uncertainty(bio_data, bio_indices, \"columnwise\", fg_num=2, fg_strategy=\"columnwise\")\n",
    "uncertainty = [tech_uncertainty_array, bio_uncertainty_array, None]"
   ]
  },
  {
   "cell_type": "markdown",
   "id": "4c945585",
   "metadata": {},
   "source": [
    "8. Create the datapackage"
   ]
  },
  {
   "cell_type": "code",
   "execution_count": 9,
   "id": "ae8c291c",
   "metadata": {},
   "outputs": [],
   "source": [
    "dp = dp_builder.prepare_datapackage(datapackage_data, uncertainty)"
   ]
  },
  {
   "cell_type": "markdown",
   "id": "88520877",
   "metadata": {},
   "source": [
    "9. Set functional unit"
   ]
  },
  {
   "cell_type": "code",
   "execution_count": 10,
   "id": "b0679e94",
   "metadata": {},
   "outputs": [
    {
     "name": "stdout",
     "output_type": "stream",
     "text": [
      "The functional unit is {71: 1}\n"
     ]
    }
   ],
   "source": [
    "# Set \"RoW-Services\" as functional unit.\n",
    "# NOTE: By default, the region and industry name are joined with a dash.\n",
    "selected_activity = \"RoW-Services\"\n",
    "\n",
    "# Find the index of the activity in activities.\n",
    "index = activities.index(selected_activity)\n",
    "\n",
    "# Define the functional unit\n",
    "functional_unit = {index: 1}\n",
    "print(f\"The functional unit is {functional_unit}\")"
   ]
  },
  {
   "cell_type": "markdown",
   "id": "7c9966a5",
   "metadata": {},
   "source": [
    "10. Perform LCA"
   ]
  },
  {
   "cell_type": "code",
   "execution_count": 11,
   "id": "98227577",
   "metadata": {},
   "outputs": [
    {
     "name": "stdout",
     "output_type": "stream",
     "text": [
      "Brightway calculated lca score: RoW-Services, 291159.6032645808\n"
     ]
    }
   ],
   "source": [
    "lca = bc.LCA(\n",
    "            demand=functional_unit,\n",
    "            data_objs=[dp],\n",
    "            use_distributions=True,\n",
    "        )\n",
    "lca.lci()\n",
    "lca.lcia()\n",
    "\n",
    "print(f\"Brightway calculated lca score: {activities[index]}, {lca.score}\")"
   ]
  }
 ],
 "metadata": {
  "kernelspec": {
   "display_name": "bw25",
   "language": "python",
   "name": "python3"
  },
  "language_info": {
   "codemirror_mode": {
    "name": "ipython",
    "version": 3
   },
   "file_extension": ".py",
   "mimetype": "text/x-python",
   "name": "python",
   "nbconvert_exporter": "python",
   "pygments_lexer": "ipython3",
   "version": "3.12.9"
  }
 },
 "nbformat": 4,
 "nbformat_minor": 5
}
