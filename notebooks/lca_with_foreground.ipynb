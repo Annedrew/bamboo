{
 "cells": [
  {
   "cell_type": "markdown",
   "metadata": {
    "vscode": {
     "languageId": "plaintext"
    }
   },
   "source": [
    "# LCA without foreground"
   ]
  },
  {
   "cell_type": "code",
   "execution_count": 1,
   "metadata": {},
   "outputs": [],
   "source": [
    "import os\n",
    "import sys\n",
    "sys.path.append(os.path.abspath(\"..\"))\n",
    "from bw_exiobase.background_importer import *\n",
    "from bw_exiobase.foreground_importer import *\n",
    "from bw_exiobase.datapackage_builder import *\n",
    "from bw_exiobase.uncertainty_handler import *\n",
    "from notebooks.NAME_exiobase_lca import *\n",
    "from constants import *"
   ]
  },
  {
   "cell_type": "markdown",
   "metadata": {
    "vscode": {
     "languageId": "plaintext"
    }
   },
   "source": [
    "1. Get technosphere matrix"
   ]
  },
  {
   "cell_type": "code",
   "execution_count": 2,
   "metadata": {},
   "outputs": [],
   "source": [
    "bg_importer = BackgroundImporter()\n",
    "\n",
    "tech_df = pd.read_table(EXIOBASE_AGGREGATED_A_FILE, sep='\\t', header=None, low_memory=False)\n",
    "raw_tech = tech_df.iloc[3:, 2:].astype('float').to_numpy()\n",
    "tech_matrix = bg_importer.form_tech_matrix(raw_tech)"
   ]
  },
  {
   "cell_type": "markdown",
   "metadata": {},
   "source": [
    "2. Get biosphere matrix"
   ]
  },
  {
   "cell_type": "code",
   "execution_count": 3,
   "metadata": {},
   "outputs": [],
   "source": [
    "bio_df = pd.read_csv(EXIOBASE_AGGREGATED_S_FILE, header=[0,1], index_col=[0], sep='\\t', low_memory=False)\n",
    "bio_matrix = bg_importer.form_bio_matrix(bio_df, GHG)"
   ]
  },
  {
   "cell_type": "markdown",
   "metadata": {},
   "source": [
    "3. Get characterization factor matrix"
   ]
  },
  {
   "cell_type": "code",
   "execution_count": 4,
   "metadata": {},
   "outputs": [],
   "source": [
    "cf_matrix = bg_importer.form_cf_matrix(EMISSION_CODE_FILE, METHOD, GHG)"
   ]
  },
  {
   "cell_type": "markdown",
   "metadata": {},
   "source": [
    "4. Add foreground system with 1 columns"
   ]
  },
  {
   "cell_type": "code",
   "execution_count": 5,
   "metadata": {},
   "outputs": [
    {
     "data": {
      "text/html": [
       "<div>\n",
       "<style scoped>\n",
       "    .dataframe tbody tr th:only-of-type {\n",
       "        vertical-align: middle;\n",
       "    }\n",
       "\n",
       "    .dataframe tbody tr th {\n",
       "        vertical-align: top;\n",
       "    }\n",
       "\n",
       "    .dataframe thead th {\n",
       "        text-align: right;\n",
       "    }\n",
       "</style>\n",
       "<table border=\"1\" class=\"dataframe\">\n",
       "  <thead>\n",
       "    <tr style=\"text-align: right;\">\n",
       "      <th></th>\n",
       "      <th>Activity name</th>\n",
       "      <th>Exchange name</th>\n",
       "      <th>Exchange type</th>\n",
       "      <th>Exchange amount</th>\n",
       "      <th>Exchange uncertainty type</th>\n",
       "      <th>GSD</th>\n",
       "      <th>Exchange negative</th>\n",
       "    </tr>\n",
       "  </thead>\n",
       "  <tbody>\n",
       "    <tr>\n",
       "      <th>0</th>\n",
       "      <td>column_1</td>\n",
       "      <td>EU28-Agriculture-Forestry-Fishing</td>\n",
       "      <td>technosphere</td>\n",
       "      <td>0.000000</td>\n",
       "      <td>0</td>\n",
       "      <td>NaN</td>\n",
       "      <td>NaN</td>\n",
       "    </tr>\n",
       "    <tr>\n",
       "      <th>1</th>\n",
       "      <td>column_1</td>\n",
       "      <td>EU28-Energy</td>\n",
       "      <td>technosphere</td>\n",
       "      <td>NaN</td>\n",
       "      <td>0</td>\n",
       "      <td>NaN</td>\n",
       "      <td>NaN</td>\n",
       "    </tr>\n",
       "    <tr>\n",
       "      <th>2</th>\n",
       "      <td>column_1</td>\n",
       "      <td>EU28-Natural gas and services related to natur...</td>\n",
       "      <td>technosphere</td>\n",
       "      <td>NaN</td>\n",
       "      <td>0</td>\n",
       "      <td>NaN</td>\n",
       "      <td>NaN</td>\n",
       "    </tr>\n",
       "    <tr>\n",
       "      <th>3</th>\n",
       "      <td>column_1</td>\n",
       "      <td>EU28-Industry</td>\n",
       "      <td>technosphere</td>\n",
       "      <td>0.000001</td>\n",
       "      <td>2</td>\n",
       "      <td>3.330005</td>\n",
       "      <td>False</td>\n",
       "    </tr>\n",
       "    <tr>\n",
       "      <th>4</th>\n",
       "      <td>column_1</td>\n",
       "      <td>EU28-Motor Gasoline</td>\n",
       "      <td>technosphere</td>\n",
       "      <td>-0.000016</td>\n",
       "      <td>2</td>\n",
       "      <td>1.540000</td>\n",
       "      <td>True</td>\n",
       "    </tr>\n",
       "  </tbody>\n",
       "</table>\n",
       "</div>"
      ],
      "text/plain": [
       "  Activity name                                      Exchange name  \\\n",
       "0      column_1                  EU28-Agriculture-Forestry-Fishing   \n",
       "1      column_1                                        EU28-Energy   \n",
       "2      column_1  EU28-Natural gas and services related to natur...   \n",
       "3      column_1                                      EU28-Industry   \n",
       "4      column_1                                EU28-Motor Gasoline   \n",
       "\n",
       "  Exchange type  Exchange amount  Exchange uncertainty type       GSD  \\\n",
       "0  technosphere         0.000000                          0       NaN   \n",
       "1  technosphere              NaN                          0       NaN   \n",
       "2  technosphere              NaN                          0       NaN   \n",
       "3  technosphere         0.000001                          2  3.330005   \n",
       "4  technosphere        -0.000016                          2  1.540000   \n",
       "\n",
       "  Exchange negative  \n",
       "0               NaN  \n",
       "1               NaN  \n",
       "2               NaN  \n",
       "3             False  \n",
       "4              True  "
      ]
     },
     "execution_count": 5,
     "metadata": {},
     "output_type": "execute_result"
    }
   ],
   "source": [
    "fg_df = pd.read_csv(FG_FILE, delimiter=\",\")\n",
    "fg_df.head()"
   ]
  },
  {
   "cell_type": "code",
   "execution_count": 6,
   "metadata": {},
   "outputs": [
    {
     "data": {
      "text/plain": [
       "['column_1']"
      ]
     },
     "execution_count": 6,
     "metadata": {},
     "output_type": "execute_result"
    }
   ],
   "source": [
    "fg_activities = get_fg_activities(FG_FILE, \",\")\n",
    "fg_activities"
   ]
  },
  {
   "cell_type": "code",
   "execution_count": 7,
   "metadata": {},
   "outputs": [
    {
     "data": {
      "text/plain": [
       "['EU28-Agriculture-Forestry-Fishing',\n",
       " 'EU28-Energy',\n",
       " 'EU28-Natural gas and services related to natural gas extraction, excluding surveying',\n",
       " 'EU28-Industry',\n",
       " 'EU28-Motor Gasoline',\n",
       " 'EU28-Gas/Diesel Oil',\n",
       " 'EU28-Refinery Feedstocks',\n",
       " 'EU28-Lubricants',\n",
       " 'EU28-P- and other fertiliser',\n",
       " 'EU28-Chemicals nec',\n",
       " 'EU28-Biogasoline',\n",
       " 'EU28-Biodiesels',\n",
       " 'EU28-Cement, lime and plaster',\n",
       " 'EU28-Basic iron and steel and of ferro-alloys and first products thereof',\n",
       " 'EU28-Aluminium and aluminium products',\n",
       " 'EU28-Copper products',\n",
       " 'EU28-Electricity by coal',\n",
       " 'EU28-Electricity by gas',\n",
       " 'EU28-Electricity by nuclear',\n",
       " 'EU28-Electricity by hydro',\n",
       " 'EU28-Electricity by wind',\n",
       " 'EU28-Electricity by petroleum and other oil derivatives',\n",
       " 'EU28-Electricity by biomass and waste',\n",
       " 'EU28-Electricity by solar photovoltaic',\n",
       " 'EU28-Electricity by solar thermal',\n",
       " 'EU28-Electricity by tide, wave, ocean',\n",
       " 'EU28-Electricity by Geothermal',\n",
       " 'EU28-Electricity nec',\n",
       " 'EU28-Steam and hot water supply services',\n",
       " 'EU28-Collected and purified water, distribution services of water (41)',\n",
       " 'EU28-Services',\n",
       " 'EU28-Railway transportation services',\n",
       " 'EU28-Other land transportation services',\n",
       " 'EU28-Waste management',\n",
       " 'EU28-Intert/metal waste for treatment: incineration',\n",
       " 'EU28-Sewage sludge for treatment: biogasification and land application',\n",
       " 'EU28-Other waste for treatment: waste water treatment',\n",
       " 'EU28-Inert/metal/hazardous waste for treatment: landfill',\n",
       " 'RoW-Agriculture-Forestry-Fishing',\n",
       " 'RoW-Energy',\n",
       " 'RoW-Natural gas and services related to natural gas extraction, excluding surveying',\n",
       " 'RoW-Industry',\n",
       " 'RoW-Motor Gasoline',\n",
       " 'RoW-Gas/Diesel Oil',\n",
       " 'RoW-Refinery Feedstocks',\n",
       " 'RoW-Lubricants',\n",
       " 'RoW-P- and other fertiliser',\n",
       " 'RoW-Chemicals nec',\n",
       " 'RoW-Biogasoline',\n",
       " 'RoW-Biodiesels',\n",
       " 'RoW-Cement, lime and plaster',\n",
       " 'RoW-Basic iron and steel and of ferro-alloys and first products thereof',\n",
       " 'RoW-Aluminium and aluminium products',\n",
       " 'RoW-Copper products',\n",
       " 'RoW-Electricity by coal',\n",
       " 'RoW-Electricity by gas',\n",
       " 'RoW-Electricity by nuclear',\n",
       " 'RoW-Electricity by hydro',\n",
       " 'RoW-Electricity by wind',\n",
       " 'RoW-Electricity by petroleum and other oil derivatives',\n",
       " 'RoW-Electricity by biomass and waste',\n",
       " 'RoW-Electricity by solar photovoltaic',\n",
       " 'RoW-Electricity by solar thermal',\n",
       " 'RoW-Electricity by tide, wave, ocean',\n",
       " 'RoW-Electricity by Geothermal',\n",
       " 'RoW-Electricity nec',\n",
       " 'RoW-Steam and hot water supply services',\n",
       " 'RoW-Collected and purified water, distribution services of water (41)',\n",
       " 'RoW-Services',\n",
       " 'RoW-Railway transportation services',\n",
       " 'RoW-Other land transportation services',\n",
       " 'RoW-Waste management',\n",
       " 'RoW-Intert/metal waste for treatment: incineration',\n",
       " 'RoW-Sewage sludge for treatment: biogasification and land application',\n",
       " 'RoW-Other waste for treatment: waste water treatment',\n",
       " 'RoW-Inert/metal/hazardous waste for treatment: landfill']"
      ]
     },
     "execution_count": 7,
     "metadata": {},
     "output_type": "execute_result"
    }
   ],
   "source": [
    "bg_activities = get_bg_activities(EXIOBASE_AGGREGATED_A_FILE, \"\\t\")\n",
    "bg_activities"
   ]
  },
  {
   "cell_type": "code",
   "execution_count": 8,
   "metadata": {},
   "outputs": [
    {
     "name": "stdout",
     "output_type": "stream",
     "text": [
      "[[7.36338343e-01 1.32512793e-03 2.50369329e-03 ... 1.21134511e-04\n",
      "  7.62826166e-05 4.74480856e-04]\n",
      " [9.91365844e-03 8.30899707e-01 3.02023124e-02 ... 9.94126465e-05\n",
      "  5.41113056e-05 9.39990163e-05]\n",
      " [4.32464974e-05 2.21849241e-03 9.99194240e-01 ... 3.70894886e-08\n",
      "  2.00023023e-08 7.04757337e-09]\n",
      " ...\n",
      " [6.34806533e-06 8.26437110e-06 7.47308387e-07 ... 9.86260390e-01\n",
      "  1.12285354e-04 3.46522374e-03]\n",
      " [1.23636432e-05 1.94495460e-05 2.45543251e-06 ... 5.76682882e-04\n",
      "  9.87318876e-01 2.70409581e-03]\n",
      " [6.07845068e-06 1.32530898e-05 1.91153928e-06 ... 6.24171469e-03\n",
      "  9.40994608e-04 9.95178298e-01]]\n",
      "---\n",
      "[[6.92719535e+04 2.24902521e+05 1.58717207e+06 ... 8.11463102e+04\n",
      "  5.09153559e+04 5.02862192e+04]\n",
      " [1.11657045e+02 3.26772076e+02 1.45794545e+01 ... 4.06909320e+03\n",
      "  1.11515389e+03 4.31986073e+03]\n",
      " [5.76029465e+01 6.48498046e+01 6.86348286e+00 ... 1.11483525e+03\n",
      "  3.28857868e+02 1.21602199e+03]\n",
      " ...\n",
      " [2.19718421e+00 3.01196685e+00 3.69253098e+00 ... 1.38856482e+00\n",
      "  6.37694131e-01 7.10205514e-01]\n",
      " [3.74584887e+02 7.34821581e-01 1.27500831e-06 ... 3.03853220e+01\n",
      "  9.77107437e+00 1.44590824e+01]\n",
      " [1.92074545e-01 3.22885897e-01 7.02516504e-01 ... 9.42383644e-01\n",
      "  1.63469899e+00 1.22051445e-03]]\n"
     ]
    }
   ],
   "source": [
    "print(tech_matrix)\n",
    "print(\"---\")\n",
    "print(bio_matrix)"
   ]
  },
  {
   "cell_type": "code",
   "execution_count": 9,
   "metadata": {},
   "outputs": [
    {
     "name": "stdout",
     "output_type": "stream",
     "text": [
      "[[1.00000000e+00 0.00000000e+00 0.00000000e+00 ... 0.00000000e+00\n",
      "  0.00000000e+00 0.00000000e+00]\n",
      " [0.00000000e+00 7.36338343e-01 1.32512793e-03 ... 1.21134511e-04\n",
      "  7.62826166e-05 4.74480856e-04]\n",
      " [           nan 9.91365844e-03 8.30899707e-01 ... 9.94126465e-05\n",
      "  5.41113056e-05 9.39990163e-05]\n",
      " ...\n",
      " [0.00000000e+00 6.34806533e-06 8.26437110e-06 ... 9.86260390e-01\n",
      "  1.12285354e-04 3.46522374e-03]\n",
      " [0.00000000e+00 1.23636432e-05 1.94495460e-05 ... 5.76682882e-04\n",
      "  9.87318876e-01 2.70409581e-03]\n",
      " [0.00000000e+00 6.07845068e-06 1.32530898e-05 ... 6.24171469e-03\n",
      "  9.40994608e-04 9.95178298e-01]]\n",
      "---\n",
      "[[0.00000000e+00 6.92719535e+04 2.24902521e+05 ... 8.11463102e+04\n",
      "  5.09153559e+04 5.02862192e+04]\n",
      " [0.00000000e+00 1.11657045e+02 3.26772076e+02 ... 4.06909320e+03\n",
      "  1.11515389e+03 4.31986073e+03]\n",
      " [0.00000000e+00 5.76029465e+01 6.48498046e+01 ... 1.11483525e+03\n",
      "  3.28857868e+02 1.21602199e+03]\n",
      " ...\n",
      " [0.00000000e+00 2.19718421e+00 3.01196685e+00 ... 1.38856482e+00\n",
      "  6.37694131e-01 7.10205514e-01]\n",
      " [0.00000000e+00 3.74584887e+02 7.34821581e-01 ... 3.03853220e+01\n",
      "  9.77107437e+00 1.44590824e+01]\n",
      " [0.00000000e+00 1.92074545e-01 3.22885897e-01 ... 9.42383644e-01\n",
      "  1.63469899e+00 1.22051445e-03]]\n"
     ]
    }
   ],
   "source": [
    "fg_importer = ForegroundImporter()\n",
    "bgfg, fgfg, fgbg, fgbi = fg_importer.extend_matrix_2(fg_df, GHG, fg_activities, bg_activities)\n",
    "tech_matrix, bio_matrix = fg_importer.concatenate_matrix(tech_matrix, bio_matrix, bgfg, fgfg, fgbg, fgbi)\n",
    "print(tech_matrix)\n",
    "print(\"---\")\n",
    "print(bio_matrix)"
   ]
  },
  {
   "cell_type": "markdown",
   "metadata": {},
   "source": [
    "5. Build datapackage"
   ]
  },
  {
   "cell_type": "code",
   "execution_count": 10,
   "metadata": {},
   "outputs": [],
   "source": [
    "dp_builder = DatapackageBuilder()\n",
    "datapackage_data = dp_builder.prepare_bw_matrix(tech_matrix, bio_matrix, cf_matrix)\n",
    "datapackage = dp_builder.prepare_datapackage(datapackage_data)"
   ]
  },
  {
   "cell_type": "markdown",
   "metadata": {},
   "source": [
    "6. Run static simulation"
   ]
  },
  {
   "cell_type": "code",
   "execution_count": 11,
   "metadata": {},
   "outputs": [
    {
     "name": "stdout",
     "output_type": "stream",
     "text": [
      "Brightway calculated lca score: (nan, 'RoW-Steam and hot water supply services')\n"
     ]
    }
   ],
   "source": [
    "mysector = bg_activities.index('RoW-Steam and hot water supply services')\n",
    "\n",
    "lca = bc.LCA(\n",
    "            demand={mysector : 1},\n",
    "            data_objs=[datapackage],\n",
    "        )\n",
    "lca.lci()\n",
    "lca.lcia()\n",
    "\n",
    "print(f\"Brightway calculated lca score: {lca.score, bg_activities[mysector]}\")\n"
   ]
  },
  {
   "cell_type": "markdown",
   "metadata": {},
   "source": [
    "7. Run pedigree uncertainty simulation"
   ]
  }
 ],
 "metadata": {
  "kernelspec": {
   "display_name": "bw2.5",
   "language": "python",
   "name": "python3"
  },
  "language_info": {
   "codemirror_mode": {
    "name": "ipython",
    "version": 3
   },
   "file_extension": ".py",
   "mimetype": "text/x-python",
   "name": "python",
   "nbconvert_exporter": "python",
   "pygments_lexer": "ipython3",
   "version": "3.11.9"
  }
 },
 "nbformat": 4,
 "nbformat_minor": 2
}
