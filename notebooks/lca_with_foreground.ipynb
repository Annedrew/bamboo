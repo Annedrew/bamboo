{
 "cells": [
  {
   "cell_type": "markdown",
   "metadata": {
    "vscode": {
     "languageId": "plaintext"
    }
   },
   "source": [
    "# LCA with foreground"
   ]
  },
  {
   "cell_type": "markdown",
   "metadata": {},
   "source": [
    "This notebook demonstrates how to include foregrounds system into the analysis(concatenate foreground system with background system). It covers two sections:\n",
    "1) Foreground system only have one activity\n",
    "2) Foreground system only have two activities"
   ]
  },
  {
   "cell_type": "markdown",
   "metadata": {},
   "source": [
    "### Preparation"
   ]
  },
  {
   "cell_type": "markdown",
   "metadata": {},
   "source": [
    "1. Before use the library, you have to direct to the right brightway project and make sure you have the database."
   ]
  },
  {
   "cell_type": "code",
   "execution_count": 1,
   "metadata": {},
   "outputs": [
    {
     "data": {
      "text/plain": [
       "Databases dictionary with 11 object(s):\n",
       "\tALIGNED-biob-prod-dummy\n",
       "\tSAtestdb\n",
       "\tbiosphere3\n",
       "\tcarbon fiber\n",
       "\tecoinvent 3.9.1 conseq\n",
       "\texldb\n",
       "\tgsa_db\n",
       "\tsa_db\n",
       "\tsa_db_param\n",
       "\ttestbiosphere\n",
       "\ttestdb"
      ]
     },
     "execution_count": 1,
     "metadata": {},
     "output_type": "execute_result"
    }
   ],
   "source": [
    "import bw2data as bd\n",
    "\n",
    "# bd.projects.set_current(\"advlca25\")\n",
    "bd.projects.set_current(\"advlca23\")  # use old cf values to reproduce the old lca results.\n",
    "bd.databases"
   ]
  },
  {
   "cell_type": "markdown",
   "metadata": {},
   "source": [
    "2. Import all needed libraries"
   ]
  },
  {
   "cell_type": "code",
   "execution_count": 2,
   "metadata": {},
   "outputs": [],
   "source": [
    "import os\n",
    "import sys\n",
    "sys.path.append(os.path.abspath(\"..\"))\n",
    "from bw_bamboo.background_importer import *\n",
    "from bw_bamboo.foreground_importer import *\n",
    "from bw_bamboo.datapackage_builder import *\n",
    "from bw_bamboo.uncertainty_handler import *\n",
    "from bw_bamboo.lca_wrapper import *"
   ]
  },
  {
   "cell_type": "markdown",
   "metadata": {},
   "source": [
    "3. Define some constants for this notebook"
   ]
  },
  {
   "cell_type": "code",
   "execution_count": null,
   "metadata": {},
   "outputs": [],
   "source": [
    "GHG = [\"CO2 - combustion - air\",\n",
    "        \"CO2 - non combustion - Cement production - air\",\n",
    "        \"CO2 - non combustion - Lime production - air\",\n",
    "        \"CO2 - waste - biogenic - air\", \n",
    "        \"CO2 - waste - fossil - air\",\n",
    "        \"CO2 - agriculture - peat decay - air\", \n",
    "        \"CH4 - agriculture - air\",\n",
    "        \"CH4 - waste - air\",\n",
    "        \"CH4 - combustion - air\",\n",
    "        \"CH4 - non combustion - Extraction/production of (natural) gas - air\",\n",
    "        \"CH4 - non combustion - Extraction/production of crude oil - air\",\n",
    "        \"CH4 - non combustion - Mining of antracite - air\",\n",
    "        \"CH4 - non combustion - Mining of bituminous coal - air\",\n",
    "        \"CH4 - non combustion - Mining of coking coal - air\",\n",
    "        \"CH4 - non combustion - Mining of lignite (brown coal) - air\",\n",
    "        \"CH4 - non combustion - Mining of sub-bituminous coal - air\",\n",
    "        \"CH4 - non combustion - Oil refinery - air\",\n",
    "        \"N2O - combustion - air\",\n",
    "        \"N2O - agriculture - air\",\n",
    "        \"SF6 - air\"]\n",
    "\n",
    "METHOD = ('IPCC 2013', 'climate change', 'global warming potential (GWP100)')\n",
    "FG_MAPPING_FILE = os.path.join(os.getcwd(), \"data\", \"EXIOBASE-ecoinvent-bio-bw-GHG.csv\")\n",
    "EXIOBASE_AGGREGATED_A_FILE = os.path.join(os.getcwd(), \"data/A.txt\")\n",
    "EXIOBASE_AGGREGATED_S_FILE = os.path.join(os.getcwd(), \"data/S.txt\")\n",
    "EMISSION_CODE_FILE = os.path.join(os.getcwd(), \"data/EXIOBASE-ecoinvent-bio-bw-GHG.csv\")\n",
    "FROEGROUND_1 = os.path.join(os.getcwd(), \"data/20250110_foreground_system_small.csv\")\n",
    "# FROEGROUND_1 = os.path.join(os.getcwd(), \"data/fg_exiobase_aggregated_1col.csv\")\n",
    "FROEGROUND_2 = os.path.join(os.getcwd(), \"data/fg_exiobase_aggregated_2col.csv\")\n"
   ]
  },
  {
   "cell_type": "markdown",
   "metadata": {},
   "source": [
    "## Section 1: Add foreground system with 1 column"
   ]
  },
  {
   "cell_type": "markdown",
   "metadata": {
    "vscode": {
     "languageId": "plaintext"
    }
   },
   "source": [
    "1. Get technosphere matrix"
   ]
  },
  {
   "cell_type": "code",
   "execution_count": 4,
   "metadata": {},
   "outputs": [],
   "source": [
    "bg_importer = BackgroundImporter()\n",
    "\n",
    "tech_df = pd.read_table(EXIOBASE_AGGREGATED_A_FILE, sep='\\t', header=None, low_memory=False)\n",
    "raw_tech = tech_df.iloc[3:, 2:].astype('float').to_numpy()\n",
    "tech_matrix = bg_importer.form_tech_matrix(raw_tech)"
   ]
  },
  {
   "cell_type": "markdown",
   "metadata": {},
   "source": [
    "2. Get biosphere matrix"
   ]
  },
  {
   "cell_type": "code",
   "execution_count": 5,
   "metadata": {},
   "outputs": [],
   "source": [
    "bio_df = pd.read_csv(EXIOBASE_AGGREGATED_S_FILE, header=[0,1], index_col=[0], sep='\\t', low_memory=False)\n",
    "bio_matrix = bg_importer.form_bio_matrix(bio_df, GHG)"
   ]
  },
  {
   "cell_type": "markdown",
   "metadata": {},
   "source": [
    "3. Get characterization factor matrix"
   ]
  },
  {
   "cell_type": "code",
   "execution_count": null,
   "metadata": {},
   "outputs": [],
   "source": [
    "# cf_matrix = bg_importer.form_cf_matrix(\"ecoinvent-3.11-biosphere\", METHOD, FG_MAPPING_FILE, GHG)\n",
    "# cf_matrix.diagonal()  # print the diagnal for checking\n",
    "\n",
    "# since 2 of the emissions we chose has no cf value in IPCC2013 method, we assign the values so that we can use.\n",
    "cf_matrix = [1., 1., 1., 1., 1., 1., 27.0, 29.8, 29.8, 29.8, 29.8, 29.8, 29.8, 29.8, 29.8, 29.8, 29.8, 273., 273., 25200.]\n",
    "cf_matrix = np.diagflat(cf_matrix)"
   ]
  },
  {
   "cell_type": "markdown",
   "metadata": {},
   "source": [
    "4. Check out the foreground data"
   ]
  },
  {
   "cell_type": "code",
   "execution_count": 7,
   "metadata": {},
   "outputs": [
    {
     "data": {
      "text/html": [
       "<div>\n",
       "<style scoped>\n",
       "    .dataframe tbody tr th:only-of-type {\n",
       "        vertical-align: middle;\n",
       "    }\n",
       "\n",
       "    .dataframe tbody tr th {\n",
       "        vertical-align: top;\n",
       "    }\n",
       "\n",
       "    .dataframe thead th {\n",
       "        text-align: right;\n",
       "    }\n",
       "</style>\n",
       "<table border=\"1\" class=\"dataframe\">\n",
       "  <thead>\n",
       "    <tr style=\"text-align: right;\">\n",
       "      <th></th>\n",
       "      <th>Activity name</th>\n",
       "      <th>Exchange name</th>\n",
       "      <th>Exchange type</th>\n",
       "      <th>Exchange amount</th>\n",
       "      <th>Exchange uncertainty type</th>\n",
       "      <th>u</th>\n",
       "      <th>Exchange negative</th>\n",
       "    </tr>\n",
       "  </thead>\n",
       "  <tbody>\n",
       "    <tr>\n",
       "      <th>0</th>\n",
       "      <td>column_1</td>\n",
       "      <td>EU28-Agriculture-Forestry-Fishing</td>\n",
       "      <td>technosphere</td>\n",
       "      <td>0.000000</td>\n",
       "      <td>0</td>\n",
       "      <td>NaN</td>\n",
       "      <td>NaN</td>\n",
       "    </tr>\n",
       "    <tr>\n",
       "      <th>1</th>\n",
       "      <td>column_1</td>\n",
       "      <td>EU28-Energy</td>\n",
       "      <td>technosphere</td>\n",
       "      <td>NaN</td>\n",
       "      <td>0</td>\n",
       "      <td>NaN</td>\n",
       "      <td>NaN</td>\n",
       "    </tr>\n",
       "    <tr>\n",
       "      <th>2</th>\n",
       "      <td>column_1</td>\n",
       "      <td>EU28-Natural gas and services related to natur...</td>\n",
       "      <td>technosphere</td>\n",
       "      <td>NaN</td>\n",
       "      <td>0</td>\n",
       "      <td>NaN</td>\n",
       "      <td>NaN</td>\n",
       "    </tr>\n",
       "    <tr>\n",
       "      <th>3</th>\n",
       "      <td>column_1</td>\n",
       "      <td>EU28-Industry</td>\n",
       "      <td>technosphere</td>\n",
       "      <td>0.000001</td>\n",
       "      <td>2</td>\n",
       "      <td>3.330005</td>\n",
       "      <td>False</td>\n",
       "    </tr>\n",
       "    <tr>\n",
       "      <th>4</th>\n",
       "      <td>column_1</td>\n",
       "      <td>EU28-Motor Gasoline</td>\n",
       "      <td>technosphere</td>\n",
       "      <td>-0.000016</td>\n",
       "      <td>2</td>\n",
       "      <td>1.540000</td>\n",
       "      <td>True</td>\n",
       "    </tr>\n",
       "  </tbody>\n",
       "</table>\n",
       "</div>"
      ],
      "text/plain": [
       "  Activity name                                      Exchange name  \\\n",
       "0      column_1                  EU28-Agriculture-Forestry-Fishing   \n",
       "1      column_1                                        EU28-Energy   \n",
       "2      column_1  EU28-Natural gas and services related to natur...   \n",
       "3      column_1                                      EU28-Industry   \n",
       "4      column_1                                EU28-Motor Gasoline   \n",
       "\n",
       "  Exchange type  Exchange amount  Exchange uncertainty type         u  \\\n",
       "0  technosphere         0.000000                          0       NaN   \n",
       "1  technosphere              NaN                          0       NaN   \n",
       "2  technosphere              NaN                          0       NaN   \n",
       "3  technosphere         0.000001                          2  3.330005   \n",
       "4  technosphere        -0.000016                          2  1.540000   \n",
       "\n",
       "  Exchange negative  \n",
       "0               NaN  \n",
       "1               NaN  \n",
       "2               NaN  \n",
       "3             False  \n",
       "4              True  "
      ]
     },
     "execution_count": 7,
     "metadata": {},
     "output_type": "execute_result"
    }
   ],
   "source": [
    "fg_tech_df = pd.read_table(FROEGROUND_1, sep=',')\n",
    "fg_tech_df.head()"
   ]
  },
  {
   "cell_type": "markdown",
   "metadata": {},
   "source": [
    "5. Get activities in foreground system."
   ]
  },
  {
   "cell_type": "code",
   "execution_count": 8,
   "metadata": {},
   "outputs": [
    {
     "data": {
      "text/plain": [
       "['column_1']"
      ]
     },
     "execution_count": 8,
     "metadata": {},
     "output_type": "execute_result"
    }
   ],
   "source": [
    "fg_activities_1 = get_fg_activities(FROEGROUND_1, \",\")\n",
    "fg_activities_1"
   ]
  },
  {
   "cell_type": "markdown",
   "metadata": {},
   "source": [
    "6. Get activities in background system."
   ]
  },
  {
   "cell_type": "code",
   "execution_count": 9,
   "metadata": {},
   "outputs": [
    {
     "data": {
      "text/plain": [
       "['EU28-Agriculture-Forestry-Fishing',\n",
       " 'EU28-Energy',\n",
       " 'EU28-Natural gas and services related to natural gas extraction, excluding surveying',\n",
       " 'EU28-Industry',\n",
       " 'EU28-Motor Gasoline']"
      ]
     },
     "execution_count": 9,
     "metadata": {},
     "output_type": "execute_result"
    }
   ],
   "source": [
    "bg_activities_1 = get_bg_activities(EXIOBASE_AGGREGATED_A_FILE, \"\\t\")\n",
    "bg_activities_1[:5] # only list the first five activities here"
   ]
  },
  {
   "cell_type": "markdown",
   "metadata": {},
   "source": [
    "7. Get foreground system matrices"
   ]
  },
  {
   "cell_type": "code",
   "execution_count": 10,
   "metadata": {},
   "outputs": [],
   "source": [
    "fg_importer = ForegroundImporter()\n",
    "\n",
    "fgbg, fgfg, bgfg, bifg = fg_importer.extend_matrix(fg_tech_df, GHG, fg_activities_1, bg_activities_1)"
   ]
  },
  {
   "cell_type": "markdown",
   "metadata": {},
   "source": [
    "8. Concatenate foreground system with background system"
   ]
  },
  {
   "cell_type": "code",
   "execution_count": 11,
   "metadata": {},
   "outputs": [
    {
     "name": "stdout",
     "output_type": "stream",
     "text": [
      "Technosphere shape change to (77, 77) from (76, 76)\n",
      "Biosphere shape change to (20, 77) from (20, 76)\n"
     ]
    }
   ],
   "source": [
    "full_tech_matrix_1, full_bio_matrix_1 = fg_importer.concatenate_matrix(tech_matrix, bio_matrix, fgbg, fgfg, bgfg, bifg)\n",
    "\n",
    "# to compare the matrix before and after concatenate with foreground system\n",
    "print(f\"Technosphere shape change to {full_tech_matrix_1.shape} from {tech_matrix.shape}\")\n",
    "print(f\"Biosphere shape change to {full_bio_matrix_1.shape} from {bio_matrix.shape}\")"
   ]
  },
  {
   "cell_type": "markdown",
   "metadata": {},
   "source": [
    "9. Build datapackage"
   ]
  },
  {
   "cell_type": "code",
   "execution_count": 12,
   "metadata": {},
   "outputs": [],
   "source": [
    "dp_builder = DatapackageBuilder()\n",
    "datapackage_data_1 = dp_builder.prepare_dp_matrix(full_tech_matrix_1, full_bio_matrix_1, cf_matrix)\n",
    "datapackage_1 = dp_builder.prepare_datapackage(datapackage_data_1)"
   ]
  },
  {
   "cell_type": "markdown",
   "metadata": {},
   "source": [
    "10. Run static simulation"
   ]
  },
  {
   "cell_type": "code",
   "execution_count": 13,
   "metadata": {},
   "outputs": [
    {
     "name": "stdout",
     "output_type": "stream",
     "text": [
      "Brightway calculated lca score: (291685.0667897694, 'RoW-Services')\n"
     ]
    }
   ],
   "source": [
    "mysector_1 = 69  # RoW-Services\n",
    "\n",
    "activities = fg_activities_1 + bg_activities_1\n",
    "\n",
    "lca = bc.LCA(\n",
    "            demand={mysector_1 : 1},\n",
    "            data_objs=[datapackage_1],\n",
    "        )\n",
    "lca.lci()\n",
    "lca.lcia()\n",
    "\n",
    "print(f\"Brightway calculated lca score: {lca.score, activities[mysector_1]}\")\n"
   ]
  },
  {
   "cell_type": "markdown",
   "metadata": {},
   "source": [
    "## Section 2: Add foreground system with 2 columns"
   ]
  },
  {
   "cell_type": "markdown",
   "metadata": {},
   "source": [
    "1. Check out the foreground data"
   ]
  },
  {
   "cell_type": "code",
   "execution_count": 14,
   "metadata": {},
   "outputs": [
    {
     "data": {
      "text/html": [
       "<div>\n",
       "<style scoped>\n",
       "    .dataframe tbody tr th:only-of-type {\n",
       "        vertical-align: middle;\n",
       "    }\n",
       "\n",
       "    .dataframe tbody tr th {\n",
       "        vertical-align: top;\n",
       "    }\n",
       "\n",
       "    .dataframe thead th {\n",
       "        text-align: right;\n",
       "    }\n",
       "</style>\n",
       "<table border=\"1\" class=\"dataframe\">\n",
       "  <thead>\n",
       "    <tr style=\"text-align: right;\">\n",
       "      <th></th>\n",
       "      <th>Activity name</th>\n",
       "      <th>Exchange name</th>\n",
       "      <th>Exchange type</th>\n",
       "      <th>Exchange amount</th>\n",
       "      <th>Exchange uncertainty type</th>\n",
       "      <th>GSD</th>\n",
       "      <th>Exchange negative</th>\n",
       "    </tr>\n",
       "  </thead>\n",
       "  <tbody>\n",
       "    <tr>\n",
       "      <th>0</th>\n",
       "      <td>column_1</td>\n",
       "      <td>EU28-Electricity by biomass and waste</td>\n",
       "      <td>technosphere</td>\n",
       "      <td>-2.340000e-07</td>\n",
       "      <td>2</td>\n",
       "      <td>2.674795</td>\n",
       "      <td>True</td>\n",
       "    </tr>\n",
       "    <tr>\n",
       "      <th>1</th>\n",
       "      <td>column_1</td>\n",
       "      <td>EU28-Electricity by solar photovoltaic</td>\n",
       "      <td>technosphere</td>\n",
       "      <td>-2.010000e-07</td>\n",
       "      <td>2</td>\n",
       "      <td>2.674795</td>\n",
       "      <td>True</td>\n",
       "    </tr>\n",
       "    <tr>\n",
       "      <th>2</th>\n",
       "      <td>column_1</td>\n",
       "      <td>EU28-Electricity by solar thermal</td>\n",
       "      <td>technosphere</td>\n",
       "      <td>0.000000e+00</td>\n",
       "      <td>1</td>\n",
       "      <td>0.000000</td>\n",
       "      <td>False</td>\n",
       "    </tr>\n",
       "    <tr>\n",
       "      <th>3</th>\n",
       "      <td>column_1</td>\n",
       "      <td>EU28-Electricity by tide, wave, ocean</td>\n",
       "      <td>technosphere</td>\n",
       "      <td>-6.780000e-09</td>\n",
       "      <td>2</td>\n",
       "      <td>2.674795</td>\n",
       "      <td>True</td>\n",
       "    </tr>\n",
       "    <tr>\n",
       "      <th>4</th>\n",
       "      <td>column_1</td>\n",
       "      <td>EU28-Electricity by Geothermal</td>\n",
       "      <td>technosphere</td>\n",
       "      <td>-9.350000e-10</td>\n",
       "      <td>2</td>\n",
       "      <td>2.674795</td>\n",
       "      <td>True</td>\n",
       "    </tr>\n",
       "  </tbody>\n",
       "</table>\n",
       "</div>"
      ],
      "text/plain": [
       "  Activity name                           Exchange name Exchange type  \\\n",
       "0      column_1   EU28-Electricity by biomass and waste  technosphere   \n",
       "1      column_1  EU28-Electricity by solar photovoltaic  technosphere   \n",
       "2      column_1       EU28-Electricity by solar thermal  technosphere   \n",
       "3      column_1   EU28-Electricity by tide, wave, ocean  technosphere   \n",
       "4      column_1          EU28-Electricity by Geothermal  technosphere   \n",
       "\n",
       "   Exchange amount  Exchange uncertainty type       GSD Exchange negative  \n",
       "0    -2.340000e-07                          2  2.674795              True  \n",
       "1    -2.010000e-07                          2  2.674795              True  \n",
       "2     0.000000e+00                          1  0.000000             False  \n",
       "3    -6.780000e-09                          2  2.674795              True  \n",
       "4    -9.350000e-10                          2  2.674795              True  "
      ]
     },
     "execution_count": 14,
     "metadata": {},
     "output_type": "execute_result"
    }
   ],
   "source": [
    "fg_tech_df_2 = pd.read_table(FROEGROUND_2, sep=',')\n",
    "fg_tech_df_2.head()"
   ]
  },
  {
   "cell_type": "markdown",
   "metadata": {},
   "source": [
    "2. Get activities in foreground system."
   ]
  },
  {
   "cell_type": "code",
   "execution_count": 15,
   "metadata": {},
   "outputs": [
    {
     "data": {
      "text/plain": [
       "['column_1', 'column_2']"
      ]
     },
     "execution_count": 15,
     "metadata": {},
     "output_type": "execute_result"
    }
   ],
   "source": [
    "fg_activities_2 = get_fg_activities(FROEGROUND_2, \",\")\n",
    "fg_activities_2"
   ]
  },
  {
   "cell_type": "markdown",
   "metadata": {},
   "source": [
    "3. Get activities in background system."
   ]
  },
  {
   "cell_type": "code",
   "execution_count": 16,
   "metadata": {},
   "outputs": [
    {
     "data": {
      "text/plain": [
       "['EU28-Agriculture-Forestry-Fishing',\n",
       " 'EU28-Energy',\n",
       " 'EU28-Natural gas and services related to natural gas extraction, excluding surveying',\n",
       " 'EU28-Industry',\n",
       " 'EU28-Motor Gasoline']"
      ]
     },
     "execution_count": 16,
     "metadata": {},
     "output_type": "execute_result"
    }
   ],
   "source": [
    "bg_activities_2 = get_bg_activities(EXIOBASE_AGGREGATED_A_FILE, \"\\t\")\n",
    "bg_activities_2[:5] # only list the first five activities here"
   ]
  },
  {
   "cell_type": "markdown",
   "metadata": {},
   "source": [
    "4. Get foreground system matrices"
   ]
  },
  {
   "cell_type": "code",
   "execution_count": 17,
   "metadata": {},
   "outputs": [],
   "source": [
    "fg_importer = ForegroundImporter()\n",
    "\n",
    "fgbg_2, fgfg_2, bgfg_2, bifg_2 = fg_importer.extend_matrix(fg_tech_df_2, GHG, fg_activities_2, bg_activities_2)"
   ]
  },
  {
   "cell_type": "markdown",
   "metadata": {},
   "source": [
    "5. Concatenate foreground system with background system"
   ]
  },
  {
   "cell_type": "code",
   "execution_count": 18,
   "metadata": {},
   "outputs": [
    {
     "name": "stdout",
     "output_type": "stream",
     "text": [
      "Technosphere shape change from (78, 78) to (76, 76)\n",
      "Biosphere shape change from (20, 78) to (20, 76)\n"
     ]
    }
   ],
   "source": [
    "full_tech_matrix_2, full_bio_matrix_2 = fg_importer.concatenate_matrix(tech_matrix, bio_matrix, fgbg_2, fgfg_2, bgfg_2, bifg_2)\n",
    "\n",
    "# to compare the matrix before and after concatenate with foreground system\n",
    "print(f\"Technosphere shape change from {full_tech_matrix_2.shape} to {tech_matrix.shape}\")\n",
    "print(f\"Biosphere shape change from {full_bio_matrix_2.shape} to {bio_matrix.shape}\")"
   ]
  },
  {
   "cell_type": "markdown",
   "metadata": {},
   "source": [
    "6. Build datapackage"
   ]
  },
  {
   "cell_type": "code",
   "execution_count": 19,
   "metadata": {},
   "outputs": [],
   "source": [
    "dp_builder = DatapackageBuilder()\n",
    "datapackage_data_2 = dp_builder.prepare_dp_matrix(full_tech_matrix_2, full_bio_matrix_2, cf_matrix)\n",
    "datapackage_2 = dp_builder.prepare_datapackage(datapackage_data_2)"
   ]
  },
  {
   "cell_type": "markdown",
   "metadata": {},
   "source": [
    "7. Run static simulation"
   ]
  },
  {
   "cell_type": "code",
   "execution_count": 20,
   "metadata": {},
   "outputs": [
    {
     "name": "stdout",
     "output_type": "stream",
     "text": [
      "Brightway calculated lca score: (291685.0667897694, 'RoW-Services')\n"
     ]
    }
   ],
   "source": [
    "mysector_2 = 70  # RoW-Services\n",
    "\n",
    "activities = fg_activities_2 + bg_activities_2\n",
    "\n",
    "lca = bc.LCA(\n",
    "            demand={mysector_2 : 1},\n",
    "            data_objs=[datapackage_2],\n",
    "        )\n",
    "lca.lci()\n",
    "lca.lcia()\n",
    "\n",
    "print(f\"Brightway calculated lca score: {lca.score, activities[mysector_2]}\")\n"
   ]
  },
  {
   "cell_type": "markdown",
   "metadata": {},
   "source": [
    "## Run the simulation manually to compare"
   ]
  },
  {
   "cell_type": "markdown",
   "metadata": {},
   "source": [
    "1. With both foreground system (1 col) and background system"
   ]
  },
  {
   "cell_type": "code",
   "execution_count": 21,
   "metadata": {},
   "outputs": [
    {
     "data": {
      "text/plain": [
       "291685.06678976933"
      ]
     },
     "execution_count": 21,
     "metadata": {},
     "output_type": "execute_result"
    }
   ],
   "source": [
    "from bw_bamboo.lca_wrapper import *\n",
    "\n",
    "np.fill_diagonal(full_tech_matrix_1, -full_tech_matrix_1.diagonal())\n",
    "full_tech_matrix_1 = -full_tech_matrix_1\n",
    "\n",
    "rca = LCAWrapper()\n",
    "rca.manual_lca(full_tech_matrix_1, full_bio_matrix_1, cf_matrix, mysector_1)"
   ]
  },
  {
   "cell_type": "markdown",
   "metadata": {},
   "source": [
    "2. With both foreground system (2 cols) and background system"
   ]
  },
  {
   "cell_type": "code",
   "execution_count": 22,
   "metadata": {},
   "outputs": [
    {
     "data": {
      "text/plain": [
       "291685.0667897693"
      ]
     },
     "execution_count": 22,
     "metadata": {},
     "output_type": "execute_result"
    }
   ],
   "source": [
    "from bw_bamboo.lca_wrapper import *\n",
    "\n",
    "np.fill_diagonal(full_tech_matrix_2, -full_tech_matrix_2.diagonal())\n",
    "full_tech_matrix_2 = -full_tech_matrix_2\n",
    "\n",
    "rca = LCAWrapper()\n",
    "rca.manual_lca(full_tech_matrix_2, full_bio_matrix_2, cf_matrix, mysector_2)"
   ]
  }
 ],
 "metadata": {
  "kernelspec": {
   "display_name": "bw2.5",
   "language": "python",
   "name": "python3"
  },
  "language_info": {
   "codemirror_mode": {
    "name": "ipython",
    "version": 3
   },
   "file_extension": ".py",
   "mimetype": "text/x-python",
   "name": "python",
   "nbconvert_exporter": "python",
   "pygments_lexer": "ipython3",
   "version": "3.11.9"
  }
 },
 "nbformat": 4,
 "nbformat_minor": 2
}
