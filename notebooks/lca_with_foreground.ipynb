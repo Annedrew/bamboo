{
 "cells": [
  {
   "cell_type": "markdown",
   "metadata": {
    "vscode": {
     "languageId": "plaintext"
    }
   },
   "source": [
    "# LCA without foreground"
   ]
  },
  {
   "cell_type": "code",
   "execution_count": 1,
   "metadata": {},
   "outputs": [],
   "source": [
    "import os\n",
    "import sys\n",
    "sys.path.append(os.path.abspath(\"..\"))\n",
    "from bw_exiobase.background_importer import *\n",
    "from bw_exiobase.foreground_importer import *\n",
    "from bw_exiobase.datapackage_builder import *\n",
    "from bw_exiobase.uncertainty_handler import *\n",
    "from bw_exiobase.lca_batch import *\n",
    "from constants import *"
   ]
  },
  {
   "cell_type": "markdown",
   "metadata": {
    "vscode": {
     "languageId": "plaintext"
    }
   },
   "source": [
    "1. Get technosphere matrix"
   ]
  },
  {
   "cell_type": "code",
   "execution_count": 2,
   "metadata": {},
   "outputs": [],
   "source": [
    "bg_importer = BackgroundImporter()\n",
    "\n",
    "tech_df = pd.read_table(EXIOBASE_AGGREGATED_A_FILE, sep='\\t', header=None, low_memory=False)\n",
    "raw_tech = tech_df.iloc[3:, 2:].astype('float').to_numpy()\n",
    "tech_matrix = bg_importer.form_tech_matrix(raw_tech)"
   ]
  },
  {
   "cell_type": "markdown",
   "metadata": {},
   "source": [
    "2. Get biosphere matrix"
   ]
  },
  {
   "cell_type": "code",
   "execution_count": 3,
   "metadata": {},
   "outputs": [],
   "source": [
    "bio_df = pd.read_csv(EXIOBASE_AGGREGATED_S_FILE, header=[0,1], index_col=[0], sep='\\t', low_memory=False)\n",
    "bio_matrix = bg_importer.form_bio_matrix(bio_df, GHG)"
   ]
  },
  {
   "cell_type": "markdown",
   "metadata": {},
   "source": [
    "3. Get characterization factor matrix"
   ]
  },
  {
   "cell_type": "code",
   "execution_count": 4,
   "metadata": {},
   "outputs": [],
   "source": [
    "cf_matrix = bg_importer.form_cf_matrix(EMISSION_CODE_FILE, METHOD, GHG)"
   ]
  },
  {
   "cell_type": "markdown",
   "metadata": {},
   "source": [
    "## Run simulation with only background"
   ]
  },
  {
   "cell_type": "markdown",
   "metadata": {},
   "source": [
    "1. Build datapackages"
   ]
  },
  {
   "cell_type": "code",
   "execution_count": 5,
   "metadata": {},
   "outputs": [],
   "source": [
    "dp_builder = DatapackageBuilder()\n",
    "datapackage_data = dp_builder.prepare_bw_matrix(tech_matrix, bio_matrix, cf_matrix)\n",
    "datapackage = dp_builder.prepare_datapackage(datapackage_data)"
   ]
  },
  {
   "cell_type": "markdown",
   "metadata": {},
   "source": [
    "2. Get background activities"
   ]
  },
  {
   "cell_type": "code",
   "execution_count": 6,
   "metadata": {},
   "outputs": [
    {
     "data": {
      "text/plain": [
       "['EU28-Agriculture-Forestry-Fishing',\n",
       " 'EU28-Energy',\n",
       " 'EU28-Natural gas and services related to natural gas extraction, excluding surveying',\n",
       " 'EU28-Industry',\n",
       " 'EU28-Motor Gasoline',\n",
       " 'EU28-Gas/Diesel Oil',\n",
       " 'EU28-Refinery Feedstocks',\n",
       " 'EU28-Lubricants',\n",
       " 'EU28-P- and other fertiliser',\n",
       " 'EU28-Chemicals nec',\n",
       " 'EU28-Biogasoline',\n",
       " 'EU28-Biodiesels',\n",
       " 'EU28-Cement, lime and plaster',\n",
       " 'EU28-Basic iron and steel and of ferro-alloys and first products thereof',\n",
       " 'EU28-Aluminium and aluminium products',\n",
       " 'EU28-Copper products',\n",
       " 'EU28-Electricity by coal',\n",
       " 'EU28-Electricity by gas',\n",
       " 'EU28-Electricity by nuclear',\n",
       " 'EU28-Electricity by hydro',\n",
       " 'EU28-Electricity by wind',\n",
       " 'EU28-Electricity by petroleum and other oil derivatives',\n",
       " 'EU28-Electricity by biomass and waste',\n",
       " 'EU28-Electricity by solar photovoltaic',\n",
       " 'EU28-Electricity by solar thermal',\n",
       " 'EU28-Electricity by tide, wave, ocean',\n",
       " 'EU28-Electricity by Geothermal',\n",
       " 'EU28-Electricity nec',\n",
       " 'EU28-Steam and hot water supply services',\n",
       " 'EU28-Collected and purified water, distribution services of water (41)',\n",
       " 'EU28-Services',\n",
       " 'EU28-Railway transportation services',\n",
       " 'EU28-Other land transportation services',\n",
       " 'EU28-Waste management',\n",
       " 'EU28-Intert/metal waste for treatment: incineration',\n",
       " 'EU28-Sewage sludge for treatment: biogasification and land application',\n",
       " 'EU28-Other waste for treatment: waste water treatment',\n",
       " 'EU28-Inert/metal/hazardous waste for treatment: landfill',\n",
       " 'RoW-Agriculture-Forestry-Fishing',\n",
       " 'RoW-Energy',\n",
       " 'RoW-Natural gas and services related to natural gas extraction, excluding surveying',\n",
       " 'RoW-Industry',\n",
       " 'RoW-Motor Gasoline',\n",
       " 'RoW-Gas/Diesel Oil',\n",
       " 'RoW-Refinery Feedstocks',\n",
       " 'RoW-Lubricants',\n",
       " 'RoW-P- and other fertiliser',\n",
       " 'RoW-Chemicals nec',\n",
       " 'RoW-Biogasoline',\n",
       " 'RoW-Biodiesels',\n",
       " 'RoW-Cement, lime and plaster',\n",
       " 'RoW-Basic iron and steel and of ferro-alloys and first products thereof',\n",
       " 'RoW-Aluminium and aluminium products',\n",
       " 'RoW-Copper products',\n",
       " 'RoW-Electricity by coal',\n",
       " 'RoW-Electricity by gas',\n",
       " 'RoW-Electricity by nuclear',\n",
       " 'RoW-Electricity by hydro',\n",
       " 'RoW-Electricity by wind',\n",
       " 'RoW-Electricity by petroleum and other oil derivatives',\n",
       " 'RoW-Electricity by biomass and waste',\n",
       " 'RoW-Electricity by solar photovoltaic',\n",
       " 'RoW-Electricity by solar thermal',\n",
       " 'RoW-Electricity by tide, wave, ocean',\n",
       " 'RoW-Electricity by Geothermal',\n",
       " 'RoW-Electricity nec',\n",
       " 'RoW-Steam and hot water supply services',\n",
       " 'RoW-Collected and purified water, distribution services of water (41)',\n",
       " 'RoW-Services',\n",
       " 'RoW-Railway transportation services',\n",
       " 'RoW-Other land transportation services',\n",
       " 'RoW-Waste management',\n",
       " 'RoW-Intert/metal waste for treatment: incineration',\n",
       " 'RoW-Sewage sludge for treatment: biogasification and land application',\n",
       " 'RoW-Other waste for treatment: waste water treatment',\n",
       " 'RoW-Inert/metal/hazardous waste for treatment: landfill']"
      ]
     },
     "execution_count": 6,
     "metadata": {},
     "output_type": "execute_result"
    }
   ],
   "source": [
    "bg_activities = get_bg_activities(EXIOBASE_AGGREGATED_A_FILE, \"\\t\")\n",
    "bg_activities"
   ]
  },
  {
   "cell_type": "markdown",
   "metadata": {},
   "source": [
    "3. Run static simulations"
   ]
  },
  {
   "cell_type": "code",
   "execution_count": 7,
   "metadata": {},
   "outputs": [
    {
     "name": "stdout",
     "output_type": "stream",
     "text": [
      "Brightway calculated lca score: (681059.4825065059, 'EU28-Agriculture-Forestry-Fishing')\n"
     ]
    }
   ],
   "source": [
    "mysector = 0\n",
    "\n",
    "lca = bc.LCA(\n",
    "            demand={mysector : 1},\n",
    "            data_objs=[datapackage],\n",
    "        )\n",
    "lca.lci()\n",
    "lca.lcia()\n",
    "\n",
    "print(f\"Brightway calculated lca score: {lca.score, bg_activities[mysector]}\")\n"
   ]
  },
  {
   "cell_type": "markdown",
   "metadata": {},
   "source": [
    "## Add foreground system with 1 column"
   ]
  },
  {
   "cell_type": "markdown",
   "metadata": {},
   "source": [
    "1. Check out the foreground data"
   ]
  },
  {
   "cell_type": "code",
   "execution_count": 8,
   "metadata": {},
   "outputs": [
    {
     "data": {
      "text/html": [
       "<div>\n",
       "<style scoped>\n",
       "    .dataframe tbody tr th:only-of-type {\n",
       "        vertical-align: middle;\n",
       "    }\n",
       "\n",
       "    .dataframe tbody tr th {\n",
       "        vertical-align: top;\n",
       "    }\n",
       "\n",
       "    .dataframe thead th {\n",
       "        text-align: right;\n",
       "    }\n",
       "</style>\n",
       "<table border=\"1\" class=\"dataframe\">\n",
       "  <thead>\n",
       "    <tr style=\"text-align: right;\">\n",
       "      <th></th>\n",
       "      <th>Activity name</th>\n",
       "      <th>Exchange name</th>\n",
       "      <th>Exchange type</th>\n",
       "      <th>Exchange amount</th>\n",
       "      <th>Exchange uncertainty type</th>\n",
       "      <th>u</th>\n",
       "      <th>Exchange negative</th>\n",
       "    </tr>\n",
       "  </thead>\n",
       "  <tbody>\n",
       "    <tr>\n",
       "      <th>0</th>\n",
       "      <td>column_1</td>\n",
       "      <td>EU28-Agriculture-Forestry-Fishing</td>\n",
       "      <td>technosphere</td>\n",
       "      <td>0.000000</td>\n",
       "      <td>0</td>\n",
       "      <td>NaN</td>\n",
       "      <td>NaN</td>\n",
       "    </tr>\n",
       "    <tr>\n",
       "      <th>1</th>\n",
       "      <td>column_1</td>\n",
       "      <td>EU28-Energy</td>\n",
       "      <td>technosphere</td>\n",
       "      <td>NaN</td>\n",
       "      <td>0</td>\n",
       "      <td>NaN</td>\n",
       "      <td>NaN</td>\n",
       "    </tr>\n",
       "    <tr>\n",
       "      <th>2</th>\n",
       "      <td>column_1</td>\n",
       "      <td>EU28-Natural gas and services related to natur...</td>\n",
       "      <td>technosphere</td>\n",
       "      <td>NaN</td>\n",
       "      <td>0</td>\n",
       "      <td>NaN</td>\n",
       "      <td>NaN</td>\n",
       "    </tr>\n",
       "    <tr>\n",
       "      <th>3</th>\n",
       "      <td>column_1</td>\n",
       "      <td>EU28-Industry</td>\n",
       "      <td>technosphere</td>\n",
       "      <td>0.000001</td>\n",
       "      <td>2</td>\n",
       "      <td>3.330005</td>\n",
       "      <td>False</td>\n",
       "    </tr>\n",
       "    <tr>\n",
       "      <th>4</th>\n",
       "      <td>column_1</td>\n",
       "      <td>EU28-Motor Gasoline</td>\n",
       "      <td>technosphere</td>\n",
       "      <td>-0.000016</td>\n",
       "      <td>2</td>\n",
       "      <td>1.540000</td>\n",
       "      <td>True</td>\n",
       "    </tr>\n",
       "  </tbody>\n",
       "</table>\n",
       "</div>"
      ],
      "text/plain": [
       "  Activity name                                      Exchange name  \\\n",
       "0      column_1                  EU28-Agriculture-Forestry-Fishing   \n",
       "1      column_1                                        EU28-Energy   \n",
       "2      column_1  EU28-Natural gas and services related to natur...   \n",
       "3      column_1                                      EU28-Industry   \n",
       "4      column_1                                EU28-Motor Gasoline   \n",
       "\n",
       "  Exchange type  Exchange amount  Exchange uncertainty type         u  \\\n",
       "0  technosphere         0.000000                          0       NaN   \n",
       "1  technosphere              NaN                          0       NaN   \n",
       "2  technosphere              NaN                          0       NaN   \n",
       "3  technosphere         0.000001                          2  3.330005   \n",
       "4  technosphere        -0.000016                          2  1.540000   \n",
       "\n",
       "  Exchange negative  \n",
       "0               NaN  \n",
       "1               NaN  \n",
       "2               NaN  \n",
       "3             False  \n",
       "4              True  "
      ]
     },
     "execution_count": 8,
     "metadata": {},
     "output_type": "execute_result"
    }
   ],
   "source": [
    "fg_df = pd.read_csv(FG_FILE_1COL, delimiter=\",\")\n",
    "fg_df.head()"
   ]
  },
  {
   "cell_type": "markdown",
   "metadata": {},
   "source": [
    "2. Get activities in foreground system."
   ]
  },
  {
   "cell_type": "code",
   "execution_count": 9,
   "metadata": {},
   "outputs": [
    {
     "data": {
      "text/plain": [
       "['column_1']"
      ]
     },
     "execution_count": 9,
     "metadata": {},
     "output_type": "execute_result"
    }
   ],
   "source": [
    "fg_activities = get_fg_activities(FG_FILE_1COL, \",\")\n",
    "fg_activities"
   ]
  },
  {
   "cell_type": "markdown",
   "metadata": {},
   "source": [
    "3. Get activities in background system."
   ]
  },
  {
   "cell_type": "code",
   "execution_count": 10,
   "metadata": {},
   "outputs": [
    {
     "data": {
      "text/plain": [
       "['EU28-Agriculture-Forestry-Fishing',\n",
       " 'EU28-Energy',\n",
       " 'EU28-Natural gas and services related to natural gas extraction, excluding surveying',\n",
       " 'EU28-Industry',\n",
       " 'EU28-Motor Gasoline',\n",
       " 'EU28-Gas/Diesel Oil',\n",
       " 'EU28-Refinery Feedstocks',\n",
       " 'EU28-Lubricants',\n",
       " 'EU28-P- and other fertiliser',\n",
       " 'EU28-Chemicals nec',\n",
       " 'EU28-Biogasoline',\n",
       " 'EU28-Biodiesels',\n",
       " 'EU28-Cement, lime and plaster',\n",
       " 'EU28-Basic iron and steel and of ferro-alloys and first products thereof',\n",
       " 'EU28-Aluminium and aluminium products',\n",
       " 'EU28-Copper products',\n",
       " 'EU28-Electricity by coal',\n",
       " 'EU28-Electricity by gas',\n",
       " 'EU28-Electricity by nuclear',\n",
       " 'EU28-Electricity by hydro',\n",
       " 'EU28-Electricity by wind',\n",
       " 'EU28-Electricity by petroleum and other oil derivatives',\n",
       " 'EU28-Electricity by biomass and waste',\n",
       " 'EU28-Electricity by solar photovoltaic',\n",
       " 'EU28-Electricity by solar thermal',\n",
       " 'EU28-Electricity by tide, wave, ocean',\n",
       " 'EU28-Electricity by Geothermal',\n",
       " 'EU28-Electricity nec',\n",
       " 'EU28-Steam and hot water supply services',\n",
       " 'EU28-Collected and purified water, distribution services of water (41)',\n",
       " 'EU28-Services',\n",
       " 'EU28-Railway transportation services',\n",
       " 'EU28-Other land transportation services',\n",
       " 'EU28-Waste management',\n",
       " 'EU28-Intert/metal waste for treatment: incineration',\n",
       " 'EU28-Sewage sludge for treatment: biogasification and land application',\n",
       " 'EU28-Other waste for treatment: waste water treatment',\n",
       " 'EU28-Inert/metal/hazardous waste for treatment: landfill',\n",
       " 'RoW-Agriculture-Forestry-Fishing',\n",
       " 'RoW-Energy',\n",
       " 'RoW-Natural gas and services related to natural gas extraction, excluding surveying',\n",
       " 'RoW-Industry',\n",
       " 'RoW-Motor Gasoline',\n",
       " 'RoW-Gas/Diesel Oil',\n",
       " 'RoW-Refinery Feedstocks',\n",
       " 'RoW-Lubricants',\n",
       " 'RoW-P- and other fertiliser',\n",
       " 'RoW-Chemicals nec',\n",
       " 'RoW-Biogasoline',\n",
       " 'RoW-Biodiesels',\n",
       " 'RoW-Cement, lime and plaster',\n",
       " 'RoW-Basic iron and steel and of ferro-alloys and first products thereof',\n",
       " 'RoW-Aluminium and aluminium products',\n",
       " 'RoW-Copper products',\n",
       " 'RoW-Electricity by coal',\n",
       " 'RoW-Electricity by gas',\n",
       " 'RoW-Electricity by nuclear',\n",
       " 'RoW-Electricity by hydro',\n",
       " 'RoW-Electricity by wind',\n",
       " 'RoW-Electricity by petroleum and other oil derivatives',\n",
       " 'RoW-Electricity by biomass and waste',\n",
       " 'RoW-Electricity by solar photovoltaic',\n",
       " 'RoW-Electricity by solar thermal',\n",
       " 'RoW-Electricity by tide, wave, ocean',\n",
       " 'RoW-Electricity by Geothermal',\n",
       " 'RoW-Electricity nec',\n",
       " 'RoW-Steam and hot water supply services',\n",
       " 'RoW-Collected and purified water, distribution services of water (41)',\n",
       " 'RoW-Services',\n",
       " 'RoW-Railway transportation services',\n",
       " 'RoW-Other land transportation services',\n",
       " 'RoW-Waste management',\n",
       " 'RoW-Intert/metal waste for treatment: incineration',\n",
       " 'RoW-Sewage sludge for treatment: biogasification and land application',\n",
       " 'RoW-Other waste for treatment: waste water treatment',\n",
       " 'RoW-Inert/metal/hazardous waste for treatment: landfill']"
      ]
     },
     "execution_count": 10,
     "metadata": {},
     "output_type": "execute_result"
    }
   ],
   "source": [
    "bg_activities = get_bg_activities(EXIOBASE_AGGREGATED_A_FILE, \"\\t\")\n",
    "bg_activities"
   ]
  },
  {
   "cell_type": "markdown",
   "metadata": {},
   "source": [
    "4. Background matrices"
   ]
  },
  {
   "cell_type": "code",
   "execution_count": 11,
   "metadata": {},
   "outputs": [
    {
     "name": "stdout",
     "output_type": "stream",
     "text": [
      "[[7.36338343e-01 1.32512793e-03 2.50369329e-03 ... 1.21134511e-04\n",
      "  7.62826166e-05 4.74480856e-04]\n",
      " [9.91365844e-03 8.30899707e-01 3.02023124e-02 ... 9.94126465e-05\n",
      "  5.41113056e-05 9.39990163e-05]\n",
      " [4.32464974e-05 2.21849241e-03 9.99194240e-01 ... 3.70894886e-08\n",
      "  2.00023023e-08 7.04757337e-09]\n",
      " ...\n",
      " [6.34806533e-06 8.26437110e-06 7.47308387e-07 ... 9.86260390e-01\n",
      "  1.12285354e-04 3.46522374e-03]\n",
      " [1.23636432e-05 1.94495460e-05 2.45543251e-06 ... 5.76682882e-04\n",
      "  9.87318876e-01 2.70409581e-03]\n",
      " [6.07845068e-06 1.32530898e-05 1.91153928e-06 ... 6.24171469e-03\n",
      "  9.40994608e-04 9.95178298e-01]]\n",
      "---\n",
      "[[6.92719535e+04 2.24902521e+05 1.58717207e+06 ... 8.11463102e+04\n",
      "  5.09153559e+04 5.02862192e+04]\n",
      " [1.11657045e+02 3.26772076e+02 1.45794545e+01 ... 4.06909320e+03\n",
      "  1.11515389e+03 4.31986073e+03]\n",
      " [5.76029465e+01 6.48498046e+01 6.86348286e+00 ... 1.11483525e+03\n",
      "  3.28857868e+02 1.21602199e+03]\n",
      " ...\n",
      " [2.19718421e+00 3.01196685e+00 3.69253098e+00 ... 1.38856482e+00\n",
      "  6.37694131e-01 7.10205514e-01]\n",
      " [3.74584887e+02 7.34821581e-01 1.27500831e-06 ... 3.03853220e+01\n",
      "  9.77107437e+00 1.44590824e+01]\n",
      " [1.92074545e-01 3.22885897e-01 7.02516504e-01 ... 9.42383644e-01\n",
      "  1.63469899e+00 1.22051445e-03]]\n"
     ]
    }
   ],
   "source": [
    "print(tech_matrix)\n",
    "print(\"---\")\n",
    "print(bio_matrix)"
   ]
  },
  {
   "cell_type": "markdown",
   "metadata": {},
   "source": [
    "5. Concatenate foreground to background."
   ]
  },
  {
   "cell_type": "code",
   "execution_count": 12,
   "metadata": {},
   "outputs": [],
   "source": [
    "fg_importer = ForegroundImporter()\n",
    "fgbg, fgfg, bgfg, bifg = fg_importer.extend_matrix(fg_df, GHG, fg_activities, bg_activities)\n",
    "tech_matrix_withfg, bio_matrix_withfg = fg_importer.concatenate_matrix(tech_matrix, bio_matrix, fgbg, fgfg, bgfg, bifg)"
   ]
  },
  {
   "cell_type": "markdown",
   "metadata": {},
   "source": [
    "6. Check out the matrices after concatenation."
   ]
  },
  {
   "cell_type": "code",
   "execution_count": 13,
   "metadata": {},
   "outputs": [
    {
     "data": {
      "text/plain": [
       "array([ 1.20000e+00,  0.00000e+00,  0.00000e+00,  0.00000e+00,\n",
       "        1.21500e-06, -1.55000e-05, -1.97000e-05,  0.00000e+00,\n",
       "        1.53000e-10, -6.46000e-05,  2.61268e-06,  0.00000e+00,\n",
       "        5.96124e-06,  0.00000e+00,  0.00000e+00,  1.49850e-05,\n",
       "        0.00000e+00, -5.84000e-07, -3.91000e-07, -2.62000e-07,\n",
       "       -1.03000e-07, -5.37000e-07, -1.92000e-08, -2.34000e-07,\n",
       "       -2.01000e-07,  0.00000e+00, -6.78000e-09, -9.35000e-10,\n",
       "        0.00000e+00,  7.55000e-07,  1.80000e-07,  0.00000e+00,\n",
       "        0.00000e+00,  0.00000e+00,  2.21100e-06,  1.65196e-05,\n",
       "       -1.00000e-05,  5.67000e-07,  0.00000e+00,  0.00000e+00,\n",
       "        0.00000e+00,  0.00000e+00,  0.00000e+00,  0.00000e+00,\n",
       "        0.00000e+00,  0.00000e+00,  0.00000e+00,  0.00000e+00,\n",
       "        0.00000e+00,  0.00000e+00,  0.00000e+00,  0.00000e+00,\n",
       "        0.00000e+00,  0.00000e+00,  0.00000e+00,  0.00000e+00,\n",
       "        0.00000e+00,  0.00000e+00,  0.00000e+00,  0.00000e+00,\n",
       "        0.00000e+00,  0.00000e+00,  0.00000e+00,  0.00000e+00,\n",
       "        0.00000e+00,  0.00000e+00,  0.00000e+00,  0.00000e+00,\n",
       "        0.00000e+00,  0.00000e+00,  0.00000e+00,  0.00000e+00,\n",
       "        0.00000e+00,  0.00000e+00,  0.00000e+00,  0.00000e+00,\n",
       "        0.00000e+00])"
      ]
     },
     "execution_count": 13,
     "metadata": {},
     "output_type": "execute_result"
    }
   ],
   "source": [
    "tech_matrix_withfg[:, 0]"
   ]
  },
  {
   "cell_type": "code",
   "execution_count": 14,
   "metadata": {},
   "outputs": [
    {
     "name": "stdout",
     "output_type": "stream",
     "text": [
      "[[1.20000000e+00 0.00000000e+00 0.00000000e+00 ... 0.00000000e+00\n",
      "  0.00000000e+00 0.00000000e+00]\n",
      " [0.00000000e+00 7.36338343e-01 1.32512793e-03 ... 1.21134511e-04\n",
      "  7.62826166e-05 4.74480856e-04]\n",
      " [0.00000000e+00 9.91365844e-03 8.30899707e-01 ... 9.94126465e-05\n",
      "  5.41113056e-05 9.39990163e-05]\n",
      " ...\n",
      " [0.00000000e+00 6.34806533e-06 8.26437110e-06 ... 9.86260390e-01\n",
      "  1.12285354e-04 3.46522374e-03]\n",
      " [0.00000000e+00 1.23636432e-05 1.94495460e-05 ... 5.76682882e-04\n",
      "  9.87318876e-01 2.70409581e-03]\n",
      " [0.00000000e+00 6.07845068e-06 1.32530898e-05 ... 6.24171469e-03\n",
      "  9.40994608e-04 9.95178298e-01]]\n",
      "---\n",
      "[[0.00000000e+00 6.92719535e+04 2.24902521e+05 ... 8.11463102e+04\n",
      "  5.09153559e+04 5.02862192e+04]\n",
      " [0.00000000e+00 1.11657045e+02 3.26772076e+02 ... 4.06909320e+03\n",
      "  1.11515389e+03 4.31986073e+03]\n",
      " [0.00000000e+00 5.76029465e+01 6.48498046e+01 ... 1.11483525e+03\n",
      "  3.28857868e+02 1.21602199e+03]\n",
      " ...\n",
      " [0.00000000e+00 2.19718421e+00 3.01196685e+00 ... 1.38856482e+00\n",
      "  6.37694131e-01 7.10205514e-01]\n",
      " [0.00000000e+00 3.74584887e+02 7.34821581e-01 ... 3.03853220e+01\n",
      "  9.77107437e+00 1.44590824e+01]\n",
      " [0.00000000e+00 1.92074545e-01 3.22885897e-01 ... 9.42383644e-01\n",
      "  1.63469899e+00 1.22051445e-03]]\n"
     ]
    }
   ],
   "source": [
    "print(tech_matrix_withfg)\n",
    "print(\"---\")\n",
    "print(bio_matrix_withfg)"
   ]
  },
  {
   "cell_type": "markdown",
   "metadata": {},
   "source": [
    "7. Build datapackage"
   ]
  },
  {
   "cell_type": "code",
   "execution_count": 15,
   "metadata": {},
   "outputs": [],
   "source": [
    "dp_builder = DatapackageBuilder()\n",
    "datapackage_data_withfg = dp_builder.prepare_bw_matrix(tech_matrix_withfg, bio_matrix_withfg, cf_matrix)\n",
    "datapackage_withfg = dp_builder.prepare_datapackage(datapackage_data_withfg)"
   ]
  },
  {
   "cell_type": "markdown",
   "metadata": {},
   "source": [
    "8. Run static simulation"
   ]
  },
  {
   "cell_type": "code",
   "execution_count": 16,
   "metadata": {},
   "outputs": [
    {
     "name": "stdout",
     "output_type": "stream",
     "text": [
      "Brightway calculated lca score: (-82.01023771255333, 'column_1')\n"
     ]
    }
   ],
   "source": [
    "mysector = 0\n",
    "\n",
    "activities = fg_activities + bg_activities\n",
    "\n",
    "lca = bc.LCA(\n",
    "            demand={mysector : 1},\n",
    "            data_objs=[datapackage_withfg],\n",
    "        )\n",
    "lca.lci()\n",
    "lca.lcia()\n",
    "\n",
    "print(f\"Brightway calculated lca score: {lca.score, activities[mysector]}\")\n"
   ]
  },
  {
   "cell_type": "markdown",
   "metadata": {},
   "source": [
    "## Add foreground system with 2 columns"
   ]
  },
  {
   "cell_type": "markdown",
   "metadata": {},
   "source": [
    "1. Check out the foreground data"
   ]
  },
  {
   "cell_type": "code",
   "execution_count": 17,
   "metadata": {},
   "outputs": [
    {
     "data": {
      "text/html": [
       "<div>\n",
       "<style scoped>\n",
       "    .dataframe tbody tr th:only-of-type {\n",
       "        vertical-align: middle;\n",
       "    }\n",
       "\n",
       "    .dataframe tbody tr th {\n",
       "        vertical-align: top;\n",
       "    }\n",
       "\n",
       "    .dataframe thead th {\n",
       "        text-align: right;\n",
       "    }\n",
       "</style>\n",
       "<table border=\"1\" class=\"dataframe\">\n",
       "  <thead>\n",
       "    <tr style=\"text-align: right;\">\n",
       "      <th></th>\n",
       "      <th>Activity name</th>\n",
       "      <th>Exchange name</th>\n",
       "      <th>Exchange type</th>\n",
       "      <th>Exchange amount</th>\n",
       "      <th>Exchange uncertainty type</th>\n",
       "      <th>GSD</th>\n",
       "      <th>Exchange negative</th>\n",
       "    </tr>\n",
       "  </thead>\n",
       "  <tbody>\n",
       "    <tr>\n",
       "      <th>0</th>\n",
       "      <td>column_1</td>\n",
       "      <td>EU28-Electricity by biomass and waste</td>\n",
       "      <td>technosphere</td>\n",
       "      <td>-2.340000e-07</td>\n",
       "      <td>2</td>\n",
       "      <td>2.674795</td>\n",
       "      <td>True</td>\n",
       "    </tr>\n",
       "    <tr>\n",
       "      <th>1</th>\n",
       "      <td>column_1</td>\n",
       "      <td>EU28-Electricity by solar photovoltaic</td>\n",
       "      <td>technosphere</td>\n",
       "      <td>-2.010000e-07</td>\n",
       "      <td>2</td>\n",
       "      <td>2.674795</td>\n",
       "      <td>True</td>\n",
       "    </tr>\n",
       "    <tr>\n",
       "      <th>2</th>\n",
       "      <td>column_1</td>\n",
       "      <td>EU28-Electricity by solar thermal</td>\n",
       "      <td>technosphere</td>\n",
       "      <td>0.000000e+00</td>\n",
       "      <td>1</td>\n",
       "      <td>0.000000</td>\n",
       "      <td>False</td>\n",
       "    </tr>\n",
       "    <tr>\n",
       "      <th>3</th>\n",
       "      <td>column_1</td>\n",
       "      <td>EU28-Electricity by tide, wave, ocean</td>\n",
       "      <td>technosphere</td>\n",
       "      <td>-6.780000e-09</td>\n",
       "      <td>2</td>\n",
       "      <td>2.674795</td>\n",
       "      <td>True</td>\n",
       "    </tr>\n",
       "    <tr>\n",
       "      <th>4</th>\n",
       "      <td>column_1</td>\n",
       "      <td>EU28-Electricity by Geothermal</td>\n",
       "      <td>technosphere</td>\n",
       "      <td>-9.350000e-10</td>\n",
       "      <td>2</td>\n",
       "      <td>2.674795</td>\n",
       "      <td>True</td>\n",
       "    </tr>\n",
       "  </tbody>\n",
       "</table>\n",
       "</div>"
      ],
      "text/plain": [
       "  Activity name                           Exchange name Exchange type  \\\n",
       "0      column_1   EU28-Electricity by biomass and waste  technosphere   \n",
       "1      column_1  EU28-Electricity by solar photovoltaic  technosphere   \n",
       "2      column_1       EU28-Electricity by solar thermal  technosphere   \n",
       "3      column_1   EU28-Electricity by tide, wave, ocean  technosphere   \n",
       "4      column_1          EU28-Electricity by Geothermal  technosphere   \n",
       "\n",
       "   Exchange amount  Exchange uncertainty type       GSD Exchange negative  \n",
       "0    -2.340000e-07                          2  2.674795              True  \n",
       "1    -2.010000e-07                          2  2.674795              True  \n",
       "2     0.000000e+00                          1  0.000000             False  \n",
       "3    -6.780000e-09                          2  2.674795              True  \n",
       "4    -9.350000e-10                          2  2.674795              True  "
      ]
     },
     "execution_count": 17,
     "metadata": {},
     "output_type": "execute_result"
    }
   ],
   "source": [
    "fg_df = pd.read_csv(FG_FILE_2COL, delimiter=\",\")\n",
    "fg_df.head()"
   ]
  },
  {
   "cell_type": "markdown",
   "metadata": {},
   "source": [
    "2. Get activities in foreground system."
   ]
  },
  {
   "cell_type": "code",
   "execution_count": 18,
   "metadata": {},
   "outputs": [
    {
     "data": {
      "text/plain": [
       "['column_1', 'column_2']"
      ]
     },
     "execution_count": 18,
     "metadata": {},
     "output_type": "execute_result"
    }
   ],
   "source": [
    "fg_activities = get_fg_activities(FG_FILE_2COL, \",\")\n",
    "fg_activities"
   ]
  },
  {
   "cell_type": "markdown",
   "metadata": {},
   "source": [
    "3. Get activities in background system."
   ]
  },
  {
   "cell_type": "code",
   "execution_count": 19,
   "metadata": {},
   "outputs": [
    {
     "data": {
      "text/plain": [
       "['EU28-Agriculture-Forestry-Fishing',\n",
       " 'EU28-Energy',\n",
       " 'EU28-Natural gas and services related to natural gas extraction, excluding surveying',\n",
       " 'EU28-Industry',\n",
       " 'EU28-Motor Gasoline',\n",
       " 'EU28-Gas/Diesel Oil',\n",
       " 'EU28-Refinery Feedstocks',\n",
       " 'EU28-Lubricants',\n",
       " 'EU28-P- and other fertiliser',\n",
       " 'EU28-Chemicals nec',\n",
       " 'EU28-Biogasoline',\n",
       " 'EU28-Biodiesels',\n",
       " 'EU28-Cement, lime and plaster',\n",
       " 'EU28-Basic iron and steel and of ferro-alloys and first products thereof',\n",
       " 'EU28-Aluminium and aluminium products',\n",
       " 'EU28-Copper products',\n",
       " 'EU28-Electricity by coal',\n",
       " 'EU28-Electricity by gas',\n",
       " 'EU28-Electricity by nuclear',\n",
       " 'EU28-Electricity by hydro',\n",
       " 'EU28-Electricity by wind',\n",
       " 'EU28-Electricity by petroleum and other oil derivatives',\n",
       " 'EU28-Electricity by biomass and waste',\n",
       " 'EU28-Electricity by solar photovoltaic',\n",
       " 'EU28-Electricity by solar thermal',\n",
       " 'EU28-Electricity by tide, wave, ocean',\n",
       " 'EU28-Electricity by Geothermal',\n",
       " 'EU28-Electricity nec',\n",
       " 'EU28-Steam and hot water supply services',\n",
       " 'EU28-Collected and purified water, distribution services of water (41)',\n",
       " 'EU28-Services',\n",
       " 'EU28-Railway transportation services',\n",
       " 'EU28-Other land transportation services',\n",
       " 'EU28-Waste management',\n",
       " 'EU28-Intert/metal waste for treatment: incineration',\n",
       " 'EU28-Sewage sludge for treatment: biogasification and land application',\n",
       " 'EU28-Other waste for treatment: waste water treatment',\n",
       " 'EU28-Inert/metal/hazardous waste for treatment: landfill',\n",
       " 'RoW-Agriculture-Forestry-Fishing',\n",
       " 'RoW-Energy',\n",
       " 'RoW-Natural gas and services related to natural gas extraction, excluding surveying',\n",
       " 'RoW-Industry',\n",
       " 'RoW-Motor Gasoline',\n",
       " 'RoW-Gas/Diesel Oil',\n",
       " 'RoW-Refinery Feedstocks',\n",
       " 'RoW-Lubricants',\n",
       " 'RoW-P- and other fertiliser',\n",
       " 'RoW-Chemicals nec',\n",
       " 'RoW-Biogasoline',\n",
       " 'RoW-Biodiesels',\n",
       " 'RoW-Cement, lime and plaster',\n",
       " 'RoW-Basic iron and steel and of ferro-alloys and first products thereof',\n",
       " 'RoW-Aluminium and aluminium products',\n",
       " 'RoW-Copper products',\n",
       " 'RoW-Electricity by coal',\n",
       " 'RoW-Electricity by gas',\n",
       " 'RoW-Electricity by nuclear',\n",
       " 'RoW-Electricity by hydro',\n",
       " 'RoW-Electricity by wind',\n",
       " 'RoW-Electricity by petroleum and other oil derivatives',\n",
       " 'RoW-Electricity by biomass and waste',\n",
       " 'RoW-Electricity by solar photovoltaic',\n",
       " 'RoW-Electricity by solar thermal',\n",
       " 'RoW-Electricity by tide, wave, ocean',\n",
       " 'RoW-Electricity by Geothermal',\n",
       " 'RoW-Electricity nec',\n",
       " 'RoW-Steam and hot water supply services',\n",
       " 'RoW-Collected and purified water, distribution services of water (41)',\n",
       " 'RoW-Services',\n",
       " 'RoW-Railway transportation services',\n",
       " 'RoW-Other land transportation services',\n",
       " 'RoW-Waste management',\n",
       " 'RoW-Intert/metal waste for treatment: incineration',\n",
       " 'RoW-Sewage sludge for treatment: biogasification and land application',\n",
       " 'RoW-Other waste for treatment: waste water treatment',\n",
       " 'RoW-Inert/metal/hazardous waste for treatment: landfill']"
      ]
     },
     "execution_count": 19,
     "metadata": {},
     "output_type": "execute_result"
    }
   ],
   "source": [
    "bg_activities = get_bg_activities(EXIOBASE_AGGREGATED_A_FILE, \"\\t\")\n",
    "bg_activities"
   ]
  },
  {
   "cell_type": "markdown",
   "metadata": {},
   "source": [
    "4. Background matrices"
   ]
  },
  {
   "cell_type": "code",
   "execution_count": 20,
   "metadata": {},
   "outputs": [
    {
     "name": "stdout",
     "output_type": "stream",
     "text": [
      "[[7.36338343e-01 1.32512793e-03 2.50369329e-03 ... 1.21134511e-04\n",
      "  7.62826166e-05 4.74480856e-04]\n",
      " [9.91365844e-03 8.30899707e-01 3.02023124e-02 ... 9.94126465e-05\n",
      "  5.41113056e-05 9.39990163e-05]\n",
      " [4.32464974e-05 2.21849241e-03 9.99194240e-01 ... 3.70894886e-08\n",
      "  2.00023023e-08 7.04757337e-09]\n",
      " ...\n",
      " [6.34806533e-06 8.26437110e-06 7.47308387e-07 ... 9.86260390e-01\n",
      "  1.12285354e-04 3.46522374e-03]\n",
      " [1.23636432e-05 1.94495460e-05 2.45543251e-06 ... 5.76682882e-04\n",
      "  9.87318876e-01 2.70409581e-03]\n",
      " [6.07845068e-06 1.32530898e-05 1.91153928e-06 ... 6.24171469e-03\n",
      "  9.40994608e-04 9.95178298e-01]]\n",
      "---\n",
      "[[6.92719535e+04 2.24902521e+05 1.58717207e+06 ... 8.11463102e+04\n",
      "  5.09153559e+04 5.02862192e+04]\n",
      " [1.11657045e+02 3.26772076e+02 1.45794545e+01 ... 4.06909320e+03\n",
      "  1.11515389e+03 4.31986073e+03]\n",
      " [5.76029465e+01 6.48498046e+01 6.86348286e+00 ... 1.11483525e+03\n",
      "  3.28857868e+02 1.21602199e+03]\n",
      " ...\n",
      " [2.19718421e+00 3.01196685e+00 3.69253098e+00 ... 1.38856482e+00\n",
      "  6.37694131e-01 7.10205514e-01]\n",
      " [3.74584887e+02 7.34821581e-01 1.27500831e-06 ... 3.03853220e+01\n",
      "  9.77107437e+00 1.44590824e+01]\n",
      " [1.92074545e-01 3.22885897e-01 7.02516504e-01 ... 9.42383644e-01\n",
      "  1.63469899e+00 1.22051445e-03]]\n"
     ]
    }
   ],
   "source": [
    "print(tech_matrix)\n",
    "print(\"---\")\n",
    "print(bio_matrix)"
   ]
  },
  {
   "cell_type": "markdown",
   "metadata": {},
   "source": [
    "5. Concatenate foreground to background."
   ]
  },
  {
   "cell_type": "code",
   "execution_count": 21,
   "metadata": {},
   "outputs": [],
   "source": [
    "fg_importer = ForegroundImporter()\n",
    "fgbg, fgfg, bgfg, bifg = fg_importer.extend_matrix(fg_df, GHG, fg_activities, bg_activities)\n",
    "tech_matrix_withfg2, bio_matrix_withfg2 = fg_importer.concatenate_matrix(tech_matrix, bio_matrix, fgbg, fgfg, bgfg, bifg)"
   ]
  },
  {
   "cell_type": "markdown",
   "metadata": {},
   "source": [
    "6. Check out the matrices after concatenation."
   ]
  },
  {
   "cell_type": "code",
   "execution_count": 22,
   "metadata": {},
   "outputs": [
    {
     "name": "stdout",
     "output_type": "stream",
     "text": [
      "[[1.00000000e+00 0.00000000e+00 0.00000000e+00 ... 0.00000000e+00\n",
      "  0.00000000e+00 0.00000000e+00]\n",
      " [0.00000000e+00 1.00000000e+00 0.00000000e+00 ... 0.00000000e+00\n",
      "  0.00000000e+00 0.00000000e+00]\n",
      " [0.00000000e+00 0.00000000e+00 7.36338343e-01 ... 1.21134511e-04\n",
      "  7.62826166e-05 4.74480856e-04]\n",
      " ...\n",
      " [0.00000000e+00 0.00000000e+00 6.34806533e-06 ... 9.86260390e-01\n",
      "  1.12285354e-04 3.46522374e-03]\n",
      " [0.00000000e+00 0.00000000e+00 1.23636432e-05 ... 5.76682882e-04\n",
      "  9.87318876e-01 2.70409581e-03]\n",
      " [0.00000000e+00 0.00000000e+00 6.07845068e-06 ... 6.24171469e-03\n",
      "  9.40994608e-04 9.95178298e-01]]\n",
      "---\n",
      "[[0.00000000e+00 0.00000000e+00 6.92719535e+04 ... 8.11463102e+04\n",
      "  5.09153559e+04 5.02862192e+04]\n",
      " [0.00000000e+00 0.00000000e+00 1.11657045e+02 ... 4.06909320e+03\n",
      "  1.11515389e+03 4.31986073e+03]\n",
      " [0.00000000e+00 0.00000000e+00 5.76029465e+01 ... 1.11483525e+03\n",
      "  3.28857868e+02 1.21602199e+03]\n",
      " ...\n",
      " [5.62000000e+00 1.70000000e+00 2.19718421e+00 ... 1.38856482e+00\n",
      "  6.37694131e-01 7.10205514e-01]\n",
      " [0.00000000e+00 0.00000000e+00 3.74584887e+02 ... 3.03853220e+01\n",
      "  9.77107437e+00 1.44590824e+01]\n",
      " [0.00000000e+00 0.00000000e+00 1.92074545e-01 ... 9.42383644e-01\n",
      "  1.63469899e+00 1.22051445e-03]]\n"
     ]
    }
   ],
   "source": [
    "print(tech_matrix_withfg2)\n",
    "print(\"---\")\n",
    "print(bio_matrix_withfg2)"
   ]
  },
  {
   "cell_type": "markdown",
   "metadata": {},
   "source": [
    "7. Build datapackage"
   ]
  },
  {
   "cell_type": "code",
   "execution_count": 23,
   "metadata": {},
   "outputs": [],
   "source": [
    "dp_builder = DatapackageBuilder()\n",
    "datapackage_data_withfg2 = dp_builder.prepare_bw_matrix(tech_matrix_withfg2, bio_matrix_withfg2, cf_matrix)\n",
    "datapackage_withfg2 = dp_builder.prepare_datapackage(datapackage_data_withfg2)"
   ]
  },
  {
   "cell_type": "markdown",
   "metadata": {},
   "source": [
    "8. Run static simulation"
   ]
  },
  {
   "cell_type": "code",
   "execution_count": 24,
   "metadata": {},
   "outputs": [
    {
     "name": "stdout",
     "output_type": "stream",
     "text": [
      "Brightway calculated lca score: (-30322.354618841822, 'column_1')\n"
     ]
    }
   ],
   "source": [
    "mysector = 0\n",
    "\n",
    "activities = fg_activities + bg_activities\n",
    "\n",
    "lca = bc.LCA(\n",
    "            demand={mysector : 1},\n",
    "            data_objs=[datapackage_withfg2],\n",
    "        )\n",
    "lca.lci()\n",
    "lca.lcia()\n",
    "\n",
    "print(f\"Brightway calculated lca score: {lca.score, activities[mysector]}\")"
   ]
  },
  {
   "cell_type": "markdown",
   "metadata": {},
   "source": [
    "## Run the simulation manually to compare"
   ]
  },
  {
   "cell_type": "markdown",
   "metadata": {},
   "source": [
    "1. With only background system"
   ]
  },
  {
   "cell_type": "code",
   "execution_count": 25,
   "metadata": {},
   "outputs": [
    {
     "data": {
      "text/plain": [
       "681059.4825065061"
      ]
     },
     "execution_count": 25,
     "metadata": {},
     "output_type": "execute_result"
    }
   ],
   "source": [
    "from bw_exiobase.lca_batch import *\n",
    "\n",
    "tech_df = pd.read_table(EXIOBASE_AGGREGATED_A_FILE, sep='\\t', header=None, low_memory=False)\n",
    "raw_tech = tech_df.iloc[3:, 2:].astype('float').to_numpy()\n",
    "\n",
    "identify_matrix = np.identity(len(raw_tech))\n",
    "tech_matrix_manual = identify_matrix - raw_tech\n",
    "\n",
    "rca = ExiobaseLCA()\n",
    "rca.manual_lca(tech_matrix_manual, bio_matrix, cf_matrix, 0)"
   ]
  },
  {
   "cell_type": "markdown",
   "metadata": {},
   "source": [
    "2. With both foreground system (1 col) and background system"
   ]
  },
  {
   "cell_type": "code",
   "execution_count": 26,
   "metadata": {},
   "outputs": [
    {
     "data": {
      "text/plain": [
       "-82.01023771255339"
      ]
     },
     "execution_count": 26,
     "metadata": {},
     "output_type": "execute_result"
    }
   ],
   "source": [
    "from bw_exiobase.lca_batch import *\n",
    "\n",
    "np.fill_diagonal(tech_matrix_withfg, -tech_matrix_withfg.diagonal())\n",
    "tech_matrix_withfg = -tech_matrix_withfg\n",
    "\n",
    "rca = ExiobaseLCA()\n",
    "rca.manual_lca(tech_matrix_withfg, bio_matrix_withfg, cf_matrix, 0)"
   ]
  },
  {
   "cell_type": "markdown",
   "metadata": {},
   "source": [
    "3. With both foreground system (2 cols) and background system"
   ]
  },
  {
   "cell_type": "code",
   "execution_count": 27,
   "metadata": {},
   "outputs": [
    {
     "data": {
      "text/plain": [
       "-30322.354618841786"
      ]
     },
     "execution_count": 27,
     "metadata": {},
     "output_type": "execute_result"
    }
   ],
   "source": [
    "from bw_exiobase.lca_batch import *\n",
    "\n",
    "np.fill_diagonal(tech_matrix_withfg2, -tech_matrix_withfg2.diagonal())\n",
    "tech_matrix_withfg2 = -tech_matrix_withfg2\n",
    "\n",
    "rca = ExiobaseLCA()\n",
    "rca.manual_lca(tech_matrix_withfg2, bio_matrix_withfg2, cf_matrix, 0)"
   ]
  }
 ],
 "metadata": {
  "kernelspec": {
   "display_name": "bw2.5",
   "language": "python",
   "name": "python3"
  },
  "language_info": {
   "codemirror_mode": {
    "name": "ipython",
    "version": 3
   },
   "file_extension": ".py",
   "mimetype": "text/x-python",
   "name": "python",
   "nbconvert_exporter": "python",
   "pygments_lexer": "ipython3",
   "version": "3.11.9"
  }
 },
 "nbformat": 4,
 "nbformat_minor": 2
}
