{
 "cells": [
  {
   "cell_type": "markdown",
   "metadata": {
    "vscode": {
     "languageId": "plaintext"
    }
   },
   "source": [
    "# LCA with foreground"
   ]
  },
  {
   "cell_type": "markdown",
   "metadata": {},
   "source": [
    "### Preparation"
   ]
  },
  {
   "cell_type": "markdown",
   "metadata": {},
   "source": [
    "Before use the library, you have to direct to the right brightway project and make sure you have the database."
   ]
  },
  {
   "cell_type": "code",
   "execution_count": 1,
   "metadata": {},
   "outputs": [
    {
     "data": {
      "text/plain": [
       "Databases dictionary with 2 object(s):\n",
       "\tecoinvent-3.11-biosphere\n",
       "\tecoinvent-3.11-consequential"
      ]
     },
     "execution_count": 1,
     "metadata": {},
     "output_type": "execute_result"
    }
   ],
   "source": [
    "import bw2data as bd\n",
    "\n",
    "bd.projects.set_current(\"advlca25\")\n",
    "bd.databases"
   ]
  },
  {
   "cell_type": "markdown",
   "metadata": {},
   "source": [
    "### Run LCA with background"
   ]
  },
  {
   "cell_type": "code",
   "execution_count": 2,
   "metadata": {},
   "outputs": [],
   "source": [
    "import os\n",
    "import sys\n",
    "sys.path.append(os.path.abspath(\"..\"))\n",
    "from bw_bamboo.background_importer import *\n",
    "from bw_bamboo.foreground_importer import *\n",
    "from bw_bamboo.datapackage_builder import *\n",
    "from bw_bamboo.uncertainty_handler import *\n",
    "from bw_bamboo.lca_wrapper import *"
   ]
  },
  {
   "cell_type": "markdown",
   "metadata": {},
   "source": [
    "0. Define some constants for this notebook"
   ]
  },
  {
   "cell_type": "code",
   "execution_count": 3,
   "metadata": {},
   "outputs": [],
   "source": [
    "GHG = [\"CO2 - combustion - air\",\n",
    "        \"CO2 - non combustion - Cement production - air\",\n",
    "        \"CO2 - non combustion - Lime production - air\",\n",
    "        \"CO2 - waste - biogenic - air\", \n",
    "        \"CO2 - waste - fossil - air\",\n",
    "        \"CO2 - agriculture - peat decay - air\", \n",
    "        \"CH4 - agriculture - air\",\n",
    "        \"CH4 - waste - air\",\n",
    "        \"CH4 - combustion - air\",\n",
    "        \"CH4 - non combustion - Extraction/production of (natural) gas - air\",\n",
    "        \"CH4 - non combustion - Extraction/production of crude oil - air\",\n",
    "        \"CH4 - non combustion - Mining of antracite - air\",\n",
    "        \"CH4 - non combustion - Mining of bituminous coal - air\",\n",
    "        \"CH4 - non combustion - Mining of coking coal - air\",\n",
    "        \"CH4 - non combustion - Mining of lignite (brown coal) - air\",\n",
    "        \"CH4 - non combustion - Mining of sub-bituminous coal - air\",\n",
    "        \"CH4 - non combustion - Oil refinery - air\",\n",
    "        \"N2O - combustion - air\",\n",
    "        \"N2O - agriculture - air\",\n",
    "        \"SF6 - air\"]\n",
    "\n",
    "METHOD = ('IPCC 2013', 'climate change', 'global warming potential (GWP100)')\n",
    "FG_EMISSION_FILE = os.path.join(os.getcwd(), \"data\", \"EXIOBASE-ecoinvent-bio-bw-GHG.csv\")\n",
    "EXIOBASE_AGGREGATED_A_FILE = os.path.join(os.getcwd(), \"data/A.txt\")\n",
    "EXIOBASE_AGGREGATED_S_FILE = os.path.join(os.getcwd(), \"data/S.txt\")\n",
    "EMISSION_CODE_FILE = os.path.join(os.getcwd(), \"data/EXIOBASE-ecoinvent-bio-bw-GHG.csv\")\n",
    "FROEGROUND_1 = os.path.join(os.getcwd(), \"data/fg_exiobase_aggregated_1col.csv\")\n",
    "FROEGROUND_2 = os.path.join(os.getcwd(), \"data/fg_exiobase_aggregated_2col.csv\")\n"
   ]
  },
  {
   "cell_type": "markdown",
   "metadata": {},
   "source": [
    "Step 1. Import background"
   ]
  },
  {
   "cell_type": "markdown",
   "metadata": {
    "vscode": {
     "languageId": "plaintext"
    }
   },
   "source": [
    "1. Get technosphere matrix"
   ]
  },
  {
   "cell_type": "code",
   "execution_count": 4,
   "metadata": {},
   "outputs": [],
   "source": [
    "bg_importer = BackgroundImporter()\n",
    "\n",
    "tech_df = pd.read_table(EXIOBASE_AGGREGATED_A_FILE, sep='\\t', header=None, low_memory=False)\n",
    "raw_tech = tech_df.iloc[3:, 2:].astype('float').to_numpy()\n",
    "tech_matrix = bg_importer.form_tech_matrix(raw_tech)"
   ]
  },
  {
   "cell_type": "markdown",
   "metadata": {},
   "source": [
    "2. Get biosphere matrix"
   ]
  },
  {
   "cell_type": "code",
   "execution_count": 5,
   "metadata": {},
   "outputs": [],
   "source": [
    "bio_df = pd.read_csv(EXIOBASE_AGGREGATED_S_FILE, header=[0,1], index_col=[0], sep='\\t', low_memory=False)\n",
    "bio_matrix = bg_importer.form_bio_matrix(bio_df, GHG)"
   ]
  },
  {
   "cell_type": "markdown",
   "metadata": {},
   "source": [
    "3. Get characterization factor matrix"
   ]
  },
  {
   "cell_type": "code",
   "execution_count": 6,
   "metadata": {},
   "outputs": [],
   "source": [
    "# cf_matrix = bg_importer.form_cf_matrix(\"ecoinvent-3.11-biosphere\", METHOD, FG_EMISSION_FILE, GHG)\n",
    "# cf_matrix.diagonal()  # print the diagnal for checking\n",
    "\n",
    "# since 2 of the emissions we chose has no cf value in IPCC2013 method, we assign the values so that we can use.\n",
    "cf_matrix = [1., 1., 1., 1., 1., 1., 27.0, 29.8, 29.8, 29.8, 29.8, 29.8, 29.8, 29.8, 29.8, 29.8, 29.8, 273., 273., 25200.]\n",
    "cf_matrix = np.diagflat(cf_matrix)"
   ]
  },
  {
   "cell_type": "markdown",
   "metadata": {},
   "source": [
    "## Add foreground system with 1 column"
   ]
  },
  {
   "cell_type": "markdown",
   "metadata": {},
   "source": [
    "1. Check out the foreground data"
   ]
  },
  {
   "cell_type": "code",
   "execution_count": 7,
   "metadata": {},
   "outputs": [
    {
     "data": {
      "text/html": [
       "<div>\n",
       "<style scoped>\n",
       "    .dataframe tbody tr th:only-of-type {\n",
       "        vertical-align: middle;\n",
       "    }\n",
       "\n",
       "    .dataframe tbody tr th {\n",
       "        vertical-align: top;\n",
       "    }\n",
       "\n",
       "    .dataframe thead th {\n",
       "        text-align: right;\n",
       "    }\n",
       "</style>\n",
       "<table border=\"1\" class=\"dataframe\">\n",
       "  <thead>\n",
       "    <tr style=\"text-align: right;\">\n",
       "      <th></th>\n",
       "      <th>Activity name</th>\n",
       "      <th>Exchange name</th>\n",
       "      <th>Exchange type</th>\n",
       "      <th>Exchange amount</th>\n",
       "      <th>Exchange uncertainty type</th>\n",
       "      <th>GSD</th>\n",
       "      <th>Exchange negative</th>\n",
       "    </tr>\n",
       "  </thead>\n",
       "  <tbody>\n",
       "    <tr>\n",
       "      <th>0</th>\n",
       "      <td>column_1</td>\n",
       "      <td>EU28-Electricity by biomass and waste</td>\n",
       "      <td>technosphere</td>\n",
       "      <td>-2.340000e-07</td>\n",
       "      <td>2</td>\n",
       "      <td>2.674795</td>\n",
       "      <td>True</td>\n",
       "    </tr>\n",
       "    <tr>\n",
       "      <th>1</th>\n",
       "      <td>column_1</td>\n",
       "      <td>EU28-Electricity by solar photovoltaic</td>\n",
       "      <td>technosphere</td>\n",
       "      <td>-2.010000e-07</td>\n",
       "      <td>2</td>\n",
       "      <td>2.674795</td>\n",
       "      <td>True</td>\n",
       "    </tr>\n",
       "    <tr>\n",
       "      <th>2</th>\n",
       "      <td>column_1</td>\n",
       "      <td>EU28-Electricity by solar thermal</td>\n",
       "      <td>technosphere</td>\n",
       "      <td>0.000000e+00</td>\n",
       "      <td>1</td>\n",
       "      <td>0.000000</td>\n",
       "      <td>False</td>\n",
       "    </tr>\n",
       "    <tr>\n",
       "      <th>3</th>\n",
       "      <td>column_1</td>\n",
       "      <td>EU28-Electricity by tide, wave, ocean</td>\n",
       "      <td>technosphere</td>\n",
       "      <td>-6.780000e-09</td>\n",
       "      <td>2</td>\n",
       "      <td>2.674795</td>\n",
       "      <td>True</td>\n",
       "    </tr>\n",
       "    <tr>\n",
       "      <th>4</th>\n",
       "      <td>column_1</td>\n",
       "      <td>EU28-Electricity by Geothermal</td>\n",
       "      <td>technosphere</td>\n",
       "      <td>-9.350000e-10</td>\n",
       "      <td>2</td>\n",
       "      <td>2.674795</td>\n",
       "      <td>True</td>\n",
       "    </tr>\n",
       "  </tbody>\n",
       "</table>\n",
       "</div>"
      ],
      "text/plain": [
       "  Activity name                           Exchange name Exchange type  \\\n",
       "0      column_1   EU28-Electricity by biomass and waste  technosphere   \n",
       "1      column_1  EU28-Electricity by solar photovoltaic  technosphere   \n",
       "2      column_1       EU28-Electricity by solar thermal  technosphere   \n",
       "3      column_1   EU28-Electricity by tide, wave, ocean  technosphere   \n",
       "4      column_1          EU28-Electricity by Geothermal  technosphere   \n",
       "\n",
       "   Exchange amount  Exchange uncertainty type       GSD Exchange negative  \n",
       "0    -2.340000e-07                          2  2.674795              True  \n",
       "1    -2.010000e-07                          2  2.674795              True  \n",
       "2     0.000000e+00                          1  0.000000             False  \n",
       "3    -6.780000e-09                          2  2.674795              True  \n",
       "4    -9.350000e-10                          2  2.674795              True  "
      ]
     },
     "execution_count": 7,
     "metadata": {},
     "output_type": "execute_result"
    }
   ],
   "source": [
    "fg_tech_df = pd.read_table(FROEGROUND_1, sep=',')\n",
    "fg_tech_df.head()"
   ]
  },
  {
   "cell_type": "markdown",
   "metadata": {},
   "source": [
    "2. Get activities in foreground system."
   ]
  },
  {
   "cell_type": "code",
   "execution_count": 8,
   "metadata": {},
   "outputs": [
    {
     "data": {
      "text/plain": [
       "['column_1']"
      ]
     },
     "execution_count": 8,
     "metadata": {},
     "output_type": "execute_result"
    }
   ],
   "source": [
    "fg_activities_1 = get_fg_activities(FROEGROUND_1, \",\")\n",
    "fg_activities_1"
   ]
  },
  {
   "cell_type": "markdown",
   "metadata": {},
   "source": [
    "3. Get activities in background system."
   ]
  },
  {
   "cell_type": "code",
   "execution_count": 9,
   "metadata": {},
   "outputs": [
    {
     "data": {
      "text/plain": [
       "['EU28-Agriculture-Forestry-Fishing',\n",
       " 'EU28-Energy',\n",
       " 'EU28-Natural gas and services related to natural gas extraction, excluding surveying',\n",
       " 'EU28-Industry',\n",
       " 'EU28-Motor Gasoline']"
      ]
     },
     "execution_count": 9,
     "metadata": {},
     "output_type": "execute_result"
    }
   ],
   "source": [
    "bg_activities_1 = get_bg_activities(EXIOBASE_AGGREGATED_A_FILE, \"\\t\")\n",
    "bg_activities_1[:5] # only list the first five activities here"
   ]
  },
  {
   "cell_type": "markdown",
   "metadata": {},
   "source": [
    "4. Get foreground system matrices"
   ]
  },
  {
   "cell_type": "code",
   "execution_count": 10,
   "metadata": {},
   "outputs": [],
   "source": [
    "fg_importer = ForegroundImporter()\n",
    "\n",
    "fgbg, fgfg, bgfg, bifg = fg_importer.extend_matrix(fg_tech_df, GHG, fg_activities_1, bg_activities_1)"
   ]
  },
  {
   "cell_type": "markdown",
   "metadata": {},
   "source": [
    "5. Concatenate foreground system with background system"
   ]
  },
  {
   "cell_type": "code",
   "execution_count": 11,
   "metadata": {},
   "outputs": [],
   "source": [
    "full_tech_matrix_1, full_bio_matrix_1 = fg_importer.concatenate_matrix(tech_matrix, bio_matrix, fgbg, fgfg, bgfg, bifg)"
   ]
  },
  {
   "cell_type": "markdown",
   "metadata": {},
   "source": [
    "6. Build datapackage"
   ]
  },
  {
   "cell_type": "code",
   "execution_count": 12,
   "metadata": {},
   "outputs": [],
   "source": [
    "dp_builder = DatapackageBuilder()\n",
    "datapackage_data_1 = dp_builder.prepare_bw_matrix(full_tech_matrix_1, full_bio_matrix_1, cf_matrix)\n",
    "datapackage_1 = dp_builder.prepare_datapackage(datapackage_data_1)"
   ]
  },
  {
   "cell_type": "markdown",
   "metadata": {},
   "source": [
    "7. Run static simulation"
   ]
  },
  {
   "cell_type": "code",
   "execution_count": 13,
   "metadata": {},
   "outputs": [
    {
     "name": "stdout",
     "output_type": "stream",
     "text": [
      "Brightway calculated lca score: (-30322.354618841822, 'column_1')\n"
     ]
    }
   ],
   "source": [
    "mysector = 0\n",
    "\n",
    "activities = fg_activities_1 + bg_activities_1\n",
    "\n",
    "lca = bc.LCA(\n",
    "            demand={mysector : 1},\n",
    "            data_objs=[datapackage_1],\n",
    "        )\n",
    "lca.lci()\n",
    "lca.lcia()\n",
    "\n",
    "print(f\"Brightway calculated lca score: {lca.score, activities[mysector]}\")\n"
   ]
  },
  {
   "cell_type": "markdown",
   "metadata": {},
   "source": [
    "## Add foreground system with 2 columns"
   ]
  },
  {
   "cell_type": "markdown",
   "metadata": {},
   "source": [
    "1. Check out the foreground data"
   ]
  },
  {
   "cell_type": "code",
   "execution_count": 14,
   "metadata": {},
   "outputs": [
    {
     "data": {
      "text/html": [
       "<div>\n",
       "<style scoped>\n",
       "    .dataframe tbody tr th:only-of-type {\n",
       "        vertical-align: middle;\n",
       "    }\n",
       "\n",
       "    .dataframe tbody tr th {\n",
       "        vertical-align: top;\n",
       "    }\n",
       "\n",
       "    .dataframe thead th {\n",
       "        text-align: right;\n",
       "    }\n",
       "</style>\n",
       "<table border=\"1\" class=\"dataframe\">\n",
       "  <thead>\n",
       "    <tr style=\"text-align: right;\">\n",
       "      <th></th>\n",
       "      <th>Activity name</th>\n",
       "      <th>Exchange name</th>\n",
       "      <th>Exchange type</th>\n",
       "      <th>Exchange amount</th>\n",
       "      <th>Exchange uncertainty type</th>\n",
       "      <th>GSD</th>\n",
       "      <th>Exchange negative</th>\n",
       "    </tr>\n",
       "  </thead>\n",
       "  <tbody>\n",
       "    <tr>\n",
       "      <th>0</th>\n",
       "      <td>column_1</td>\n",
       "      <td>EU28-Electricity by biomass and waste</td>\n",
       "      <td>technosphere</td>\n",
       "      <td>-2.340000e-07</td>\n",
       "      <td>2</td>\n",
       "      <td>2.674795</td>\n",
       "      <td>True</td>\n",
       "    </tr>\n",
       "    <tr>\n",
       "      <th>1</th>\n",
       "      <td>column_1</td>\n",
       "      <td>EU28-Electricity by solar photovoltaic</td>\n",
       "      <td>technosphere</td>\n",
       "      <td>-2.010000e-07</td>\n",
       "      <td>2</td>\n",
       "      <td>2.674795</td>\n",
       "      <td>True</td>\n",
       "    </tr>\n",
       "    <tr>\n",
       "      <th>2</th>\n",
       "      <td>column_1</td>\n",
       "      <td>EU28-Electricity by solar thermal</td>\n",
       "      <td>technosphere</td>\n",
       "      <td>0.000000e+00</td>\n",
       "      <td>1</td>\n",
       "      <td>0.000000</td>\n",
       "      <td>False</td>\n",
       "    </tr>\n",
       "    <tr>\n",
       "      <th>3</th>\n",
       "      <td>column_1</td>\n",
       "      <td>EU28-Electricity by tide, wave, ocean</td>\n",
       "      <td>technosphere</td>\n",
       "      <td>-6.780000e-09</td>\n",
       "      <td>2</td>\n",
       "      <td>2.674795</td>\n",
       "      <td>True</td>\n",
       "    </tr>\n",
       "    <tr>\n",
       "      <th>4</th>\n",
       "      <td>column_1</td>\n",
       "      <td>EU28-Electricity by Geothermal</td>\n",
       "      <td>technosphere</td>\n",
       "      <td>-9.350000e-10</td>\n",
       "      <td>2</td>\n",
       "      <td>2.674795</td>\n",
       "      <td>True</td>\n",
       "    </tr>\n",
       "  </tbody>\n",
       "</table>\n",
       "</div>"
      ],
      "text/plain": [
       "  Activity name                           Exchange name Exchange type  \\\n",
       "0      column_1   EU28-Electricity by biomass and waste  technosphere   \n",
       "1      column_1  EU28-Electricity by solar photovoltaic  technosphere   \n",
       "2      column_1       EU28-Electricity by solar thermal  technosphere   \n",
       "3      column_1   EU28-Electricity by tide, wave, ocean  technosphere   \n",
       "4      column_1          EU28-Electricity by Geothermal  technosphere   \n",
       "\n",
       "   Exchange amount  Exchange uncertainty type       GSD Exchange negative  \n",
       "0    -2.340000e-07                          2  2.674795              True  \n",
       "1    -2.010000e-07                          2  2.674795              True  \n",
       "2     0.000000e+00                          1  0.000000             False  \n",
       "3    -6.780000e-09                          2  2.674795              True  \n",
       "4    -9.350000e-10                          2  2.674795              True  "
      ]
     },
     "execution_count": 14,
     "metadata": {},
     "output_type": "execute_result"
    }
   ],
   "source": [
    "fg_tech_df_2 = pd.read_table(FROEGROUND_2, sep=',')\n",
    "fg_tech_df_2.head()"
   ]
  },
  {
   "cell_type": "markdown",
   "metadata": {},
   "source": [
    "2. Get activities in foreground system."
   ]
  },
  {
   "cell_type": "code",
   "execution_count": 15,
   "metadata": {},
   "outputs": [
    {
     "data": {
      "text/plain": [
       "['column_1', 'column_2']"
      ]
     },
     "execution_count": 15,
     "metadata": {},
     "output_type": "execute_result"
    }
   ],
   "source": [
    "fg_activities_2 = get_fg_activities(FROEGROUND_2, \",\")\n",
    "fg_activities_2"
   ]
  },
  {
   "cell_type": "markdown",
   "metadata": {},
   "source": [
    "3. Get activities in background system."
   ]
  },
  {
   "cell_type": "code",
   "execution_count": 16,
   "metadata": {},
   "outputs": [
    {
     "data": {
      "text/plain": [
       "['EU28-Agriculture-Forestry-Fishing',\n",
       " 'EU28-Energy',\n",
       " 'EU28-Natural gas and services related to natural gas extraction, excluding surveying',\n",
       " 'EU28-Industry',\n",
       " 'EU28-Motor Gasoline']"
      ]
     },
     "execution_count": 16,
     "metadata": {},
     "output_type": "execute_result"
    }
   ],
   "source": [
    "bg_activities_2 = get_bg_activities(EXIOBASE_AGGREGATED_A_FILE, \"\\t\")\n",
    "bg_activities_2[:5] # only list the first five activities here"
   ]
  },
  {
   "cell_type": "markdown",
   "metadata": {},
   "source": [
    "4. Get foreground system matrices"
   ]
  },
  {
   "cell_type": "code",
   "execution_count": 17,
   "metadata": {},
   "outputs": [],
   "source": [
    "fg_importer = ForegroundImporter()\n",
    "\n",
    "fgbg_2, fgfg_2, bgfg_2, bifg_2 = fg_importer.extend_matrix(fg_tech_df, GHG, fg_activities_2, bg_activities_2)"
   ]
  },
  {
   "cell_type": "markdown",
   "metadata": {},
   "source": [
    "5. Concatenate foreground system with background system"
   ]
  },
  {
   "cell_type": "code",
   "execution_count": 18,
   "metadata": {},
   "outputs": [],
   "source": [
    "full_tech_matrix_2, full_bio_matrix_2 = fg_importer.concatenate_matrix(tech_matrix, bio_matrix, fgbg_2, fgfg_2, bgfg_2, bifg_2)"
   ]
  },
  {
   "cell_type": "markdown",
   "metadata": {},
   "source": [
    "6. Build datapackage"
   ]
  },
  {
   "cell_type": "code",
   "execution_count": 19,
   "metadata": {},
   "outputs": [],
   "source": [
    "dp_builder = DatapackageBuilder()\n",
    "datapackage_data_2 = dp_builder.prepare_bw_matrix(full_tech_matrix_2, full_bio_matrix_2, cf_matrix)\n",
    "datapackage_2 = dp_builder.prepare_datapackage(datapackage_data_2)"
   ]
  },
  {
   "cell_type": "markdown",
   "metadata": {},
   "source": [
    "7. Run static simulation"
   ]
  },
  {
   "cell_type": "code",
   "execution_count": 20,
   "metadata": {},
   "outputs": [
    {
     "name": "stdout",
     "output_type": "stream",
     "text": [
      "Brightway calculated lca score: (-30322.354618841822, 'column_1')\n"
     ]
    }
   ],
   "source": [
    "mysector = 0\n",
    "\n",
    "activities = fg_activities_2 + bg_activities_2\n",
    "\n",
    "lca = bc.LCA(\n",
    "            demand={mysector : 1},\n",
    "            data_objs=[datapackage_2],\n",
    "        )\n",
    "lca.lci()\n",
    "lca.lcia()\n",
    "\n",
    "print(f\"Brightway calculated lca score: {lca.score, activities[mysector]}\")\n"
   ]
  },
  {
   "cell_type": "markdown",
   "metadata": {},
   "source": [
    "## Run the simulation manually to compare"
   ]
  },
  {
   "cell_type": "markdown",
   "metadata": {},
   "source": [
    "1. With both foreground system (1 col) and background system"
   ]
  },
  {
   "cell_type": "code",
   "execution_count": 21,
   "metadata": {},
   "outputs": [
    {
     "data": {
      "text/plain": [
       "-30322.354618841815"
      ]
     },
     "execution_count": 21,
     "metadata": {},
     "output_type": "execute_result"
    }
   ],
   "source": [
    "from bw_bamboo.lca_wrapper import *\n",
    "\n",
    "np.fill_diagonal(full_tech_matrix_1, -full_tech_matrix_1.diagonal())\n",
    "full_tech_matrix_1 = -full_tech_matrix_1\n",
    "\n",
    "rca = LCAWrapper()\n",
    "rca.manual_lca(full_tech_matrix_1, full_bio_matrix_1, cf_matrix, 0)"
   ]
  },
  {
   "cell_type": "markdown",
   "metadata": {},
   "source": [
    "2. With both foreground system (2 cols) and background system"
   ]
  },
  {
   "cell_type": "code",
   "execution_count": 22,
   "metadata": {},
   "outputs": [
    {
     "ename": "LinAlgError",
     "evalue": "Singular matrix",
     "output_type": "error",
     "traceback": [
      "\u001b[0;31m---------------------------------------------------------------------------\u001b[0m",
      "\u001b[0;31mLinAlgError\u001b[0m                               Traceback (most recent call last)",
      "Cell \u001b[0;32mIn[22], line 7\u001b[0m\n\u001b[1;32m      4\u001b[0m full_tech_matrix_2 \u001b[38;5;241m=\u001b[39m \u001b[38;5;241m-\u001b[39mfull_tech_matrix_2\n\u001b[1;32m      6\u001b[0m rca \u001b[38;5;241m=\u001b[39m LCAWrapper()\n\u001b[0;32m----> 7\u001b[0m \u001b[43mrca\u001b[49m\u001b[38;5;241;43m.\u001b[39;49m\u001b[43mmanual_lca\u001b[49m\u001b[43m(\u001b[49m\u001b[43mfull_tech_matrix_2\u001b[49m\u001b[43m,\u001b[49m\u001b[43m \u001b[49m\u001b[43mfull_bio_matrix_2\u001b[49m\u001b[43m,\u001b[49m\u001b[43m \u001b[49m\u001b[43mcf_matrix\u001b[49m\u001b[43m,\u001b[49m\u001b[43m \u001b[49m\u001b[38;5;241;43m0\u001b[39;49m\u001b[43m)\u001b[49m\n",
      "File \u001b[0;32m~/Documents/github/brightway-exiobase/bw_bamboo/lca_wrapper.py:69\u001b[0m, in \u001b[0;36mLCAWrapper.manual_lca\u001b[0;34m(self, A, B, C, index)\u001b[0m\n\u001b[1;32m     67\u001b[0m f \u001b[38;5;241m=\u001b[39m np\u001b[38;5;241m.\u001b[39mzeros((\u001b[38;5;28mlen\u001b[39m(A), \u001b[38;5;241m1\u001b[39m))\n\u001b[1;32m     68\u001b[0m f[index] \u001b[38;5;241m=\u001b[39m \u001b[38;5;241m1\u001b[39m\n\u001b[0;32m---> 69\u001b[0m lca_score \u001b[38;5;241m=\u001b[39m np\u001b[38;5;241m.\u001b[39msum(C\u001b[38;5;241m.\u001b[39mdot(B\u001b[38;5;241m.\u001b[39mdot((\u001b[43mnp\u001b[49m\u001b[38;5;241;43m.\u001b[39;49m\u001b[43mlinalg\u001b[49m\u001b[38;5;241;43m.\u001b[39;49m\u001b[43minv\u001b[49m\u001b[43m(\u001b[49m\u001b[43mA\u001b[49m\u001b[43m)\u001b[49m)\u001b[38;5;241m.\u001b[39mdot(f))))\n\u001b[1;32m     71\u001b[0m \u001b[38;5;28;01mreturn\u001b[39;00m \u001b[38;5;28mfloat\u001b[39m(lca_score)\n",
      "File \u001b[0;32m/opt/miniconda3/envs/bw2.5/lib/python3.11/site-packages/numpy/linalg/linalg.py:561\u001b[0m, in \u001b[0;36minv\u001b[0;34m(a)\u001b[0m\n\u001b[1;32m    559\u001b[0m signature \u001b[38;5;241m=\u001b[39m \u001b[38;5;124m'\u001b[39m\u001b[38;5;124mD->D\u001b[39m\u001b[38;5;124m'\u001b[39m \u001b[38;5;28;01mif\u001b[39;00m isComplexType(t) \u001b[38;5;28;01melse\u001b[39;00m \u001b[38;5;124m'\u001b[39m\u001b[38;5;124md->d\u001b[39m\u001b[38;5;124m'\u001b[39m\n\u001b[1;32m    560\u001b[0m extobj \u001b[38;5;241m=\u001b[39m get_linalg_error_extobj(_raise_linalgerror_singular)\n\u001b[0;32m--> 561\u001b[0m ainv \u001b[38;5;241m=\u001b[39m \u001b[43m_umath_linalg\u001b[49m\u001b[38;5;241;43m.\u001b[39;49m\u001b[43minv\u001b[49m\u001b[43m(\u001b[49m\u001b[43ma\u001b[49m\u001b[43m,\u001b[49m\u001b[43m \u001b[49m\u001b[43msignature\u001b[49m\u001b[38;5;241;43m=\u001b[39;49m\u001b[43msignature\u001b[49m\u001b[43m,\u001b[49m\u001b[43m \u001b[49m\u001b[43mextobj\u001b[49m\u001b[38;5;241;43m=\u001b[39;49m\u001b[43mextobj\u001b[49m\u001b[43m)\u001b[49m\n\u001b[1;32m    562\u001b[0m \u001b[38;5;28;01mreturn\u001b[39;00m wrap(ainv\u001b[38;5;241m.\u001b[39mastype(result_t, copy\u001b[38;5;241m=\u001b[39m\u001b[38;5;28;01mFalse\u001b[39;00m))\n",
      "File \u001b[0;32m/opt/miniconda3/envs/bw2.5/lib/python3.11/site-packages/numpy/linalg/linalg.py:112\u001b[0m, in \u001b[0;36m_raise_linalgerror_singular\u001b[0;34m(err, flag)\u001b[0m\n\u001b[1;32m    111\u001b[0m \u001b[38;5;28;01mdef\u001b[39;00m \u001b[38;5;21m_raise_linalgerror_singular\u001b[39m(err, flag):\n\u001b[0;32m--> 112\u001b[0m     \u001b[38;5;28;01mraise\u001b[39;00m LinAlgError(\u001b[38;5;124m\"\u001b[39m\u001b[38;5;124mSingular matrix\u001b[39m\u001b[38;5;124m\"\u001b[39m)\n",
      "\u001b[0;31mLinAlgError\u001b[0m: Singular matrix"
     ]
    }
   ],
   "source": [
    "from bw_bamboo.lca_wrapper import *\n",
    "\n",
    "np.fill_diagonal(full_tech_matrix_2, -full_tech_matrix_2.diagonal())\n",
    "full_tech_matrix_2 = -full_tech_matrix_2\n",
    "\n",
    "rca = LCAWrapper()\n",
    "rca.manual_lca(full_tech_matrix_2, full_bio_matrix_2, cf_matrix, 0)"
   ]
  }
 ],
 "metadata": {
  "kernelspec": {
   "display_name": "bw2.5",
   "language": "python",
   "name": "python3"
  },
  "language_info": {
   "codemirror_mode": {
    "name": "ipython",
    "version": 3
   },
   "file_extension": ".py",
   "mimetype": "text/x-python",
   "name": "python",
   "nbconvert_exporter": "python",
   "pygments_lexer": "ipython3",
   "version": "3.11.9"
  }
 },
 "nbformat": 4,
 "nbformat_minor": 2
}
