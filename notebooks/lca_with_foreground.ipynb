{
 "cells": [
  {
   "cell_type": "markdown",
   "metadata": {
    "vscode": {
     "languageId": "plaintext"
    }
   },
   "source": [
    "# LCA with foreground"
   ]
  },
  {
   "cell_type": "markdown",
   "metadata": {},
   "source": [
    "This notebook demonstrates how to include foregrounds system into sensitivity analysis. The background database is manipulated as matrix, so as the foreground system. To run the LCA simulation, the library designed to place the foreground system in the right left corner."
   ]
  },
  {
   "cell_type": "markdown",
   "metadata": {},
   "source": [
    "### Preparation"
   ]
  },
  {
   "cell_type": "markdown",
   "metadata": {},
   "source": [
    "1. Direct to the correct Brightway project and ensure the background database is loaded."
   ]
  },
  {
   "cell_type": "code",
   "execution_count": 1,
   "metadata": {},
   "outputs": [
    {
     "data": {
      "text/plain": [
       "Databases dictionary with 4 object(s):\n",
       "\tALIGNED-biob-prod-dummy\n",
       "\tecoinvent-3.11-biosphere\n",
       "\tecoinvent-3.11-consequential\n",
       "\texldb"
      ]
     },
     "execution_count": 1,
     "metadata": {},
     "output_type": "execute_result"
    }
   ],
   "source": [
    "import bw2data as bd\n",
    "\n",
    "bd.projects.set_current(\"advlca25\")\n",
    "bd.databases"
   ]
  },
  {
   "cell_type": "markdown",
   "metadata": {},
   "source": [
    "2. Importing required libraries"
   ]
  },
  {
   "cell_type": "code",
   "execution_count": 2,
   "metadata": {},
   "outputs": [],
   "source": [
    "import os\n",
    "import sys\n",
    "sys.path.append(os.path.abspath(\"..\"))\n",
    "from bw_bamboo.background_importer import *\n",
    "from bw_bamboo.foreground_importer import *\n",
    "from bw_bamboo.datapackage_builder import *\n",
    "from bw_bamboo.uncertainty_handler import *\n",
    "from bw_bamboo.lca_wrapper import *\n",
    "from bw_bamboo.uncertainty_importer import *"
   ]
  },
  {
   "cell_type": "markdown",
   "metadata": {},
   "source": [
    "3. Define some constants"
   ]
  },
  {
   "cell_type": "code",
   "execution_count": 3,
   "metadata": {},
   "outputs": [],
   "source": [
    "GHG = [\"CO2 - combustion - air\",\n",
    "        \"CO2 - non combustion - Cement production - air\",\n",
    "        \"CO2 - non combustion - Lime production - air\",\n",
    "        \"CO2 - waste - fossil - air\",\n",
    "        \"CH4 - agriculture - air\",\n",
    "        \"CH4 - waste - air\",\n",
    "        \"CH4 - combustion - air\",\n",
    "        \"CH4 - non combustion - Extraction/production of (natural) gas - air\",\n",
    "        \"CH4 - non combustion - Extraction/production of crude oil - air\",\n",
    "        \"CH4 - non combustion - Mining of antracite - air\",\n",
    "        \"CH4 - non combustion - Mining of bituminous coal - air\",\n",
    "        \"CH4 - non combustion - Mining of coking coal - air\",\n",
    "        \"CH4 - non combustion - Mining of lignite (brown coal) - air\",\n",
    "        \"CH4 - non combustion - Mining of sub-bituminous coal - air\",\n",
    "        \"CH4 - non combustion - Oil refinery - air\",\n",
    "        \"N2O - combustion - air\",\n",
    "        \"N2O - agriculture - air\",\n",
    "        \"SF6 - air\"]\n",
    "\n",
    "METHOD = ('ecoinvent-3.11', 'IPCC 2013', 'climate change', 'global temperature change potential (GTP100)')\n",
    "\n",
    "# BACKGROUND DATABASE FILE PATH\n",
    "EXIOBASE_AGGREGATED_A_FILE = os.path.join(os.getcwd(), \"data/A.txt\")\n",
    "EXIOBASE_AGGREGATED_S_FILE = os.path.join(os.getcwd(), \"data/S.txt\")\n",
    "\n",
    "# FOREGROUND DATABASE FILE PATH\n",
    "FOREGROUND_1 = os.path.join(os.getcwd(), \"data/foreground_system_1.csv\")\n",
    "FOREGROUND_2 = os.path.join(os.getcwd(), \"data/foreground_system_2.csv\")\n",
    "\n",
    "# CHARACTERIZATION FACTOR MAPPING FILE PATH\n",
    "CF_MAPPING_FILE = os.path.join(os.getcwd(), \"data/cf_mapping_file.csv\")"
   ]
  },
  {
   "cell_type": "markdown",
   "metadata": {},
   "source": [
    "### Step 1: Get the background database matrices"
   ]
  },
  {
   "cell_type": "markdown",
   "metadata": {
    "vscode": {
     "languageId": "plaintext"
    }
   },
   "source": [
    "1. Get technosphere matrix"
   ]
  },
  {
   "cell_type": "code",
   "execution_count": 4,
   "metadata": {},
   "outputs": [
    {
     "name": "stdout",
     "output_type": "stream",
     "text": [
      "The shape of technosphere matrix is: (76, 76)\n"
     ]
    }
   ],
   "source": [
    "bg_importer = BackgroundImporter()\n",
    "\n",
    "tech_df = pd.read_table(EXIOBASE_AGGREGATED_A_FILE, sep='\\t', header=None, low_memory=False)\n",
    "raw_tech = tech_df.iloc[3:, 2:].astype('float').to_numpy()\n",
    "tech_matrix = bg_importer.build_tech_matrix(raw_tech)\n",
    "\n",
    "print(f\"The shape of technosphere matrix is: {tech_matrix.shape}\")"
   ]
  },
  {
   "cell_type": "markdown",
   "metadata": {},
   "source": [
    "2. Get biosphere matrix"
   ]
  },
  {
   "cell_type": "code",
   "execution_count": 5,
   "metadata": {},
   "outputs": [
    {
     "name": "stdout",
     "output_type": "stream",
     "text": [
      "The shape of biosphere matrix is: (18, 76)\n"
     ]
    }
   ],
   "source": [
    "bio_df = pd.read_csv(EXIOBASE_AGGREGATED_S_FILE, header=[0,1], index_col=[0], sep='\\t', low_memory=False)\n",
    "bio_matrix = bg_importer.build_bio_matrix(bio_df, GHG)\n",
    "\n",
    "print(f\"The shape of biosphere matrix is: {bio_matrix.shape}\")"
   ]
  },
  {
   "cell_type": "markdown",
   "metadata": {},
   "source": [
    "3. Get characterization factor matrix"
   ]
  },
  {
   "cell_type": "code",
   "execution_count": 6,
   "metadata": {},
   "outputs": [
    {
     "name": "stdout",
     "output_type": "stream",
     "text": [
      "All characterization factors have been found.\n",
      "The diagonal values of characterization factor matrix: \n",
      " [1.00000000e+00 1.00000000e+00 1.00000000e+00 1.00000000e+00\n",
      " 4.30000000e+00 5.70000000e+00 5.70000000e+00 5.70000000e+00\n",
      " 5.70000000e+00 5.70000000e+00 5.70000000e+00 5.70000000e+00\n",
      " 5.70000000e+00 5.70000000e+00 5.70000000e+00 2.34200000e+02\n",
      " 2.34200000e+02 2.82148093e+04]\n"
     ]
    }
   ],
   "source": [
    "# get characterization factor matrix from code.\n",
    "cf_matrix = bg_importer.build_cf_matrix(CF_MAPPING_FILE, GHG, \"ecoinvent-3.11-biosphere\", METHOD, source=\"code\")\n",
    "\n",
    "# print the diagonal to check the values.\n",
    "print(f\"The diagonal values of characterization factor matrix: \\n {cf_matrix.diagonal()}\")"
   ]
  },
  {
   "cell_type": "code",
   "execution_count": 7,
   "metadata": {},
   "outputs": [
    {
     "name": "stdout",
     "output_type": "stream",
     "text": [
      "All characterization factors have been found.\n",
      "The diagonal values of characterization factor matrix: \n",
      " [1.00e+00 1.00e+00 1.00e+00 1.00e+00 2.70e+01 2.98e+01 2.98e+01 2.98e+01\n",
      " 2.98e+01 2.98e+01 2.98e+01 2.98e+01 2.98e+01 2.98e+01 2.98e+01 2.73e+02\n",
      " 2.73e+02 2.52e+04]\n"
     ]
    }
   ],
   "source": [
    "# get characterization factor matrix from the file directly.\n",
    "cf_matrix = bg_importer.build_cf_matrix(CF_MAPPING_FILE, GHG)  # By default, source=\"cf\", so you can omit some parameters.\n",
    "\n",
    "# print the diagonal to check the values.\n",
    "print(f\"The diagonal values of characterization factor matrix: \\n {cf_matrix.diagonal()}\")"
   ]
  },
  {
   "cell_type": "markdown",
   "metadata": {},
   "source": [
    "### Step 2: Import the foreground database"
   ]
  },
  {
   "cell_type": "markdown",
   "metadata": {},
   "source": [
    "4. Check out the foreground data"
   ]
  },
  {
   "cell_type": "code",
   "execution_count": 8,
   "metadata": {},
   "outputs": [
    {
     "data": {
      "text/html": [
       "<div>\n",
       "<style scoped>\n",
       "    .dataframe tbody tr th:only-of-type {\n",
       "        vertical-align: middle;\n",
       "    }\n",
       "\n",
       "    .dataframe tbody tr th {\n",
       "        vertical-align: top;\n",
       "    }\n",
       "\n",
       "    .dataframe thead th {\n",
       "        text-align: right;\n",
       "    }\n",
       "</style>\n",
       "<table border=\"1\" class=\"dataframe\">\n",
       "  <thead>\n",
       "    <tr style=\"text-align: right;\">\n",
       "      <th></th>\n",
       "      <th>Activity name</th>\n",
       "      <th>Exchange name</th>\n",
       "      <th>Exchange type</th>\n",
       "      <th>Exchange amount</th>\n",
       "      <th>Exchange uncertainty type</th>\n",
       "      <th>GSD</th>\n",
       "      <th>Exchange negative</th>\n",
       "    </tr>\n",
       "  </thead>\n",
       "  <tbody>\n",
       "    <tr>\n",
       "      <th>0</th>\n",
       "      <td>column_1</td>\n",
       "      <td>EU28-Agriculture-Forestry-Fishing</td>\n",
       "      <td>technosphere</td>\n",
       "      <td>0.000000</td>\n",
       "      <td>0</td>\n",
       "      <td>NaN</td>\n",
       "      <td>NaN</td>\n",
       "    </tr>\n",
       "    <tr>\n",
       "      <th>1</th>\n",
       "      <td>column_1</td>\n",
       "      <td>EU28-Energy</td>\n",
       "      <td>technosphere</td>\n",
       "      <td>NaN</td>\n",
       "      <td>0</td>\n",
       "      <td>NaN</td>\n",
       "      <td>NaN</td>\n",
       "    </tr>\n",
       "    <tr>\n",
       "      <th>2</th>\n",
       "      <td>column_1</td>\n",
       "      <td>EU28-Natural gas and services related to natur...</td>\n",
       "      <td>technosphere</td>\n",
       "      <td>NaN</td>\n",
       "      <td>0</td>\n",
       "      <td>NaN</td>\n",
       "      <td>NaN</td>\n",
       "    </tr>\n",
       "    <tr>\n",
       "      <th>3</th>\n",
       "      <td>column_1</td>\n",
       "      <td>EU28-Industry</td>\n",
       "      <td>technosphere</td>\n",
       "      <td>0.000001</td>\n",
       "      <td>2</td>\n",
       "      <td>3.330005</td>\n",
       "      <td>False</td>\n",
       "    </tr>\n",
       "    <tr>\n",
       "      <th>4</th>\n",
       "      <td>column_1</td>\n",
       "      <td>EU28-Motor Gasoline</td>\n",
       "      <td>technosphere</td>\n",
       "      <td>-0.000016</td>\n",
       "      <td>2</td>\n",
       "      <td>1.540000</td>\n",
       "      <td>True</td>\n",
       "    </tr>\n",
       "  </tbody>\n",
       "</table>\n",
       "</div>"
      ],
      "text/plain": [
       "  Activity name                                      Exchange name  \\\n",
       "0      column_1                  EU28-Agriculture-Forestry-Fishing   \n",
       "1      column_1                                        EU28-Energy   \n",
       "2      column_1  EU28-Natural gas and services related to natur...   \n",
       "3      column_1                                      EU28-Industry   \n",
       "4      column_1                                EU28-Motor Gasoline   \n",
       "\n",
       "  Exchange type  Exchange amount  Exchange uncertainty type       GSD  \\\n",
       "0  technosphere         0.000000                          0       NaN   \n",
       "1  technosphere              NaN                          0       NaN   \n",
       "2  technosphere              NaN                          0       NaN   \n",
       "3  technosphere         0.000001                          2  3.330005   \n",
       "4  technosphere        -0.000016                          2  1.540000   \n",
       "\n",
       "  Exchange negative  \n",
       "0               NaN  \n",
       "1               NaN  \n",
       "2               NaN  \n",
       "3             False  \n",
       "4              True  "
      ]
     },
     "execution_count": 8,
     "metadata": {},
     "output_type": "execute_result"
    }
   ],
   "source": [
    "fg_tech_df = pd.read_table(FOREGROUND_2, sep=',')\n",
    "fg_tech_df.head()"
   ]
  },
  {
   "cell_type": "markdown",
   "metadata": {},
   "source": [
    "5. Get activities in foreground system."
   ]
  },
  {
   "cell_type": "code",
   "execution_count": 9,
   "metadata": {},
   "outputs": [
    {
     "data": {
      "text/plain": [
       "['column_1', 'column_2']"
      ]
     },
     "execution_count": 9,
     "metadata": {},
     "output_type": "execute_result"
    }
   ],
   "source": [
    "fg_activities = get_fg_activities(FOREGROUND_2, \",\")\n",
    "fg_activities"
   ]
  },
  {
   "cell_type": "markdown",
   "metadata": {},
   "source": [
    "6. Get activities in background system."
   ]
  },
  {
   "cell_type": "code",
   "execution_count": 10,
   "metadata": {},
   "outputs": [
    {
     "data": {
      "text/plain": [
       "['EU28-Agriculture-Forestry-Fishing',\n",
       " 'EU28-Energy',\n",
       " 'EU28-Natural gas and services related to natural gas extraction, excluding surveying',\n",
       " 'EU28-Industry',\n",
       " 'EU28-Motor Gasoline']"
      ]
     },
     "execution_count": 10,
     "metadata": {},
     "output_type": "execute_result"
    }
   ],
   "source": [
    "bg_activities = get_bg_activities(EXIOBASE_AGGREGATED_A_FILE, \"\\t\")\n",
    "bg_activities[:5] # only list the first five activities here"
   ]
  },
  {
   "cell_type": "markdown",
   "metadata": {},
   "source": [
    "7. Get foreground system matrices"
   ]
  },
  {
   "cell_type": "code",
   "execution_count": 11,
   "metadata": {},
   "outputs": [],
   "source": [
    "fg_importer = ForegroundImporter()\n",
    "\n",
    "fgbg, fgfg, bgfg, bifg = fg_importer.extend_matrix(fg_tech_df, GHG, fg_activities, bg_activities)"
   ]
  },
  {
   "cell_type": "markdown",
   "metadata": {},
   "source": [
    "8. Concatenate foreground system with background system"
   ]
  },
  {
   "cell_type": "code",
   "execution_count": 12,
   "metadata": {},
   "outputs": [
    {
     "name": "stdout",
     "output_type": "stream",
     "text": [
      "Technosphere shape change from (76, 76) to (78, 78).\n",
      "Biosphere shape change from (18, 76) to (18, 78).\n"
     ]
    }
   ],
   "source": [
    "full_tech_matrix, full_bio_matrix = fg_importer.concatenate_matrix(tech_matrix, bio_matrix, fgbg, fgfg, bgfg, bifg)\n",
    "\n",
    "# to compare the matrix before and after concatenate with foreground system\n",
    "print(f\"Technosphere shape change from {tech_matrix.shape} to {full_tech_matrix.shape}.\")\n",
    "print(f\"Biosphere shape change from {bio_matrix.shape} to {full_bio_matrix.shape}.\")"
   ]
  },
  {
   "cell_type": "markdown",
   "metadata": {},
   "source": [
    "### Step 3: Build datapackage"
   ]
  },
  {
   "cell_type": "markdown",
   "metadata": {},
   "source": [
    "9. Build datapackage"
   ]
  },
  {
   "cell_type": "code",
   "execution_count": 13,
   "metadata": {},
   "outputs": [],
   "source": [
    "dp_builder = DatapackageBuilder()\n",
    "datapackage_data = dp_builder.prepare_dp_matrix(full_tech_matrix, full_bio_matrix, cf_matrix)\n",
    "datapackage = dp_builder.prepare_datapackage(datapackage_data)"
   ]
  },
  {
   "cell_type": "markdown",
   "metadata": {},
   "source": [
    "### Step 4: Run the simulation"
   ]
  },
  {
   "cell_type": "markdown",
   "metadata": {},
   "source": [
    "10. Run static simulation"
   ]
  },
  {
   "cell_type": "code",
   "execution_count": 14,
   "metadata": {},
   "outputs": [
    {
     "name": "stdout",
     "output_type": "stream",
     "text": [
      "Brightway calculated lca score: (1111401.9185845114, 'RoW-Collected and purified water, distribution services of water (41)')\n"
     ]
    }
   ],
   "source": [
    "mysector = 69  # RoW-Services\n",
    "\n",
    "activities = fg_activities + bg_activities\n",
    "\n",
    "lca = bc.LCA(\n",
    "            demand={mysector : 1},\n",
    "            data_objs=[datapackage],\n",
    "        )\n",
    "lca.lci()\n",
    "lca.lcia()\n",
    "\n",
    "print(f\"Brightway calculated lca score: {lca.score, activities[mysector]}\")\n"
   ]
  },
  {
   "cell_type": "markdown",
   "metadata": {},
   "source": [
    "### Step 5: Build datapackage"
   ]
  },
  {
   "cell_type": "markdown",
   "metadata": {},
   "source": [
    "2. With both foreground system (2 cols) and background system"
   ]
  },
  {
   "cell_type": "code",
   "execution_count": 16,
   "metadata": {},
   "outputs": [
    {
     "data": {
      "text/plain": [
       "1111401.9185845105"
      ]
     },
     "execution_count": 16,
     "metadata": {},
     "output_type": "execute_result"
    }
   ],
   "source": [
    "from bw_bamboo.lca_wrapper import *\n",
    "\n",
    "full_tech_matrix_manual = full_tech_matrix.copy()\n",
    "\n",
    "np.fill_diagonal(full_tech_matrix_manual, -full_tech_matrix_manual.diagonal())\n",
    "full_tech_matrix_manual = -full_tech_matrix_manual\n",
    "\n",
    "rca = LCAWrapper()\n",
    "rca.manual_lca(full_tech_matrix_manual, full_bio_matrix, cf_matrix, mysector)"
   ]
  }
 ],
 "metadata": {
  "kernelspec": {
   "display_name": "bw2.5",
   "language": "python",
   "name": "python3"
  },
  "language_info": {
   "codemirror_mode": {
    "name": "ipython",
    "version": 3
   },
   "file_extension": ".py",
   "mimetype": "text/x-python",
   "name": "python",
   "nbconvert_exporter": "python",
   "pygments_lexer": "ipython3",
   "version": "3.11.9"
  }
 },
 "nbformat": 4,
 "nbformat_minor": 2
}
